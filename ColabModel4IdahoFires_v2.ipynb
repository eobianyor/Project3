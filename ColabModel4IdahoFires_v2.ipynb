{
  "nbformat": 4,
  "nbformat_minor": 0,
  "metadata": {
    "colab": {
      "name": "Model4IdahoFires_v2.ipynb",
      "provenance": [],
      "collapsed_sections": [],
      "authorship_tag": "ABX9TyNpXeqzb0PSuTPjFdev7PYK",
      "include_colab_link": true
    },
    "kernelspec": {
      "name": "python3",
      "display_name": "Python 3"
    }
  },
  "cells": [
    {
      "cell_type": "markdown",
      "metadata": {
        "id": "view-in-github",
        "colab_type": "text"
      },
      "source": [
        "<a href=\"https://colab.research.google.com/github/eobianyor/Project3/blob/main/ColabModel4IdahoFires_v2.ipynb\" target=\"_parent\"><img src=\"https://colab.research.google.com/assets/colab-badge.svg\" alt=\"Open In Colab\"/></a>"
      ]
    },
    {
      "cell_type": "code",
      "metadata": {
        "id": "fRhkcbWDUAri",
        "colab": {
          "base_uri": "https://localhost:8080/"
        },
        "outputId": "36b37b9c-6a8e-4430-acd1-0d72e7b1a8b4"
      },
      "source": [
        "import os\r\n",
        "# Find the latest version of spark 3.0  from http://www-us.apache.org/dist/spark/ and enter as the spark version\r\n",
        "# For example:\r\n",
        "# spark_version = 'spark-3.0.1'\r\n",
        "spark_version = 'spark-3.0.2'\r\n",
        "os.environ['SPARK_VERSION']=spark_version\r\n",
        "\r\n",
        "# Install Spark and Java\r\n",
        "!apt-get update\r\n",
        "!apt-get install openjdk-11-jdk-headless -qq > /dev/null\r\n",
        "!wget -q http://www-us.apache.org/dist/spark/$SPARK_VERSION/$SPARK_VERSION-bin-hadoop2.7.tgz\r\n",
        "!tar xf $SPARK_VERSION-bin-hadoop2.7.tgz\r\n",
        "!pip install -q findspark\r\n",
        "\r\n",
        "# Set Environment Variables\r\n",
        "os.environ[\"JAVA_HOME\"] = \"/usr/lib/jvm/java-11-openjdk-amd64\"\r\n",
        "os.environ[\"SPARK_HOME\"] = f\"/content/{spark_version}-bin-hadoop2.7\"\r\n",
        "\r\n",
        "# Start a SparkSession\r\n",
        "import findspark\r\n",
        "findspark.init()"
      ],
      "execution_count": 3,
      "outputs": [
        {
          "output_type": "stream",
          "text": [
            "\r0% [Working]\r            \rGet:1 https://cloud.r-project.org/bin/linux/ubuntu bionic-cran40/ InRelease [3,626 B]\n",
            "\r0% [Connecting to archive.ubuntu.com] [Connecting to security.ubuntu.com (91.18\r0% [Connecting to archive.ubuntu.com] [Connecting to security.ubuntu.com (91.18\r0% [1 InRelease gpgv 3,626 B] [Connecting to archive.ubuntu.com (91.189.88.152)\r                                                                               \rIgn:2 https://developer.download.nvidia.com/compute/cuda/repos/ubuntu1804/x86_64  InRelease\n",
            "\r0% [1 InRelease gpgv 3,626 B] [Connecting to archive.ubuntu.com (91.189.88.152)\r                                                                               \rIgn:3 https://developer.download.nvidia.com/compute/machine-learning/repos/ubuntu1804/x86_64  InRelease\n",
            "\r0% [1 InRelease gpgv 3,626 B] [Connecting to archive.ubuntu.com (91.189.88.152)\r                                                                               \rGet:4 https://developer.download.nvidia.com/compute/cuda/repos/ubuntu1804/x86_64  Release [697 B]\n",
            "\r0% [1 InRelease gpgv 3,626 B] [Connecting to archive.ubuntu.com (91.189.88.152)\r0% [1 InRelease gpgv 3,626 B] [Connecting to archive.ubuntu.com (91.189.88.152)\r                                                                               \rGet:5 http://ppa.launchpad.net/c2d4u.team/c2d4u4.0+/ubuntu bionic InRelease [15.9 kB]\n",
            "\r0% [1 InRelease gpgv 3,626 B] [Connecting to archive.ubuntu.com (91.189.88.152)\r                                                                               \rHit:6 https://developer.download.nvidia.com/compute/machine-learning/repos/ubuntu1804/x86_64  Release\n",
            "\r0% [1 InRelease gpgv 3,626 B] [Waiting for headers] [Waiting for headers] [5 In\r                                                                               \rGet:7 http://security.ubuntu.com/ubuntu bionic-security InRelease [88.7 kB]\n",
            "Get:8 https://developer.download.nvidia.com/compute/cuda/repos/ubuntu1804/x86_64  Release.gpg [836 B]\n",
            "Hit:9 http://archive.ubuntu.com/ubuntu bionic InRelease\n",
            "Get:10 http://archive.ubuntu.com/ubuntu bionic-updates InRelease [88.7 kB]\n",
            "Hit:11 http://ppa.launchpad.net/cran/libgit2/ubuntu bionic InRelease\n",
            "Hit:13 http://ppa.launchpad.net/deadsnakes/ppa/ubuntu bionic InRelease\n",
            "Get:14 http://archive.ubuntu.com/ubuntu bionic-backports InRelease [74.6 kB]\n",
            "Ign:15 https://developer.download.nvidia.com/compute/cuda/repos/ubuntu1804/x86_64  Packages\n",
            "Get:15 https://developer.download.nvidia.com/compute/cuda/repos/ubuntu1804/x86_64  Packages [602 kB]\n",
            "Hit:16 http://ppa.launchpad.net/graphics-drivers/ppa/ubuntu bionic InRelease\n",
            "Get:17 http://ppa.launchpad.net/c2d4u.team/c2d4u4.0+/ubuntu bionic/main Sources [1,746 kB]\n",
            "Get:18 http://security.ubuntu.com/ubuntu bionic-security/main amd64 Packages [1,995 kB]\n",
            "Get:19 http://archive.ubuntu.com/ubuntu bionic-updates/restricted amd64 Packages [363 kB]\n",
            "Get:20 http://ppa.launchpad.net/c2d4u.team/c2d4u4.0+/ubuntu bionic/main amd64 Packages [893 kB]\n",
            "Get:21 http://archive.ubuntu.com/ubuntu bionic-updates/universe amd64 Packages [2,165 kB]\n",
            "Get:22 http://security.ubuntu.com/ubuntu bionic-security/universe amd64 Packages [1,398 kB]\n",
            "Get:23 http://security.ubuntu.com/ubuntu bionic-security/restricted amd64 Packages [333 kB]\n",
            "Get:24 http://archive.ubuntu.com/ubuntu bionic-updates/main amd64 Packages [2,425 kB]\n",
            "Fetched 12.2 MB in 3s (3,579 kB/s)\n",
            "Reading package lists... Done\n"
          ],
          "name": "stdout"
        }
      ]
    },
    {
      "cell_type": "markdown",
      "metadata": {
        "id": "JL6BPo_FKFvK"
      },
      "source": [
        ""
      ]
    },
    {
      "cell_type": "code",
      "metadata": {
        "id": "A_PUGjT9KGRZ"
      },
      "source": [
        "# IMPORT DEPENDENCIES\r\n",
        "# FOR DATA\r\n",
        "import pandas as pd\r\n",
        "# import os\r\n",
        "import csv\r\n",
        "import math\r\n",
        "import numpy as np\r\n",
        "from numpy import logspace\r\n",
        "import time\r\n",
        "import datetime\r\n",
        "# import requests\r\n",
        "# import datefinder\r\n",
        "\r\n",
        "# # FOR SQL LITE\r\n",
        "# from sqlalchemy import create_engine\r\n",
        "# from datetime import date\r\n",
        "\r\n",
        "# # FOR PLOTTING\r\n",
        "import matplotlib.pyplot as plt\r\n",
        "from matplotlib import style\r\n",
        "style.use(\"fivethirtyeight\")\r\n",
        "from matplotlib import rcParams\r\n",
        "rcParams['figure.figsize'] = 10, 8\r\n",
        "\r\n",
        "# FOR MODELING\r\n",
        "from sklearn.model_selection import train_test_split\r\n",
        "from keras.utils import to_categorical\r\n",
        "\r\n",
        "# FOR KNN AND OTHER MODELS\r\n",
        "from scipy.optimize import curve_fit\r\n",
        "# from splinter import Browser\r\n",
        "# from bs4 import BeautifulSoup as BS\r\n",
        "from sklearn.svm import SVC\r\n",
        "from sklearn.datasets import load_iris\r\n",
        "from sklearn.datasets import make_blobs\r\n",
        "from sklearn.model_selection import GridSearchCV\r\n",
        "from sklearn.model_selection import KFold\r\n",
        "from sklearn.model_selection import cross_val_score\r\n",
        "from sklearn.neighbors import KNeighborsClassifier\r\n",
        "from sklearn.preprocessing import StandardScaler\r\n",
        "from sklearn.datasets import make_classification\r\n",
        "\r\n",
        "# # FOR TF MODELS\r\n",
        "# import keras.models\r\n",
        "# import keras.layers\r\n",
        "# import keras.utils\r\n",
        "# from keras.models import Sequential\r\n",
        "# from keras.layers import Dense, Dropout"
      ],
      "execution_count": 4,
      "outputs": []
    },
    {
      "cell_type": "code",
      "metadata": {
        "colab": {
          "base_uri": "https://localhost:8080/"
        },
        "id": "k9hJpjj8RiOI",
        "outputId": "ab11aa5f-f067-4cd5-bff3-8cc365f340f2"
      },
      "source": [
        "# IMPORT LIBRARIES FOR COLAB\r\n",
        "# =========================================================\r\n",
        "#               Python Libraries for Colab\r\n",
        "# =========================================================\r\n",
        "import sys\r\n",
        "# ---------------------------------------------------------\r\n",
        "from google.colab import drive\r\n",
        "\r\n",
        "# =========================================================\r\n",
        "#               Mount Google Drive to Colab\r\n",
        "# =========================================================\r\n",
        "drive.mount('/content/gdrive')\r\n"
      ],
      "execution_count": 5,
      "outputs": [
        {
          "output_type": "stream",
          "text": [
            "Mounted at /content/gdrive\n"
          ],
          "name": "stdout"
        }
      ]
    },
    {
      "cell_type": "markdown",
      "metadata": {
        "id": "eTJtPVzwL-tv"
      },
      "source": [
        "IMPORT DATA"
      ]
    },
    {
      "cell_type": "code",
      "metadata": {
        "id": "FruxB9dWKH3m"
      },
      "source": [
        "# File path for the CSV Files\r\n",
        "# idahoFireWeatherDrought = os.path.join(\"/content/gdrive/My Drive/Colab Notebooks/IdahoFirePorject/fires_Idaho_2000_2015_drought_weather_Plus.csv\")\r\n",
        "# idahoFireWeatherDrought = \"/content/gdrive/My Drive/Colab Notebooks/IdahoFireProject/fires_Idaho_2000_2015_drought_weather_Plus.csv\"\r\n",
        "idahoFireWeatherDrought = \"/content/gdrive/My Drive/Colab Notebooks/IdahoFireProject/EXAMPLE_wthr_fire_strmflw_lghtnng_merged_df.csv\"\r\n",
        "\r\n",
        "# Open the CSV Files, Convert to a Dataframe, and Save as a Variable\r\n",
        "idaho_Fire_Weather_Drought_df = pd.read_csv(idahoFireWeatherDrought)\r\n",
        "# fires_Idaho_df = pd.read_csv(idahoFires, dtype={\"LOCAL_INCIDENT_ID\": 'string', \"FIRE_NAME\": 'string'})"
      ],
      "execution_count": 7,
      "outputs": []
    },
    {
      "cell_type": "code",
      "metadata": {
        "id": "nAWt0duaXU0U"
      },
      "source": [
        "idahoCounties = ['Ada', 'Adams', 'Bannock', 'Bear Lake', 'Benewah', 'Bingham', 'Blaine', 'Boise', 'Bonner', 'Bonneville', 'Boundary','Butte', \r\n",
        " 'Camas', 'Canyon', 'Caribou', 'Cassia', 'Clark', 'Clearwater', 'Custer', 'Elmore', 'Franklin', 'Fremont', 'Gem', 'Gooding', \r\n",
        " 'Idaho', 'Jefferson', 'Jerome' 'Kootenai', 'Latah', 'Lemhi', 'Lewis', 'Lincoln', 'Madison', 'Minidoka','Nez Perce', \r\n",
        " 'Oneida', 'Owyhee', 'Payette', 'Power', 'Shoshone', 'Teton', 'Twin Falls', 'Valley', 'Washington']\r\n",
        "        \r\n",
        "\r\n",
        "notIdahoCounties = ['Baker', 'Beaverhead', 'Box Elder', 'Elko', 'Gallatin', 'Malheur', 'Mineral', 'Missoula', 'Ravalli', 'Sanders']"
      ],
      "execution_count": 8,
      "outputs": []
    },
    {
      "cell_type": "markdown",
      "metadata": {
        "id": "dQp5A9-DMCI5"
      },
      "source": [
        "DATA CLEAN"
      ]
    },
    {
      "cell_type": "code",
      "metadata": {
        "id": "ML1zvuUwKH_1"
      },
      "source": [
        "# # CONVERT DATE TO DATETIME FORMAT\r\n",
        "# idaho_Fire_Weather_Drought_df['DISCOVERY_DATE_CONVERTED'] = pd.to_datetime(idaho_Fire_Weather_Drought_df['DISCOVERY_DATE_CONVERTED'])\r\n",
        "# idaho_Fire_Weather_Drought_df['CONT_DATE_CONVERTED'] = pd.to_datetime(idaho_Fire_Weather_Drought_df['CONT_DATE_CONVERTED'])\r\n",
        "\r\n",
        "# # CREATE COLUMNS WE NEED\r\n",
        "# idaho_Fire_Weather_Drought_df['FIRE_DAYS'] = (((idaho_Fire_Weather_Drought_df['CONT_DOY']) + 1) - idaho_Fire_Weather_Drought_df['DISCOVERY_DOY'])\r\n",
        "# idaho_Fire_Weather_Drought_df['COUNTY_NAME'] = (idaho_Fire_Weather_Drought_df['FIPS_NAME'])\r\n",
        "# # Create month column\r\n",
        "# idaho_Fire_Weather_Drought_df['DISCOVERY_MONTH_CONVERTED']=idaho_Fire_Weather_Drought_df['DISCOVERY_DATE_CONVERTED'].apply(lambda x: int(x.strftime('%m')))\r\n",
        "\r\n",
        "# # FILTER ROWS FOR FIRES IN COUNTIES OUTSIDE IDAHO\r\n",
        "# idaho_Fire_Weather_Drought_df = idaho_Fire_Weather_Drought_df[idaho_Fire_Weather_Drought_df['NAME'].isin(idahoCounties)]\r\n",
        "\r\n",
        "# # View the Data in the Dataframe\r\n",
        "# # print(idaho_Fire_Weather_df.keys())\r\n",
        "# idaho_Fire_Weather_Drought_df"
      ],
      "execution_count": null,
      "outputs": []
    },
    {
      "cell_type": "code",
      "metadata": {
        "id": "SsLZYq6WKIG-"
      },
      "source": [
        "# # Get Avg for values\r\n",
        "# Day1_prcp = idaho_Fire_Weather_Drought_df['DAY_PRCP_1'].mean()\r\n",
        "# Day2_prcp = idaho_Fire_Weather_Drought_df['DAY_PRCP_2'].mean()\r\n",
        "# Day3_prcp = idaho_Fire_Weather_Drought_df['DAY_PRCP_3'].mean()\r\n",
        "# Day4_prcp = idaho_Fire_Weather_Drought_df['DAY_PRCP_4'].mean()\r\n",
        "# Day1_temp = idaho_Fire_Weather_Drought_df['DAY_AVG_TEMP_1'].mean()\r\n",
        "# Day2_temp = idaho_Fire_Weather_Drought_df['DAY_AVG_TEMP_2'].mean()\r\n",
        "# Day3_temp = idaho_Fire_Weather_Drought_df['DAY_AVG_TEMP_3'].mean()\r\n",
        "# Day4_temp = idaho_Fire_Weather_Drought_df['DAY_AVG_TEMP_4'].mean()\r\n",
        "\r\n",
        "# # Use Avg values to fill any null values\r\n",
        "# idaho_Fire_Weather_Drought_df['DAY_PRCP_1'] = idaho_Fire_Weather_Drought_df['DAY_PRCP_1'].fillna(Day1_prcp)\r\n",
        "# idaho_Fire_Weather_Drought_df['DAY_PRCP_2'] = idaho_Fire_Weather_Drought_df['DAY_PRCP_2'].fillna(Day2_prcp)\r\n",
        "# idaho_Fire_Weather_Drought_df['DAY_PRCP_3'] = idaho_Fire_Weather_Drought_df['DAY_PRCP_3'].fillna(Day3_prcp)\r\n",
        "# idaho_Fire_Weather_Drought_df['DAY_PRCP_4'] = idaho_Fire_Weather_Drought_df['DAY_PRCP_4'].fillna(Day4_prcp)\r\n",
        "# idaho_Fire_Weather_Drought_df['DAY_AVG_TEMP_1'] = idaho_Fire_Weather_Drought_df['DAY_AVG_TEMP_1'].fillna(Day1_temp)\r\n",
        "# idaho_Fire_Weather_Drought_df['DAY_AVG_TEMP_2'] = idaho_Fire_Weather_Drought_df['DAY_AVG_TEMP_2'].fillna(Day2_temp)\r\n",
        "# idaho_Fire_Weather_Drought_df['DAY_AVG_TEMP_3'] = idaho_Fire_Weather_Drought_df['DAY_AVG_TEMP_3'].fillna(Day3_temp)\r\n",
        "# idaho_Fire_Weather_Drought_df['DAY_AVG_TEMP_4'] = idaho_Fire_Weather_Drought_df['DAY_AVG_TEMP_4'].fillna(Day4_temp)"
      ],
      "execution_count": null,
      "outputs": []
    },
    {
      "cell_type": "code",
      "metadata": {
        "id": "O8T-XulNKIM2"
      },
      "source": [
        "# ### CORRELATION TESTS\r\n",
        "\r\n",
        "# Corr_df = idaho_Fire_Weather_Drought_df[['FIRE_SIZE_CLASS', 'AVE_SIZE12', 'CROP_ACR12', 'NAME', 'None', 'D0','D1', 'D2', 'D3', 'D4', \r\n",
        "#                                    'DAY_PRCP_1', 'DAY_PRCP_2', 'DAY_PRCP_3', 'DAY_PRCP_4', 'DAY_AVG_TEMP_1', 'DAY_AVG_TEMP_2', 'DAY_AVG_TEMP_3', 'DAY_AVG_TEMP_4']]\r\n",
        "# Corr_df['FIRE_SIZE_CLASS']= Corr_df['FIRE_SIZE_CLASS'].astype('category').cat.codes\r\n",
        "\r\n",
        "# Corr_df.corr()"
      ],
      "execution_count": null,
      "outputs": []
    },
    {
      "cell_type": "code",
      "metadata": {
        "colab": {
          "base_uri": "https://localhost:8080/",
          "height": 802
        },
        "id": "Genm5pv-xbpU",
        "outputId": "dba660a3-6f95-45f2-caf8-a17373c68834"
      },
      "source": [
        "idaho_Fire_Weather_Drought_df"
      ],
      "execution_count": 9,
      "outputs": [
        {
          "output_type": "execute_result",
          "data": {
            "text/html": [
              "<div>\n",
              "<style scoped>\n",
              "    .dataframe tbody tr th:only-of-type {\n",
              "        vertical-align: middle;\n",
              "    }\n",
              "\n",
              "    .dataframe tbody tr th {\n",
              "        vertical-align: top;\n",
              "    }\n",
              "\n",
              "    .dataframe thead th {\n",
              "        text-align: right;\n",
              "    }\n",
              "</style>\n",
              "<table border=\"1\" class=\"dataframe\">\n",
              "  <thead>\n",
              "    <tr style=\"text-align: right;\">\n",
              "      <th></th>\n",
              "      <th>Unnamed: 0</th>\n",
              "      <th>avg_temp</th>\n",
              "      <th>prcp</th>\n",
              "      <th>humidity</th>\n",
              "      <th>dew_point</th>\n",
              "      <th>strms_blw_extndd_wghtd_avg</th>\n",
              "      <th>number_of_strikes</th>\n",
              "      <th>fire_true_no_fire_false</th>\n",
              "    </tr>\n",
              "  </thead>\n",
              "  <tbody>\n",
              "    <tr>\n",
              "      <th>0</th>\n",
              "      <td>0</td>\n",
              "      <td>12.021967</td>\n",
              "      <td>16.325000</td>\n",
              "      <td>53.957773</td>\n",
              "      <td>0.712846</td>\n",
              "      <td>5</td>\n",
              "      <td>9</td>\n",
              "      <td>False</td>\n",
              "    </tr>\n",
              "    <tr>\n",
              "      <th>1</th>\n",
              "      <td>1</td>\n",
              "      <td>9.371115</td>\n",
              "      <td>27.066667</td>\n",
              "      <td>60.448122</td>\n",
              "      <td>0.536316</td>\n",
              "      <td>9</td>\n",
              "      <td>4</td>\n",
              "      <td>False</td>\n",
              "    </tr>\n",
              "    <tr>\n",
              "      <th>2</th>\n",
              "      <td>2</td>\n",
              "      <td>11.612043</td>\n",
              "      <td>19.925000</td>\n",
              "      <td>53.915149</td>\n",
              "      <td>0.219563</td>\n",
              "      <td>5</td>\n",
              "      <td>8</td>\n",
              "      <td>True</td>\n",
              "    </tr>\n",
              "    <tr>\n",
              "      <th>3</th>\n",
              "      <td>3</td>\n",
              "      <td>11.312903</td>\n",
              "      <td>29.883333</td>\n",
              "      <td>58.198352</td>\n",
              "      <td>1.722565</td>\n",
              "      <td>6</td>\n",
              "      <td>10</td>\n",
              "      <td>False</td>\n",
              "    </tr>\n",
              "    <tr>\n",
              "      <th>4</th>\n",
              "      <td>4</td>\n",
              "      <td>11.190225</td>\n",
              "      <td>30.033333</td>\n",
              "      <td>56.924064</td>\n",
              "      <td>1.263816</td>\n",
              "      <td>7</td>\n",
              "      <td>2</td>\n",
              "      <td>True</td>\n",
              "    </tr>\n",
              "    <tr>\n",
              "      <th>5</th>\n",
              "      <td>5</td>\n",
              "      <td>11.454038</td>\n",
              "      <td>23.525000</td>\n",
              "      <td>56.201823</td>\n",
              "      <td>1.587403</td>\n",
              "      <td>8</td>\n",
              "      <td>10</td>\n",
              "      <td>True</td>\n",
              "    </tr>\n",
              "    <tr>\n",
              "      <th>6</th>\n",
              "      <td>6</td>\n",
              "      <td>12.096963</td>\n",
              "      <td>35.416667</td>\n",
              "      <td>59.353768</td>\n",
              "      <td>2.920884</td>\n",
              "      <td>8</td>\n",
              "      <td>4</td>\n",
              "      <td>True</td>\n",
              "    </tr>\n",
              "    <tr>\n",
              "      <th>7</th>\n",
              "      <td>7</td>\n",
              "      <td>11.590760</td>\n",
              "      <td>18.208333</td>\n",
              "      <td>52.477421</td>\n",
              "      <td>0.254361</td>\n",
              "      <td>10</td>\n",
              "      <td>7</td>\n",
              "      <td>True</td>\n",
              "    </tr>\n",
              "    <tr>\n",
              "      <th>8</th>\n",
              "      <td>8</td>\n",
              "      <td>11.568799</td>\n",
              "      <td>25.550000</td>\n",
              "      <td>57.386226</td>\n",
              "      <td>1.446670</td>\n",
              "      <td>25</td>\n",
              "      <td>6</td>\n",
              "      <td>True</td>\n",
              "    </tr>\n",
              "    <tr>\n",
              "      <th>9</th>\n",
              "      <td>9</td>\n",
              "      <td>11.670478</td>\n",
              "      <td>18.150000</td>\n",
              "      <td>55.479528</td>\n",
              "      <td>1.025720</td>\n",
              "      <td>1</td>\n",
              "      <td>4</td>\n",
              "      <td>True</td>\n",
              "    </tr>\n",
              "    <tr>\n",
              "      <th>10</th>\n",
              "      <td>10</td>\n",
              "      <td>11.450586</td>\n",
              "      <td>14.783333</td>\n",
              "      <td>51.706280</td>\n",
              "      <td>-0.310390</td>\n",
              "      <td>4</td>\n",
              "      <td>9</td>\n",
              "      <td>True</td>\n",
              "    </tr>\n",
              "    <tr>\n",
              "      <th>11</th>\n",
              "      <td>11</td>\n",
              "      <td>12.810300</td>\n",
              "      <td>21.458333</td>\n",
              "      <td>52.279096</td>\n",
              "      <td>0.983763</td>\n",
              "      <td>9</td>\n",
              "      <td>2</td>\n",
              "      <td>True</td>\n",
              "    </tr>\n",
              "    <tr>\n",
              "      <th>12</th>\n",
              "      <td>12</td>\n",
              "      <td>11.854595</td>\n",
              "      <td>24.508333</td>\n",
              "      <td>56.278401</td>\n",
              "      <td>1.252091</td>\n",
              "      <td>3</td>\n",
              "      <td>7</td>\n",
              "      <td>True</td>\n",
              "    </tr>\n",
              "    <tr>\n",
              "      <th>13</th>\n",
              "      <td>13</td>\n",
              "      <td>11.365743</td>\n",
              "      <td>28.958333</td>\n",
              "      <td>55.284005</td>\n",
              "      <td>0.532353</td>\n",
              "      <td>5</td>\n",
              "      <td>4</td>\n",
              "      <td>False</td>\n",
              "    </tr>\n",
              "    <tr>\n",
              "      <th>14</th>\n",
              "      <td>14</td>\n",
              "      <td>11.966276</td>\n",
              "      <td>25.775000</td>\n",
              "      <td>52.268919</td>\n",
              "      <td>0.553905</td>\n",
              "      <td>9</td>\n",
              "      <td>10</td>\n",
              "      <td>True</td>\n",
              "    </tr>\n",
              "    <tr>\n",
              "      <th>15</th>\n",
              "      <td>15</td>\n",
              "      <td>12.269027</td>\n",
              "      <td>17.166667</td>\n",
              "      <td>49.834756</td>\n",
              "      <td>-0.104489</td>\n",
              "      <td>2</td>\n",
              "      <td>8</td>\n",
              "      <td>True</td>\n",
              "    </tr>\n",
              "    <tr>\n",
              "      <th>16</th>\n",
              "      <td>16</td>\n",
              "      <td>11.269318</td>\n",
              "      <td>19.616667</td>\n",
              "      <td>51.538175</td>\n",
              "      <td>-0.379004</td>\n",
              "      <td>2</td>\n",
              "      <td>8</td>\n",
              "      <td>True</td>\n",
              "    </tr>\n",
              "    <tr>\n",
              "      <th>17</th>\n",
              "      <td>17</td>\n",
              "      <td>11.399760</td>\n",
              "      <td>23.883333</td>\n",
              "      <td>51.908076</td>\n",
              "      <td>-0.129651</td>\n",
              "      <td>5</td>\n",
              "      <td>8</td>\n",
              "      <td>True</td>\n",
              "    </tr>\n",
              "    <tr>\n",
              "      <th>18</th>\n",
              "      <td>18</td>\n",
              "      <td>11.700064</td>\n",
              "      <td>31.800000</td>\n",
              "      <td>54.222811</td>\n",
              "      <td>0.940373</td>\n",
              "      <td>1</td>\n",
              "      <td>6</td>\n",
              "      <td>True</td>\n",
              "    </tr>\n",
              "    <tr>\n",
              "      <th>19</th>\n",
              "      <td>19</td>\n",
              "      <td>11.250474</td>\n",
              "      <td>22.300000</td>\n",
              "      <td>52.042202</td>\n",
              "      <td>0.039390</td>\n",
              "      <td>6</td>\n",
              "      <td>7</td>\n",
              "      <td>False</td>\n",
              "    </tr>\n",
              "    <tr>\n",
              "      <th>20</th>\n",
              "      <td>20</td>\n",
              "      <td>12.836732</td>\n",
              "      <td>24.333333</td>\n",
              "      <td>48.806326</td>\n",
              "      <td>0.279046</td>\n",
              "      <td>1</td>\n",
              "      <td>6</td>\n",
              "      <td>True</td>\n",
              "    </tr>\n",
              "    <tr>\n",
              "      <th>21</th>\n",
              "      <td>21</td>\n",
              "      <td>10.924284</td>\n",
              "      <td>20.291667</td>\n",
              "      <td>53.410150</td>\n",
              "      <td>-0.602810</td>\n",
              "      <td>9</td>\n",
              "      <td>5</td>\n",
              "      <td>True</td>\n",
              "    </tr>\n",
              "    <tr>\n",
              "      <th>22</th>\n",
              "      <td>22</td>\n",
              "      <td>12.260426</td>\n",
              "      <td>32.841667</td>\n",
              "      <td>54.272173</td>\n",
              "      <td>1.148517</td>\n",
              "      <td>9</td>\n",
              "      <td>6</td>\n",
              "      <td>True</td>\n",
              "    </tr>\n",
              "    <tr>\n",
              "      <th>23</th>\n",
              "      <td>23</td>\n",
              "      <td>12.887064</td>\n",
              "      <td>23.250000</td>\n",
              "      <td>53.656547</td>\n",
              "      <td>1.616671</td>\n",
              "      <td>7</td>\n",
              "      <td>1</td>\n",
              "      <td>True</td>\n",
              "    </tr>\n",
              "  </tbody>\n",
              "</table>\n",
              "</div>"
            ],
            "text/plain": [
              "    Unnamed: 0   avg_temp  ...  number_of_strikes  fire_true_no_fire_false\n",
              "0            0  12.021967  ...                  9                    False\n",
              "1            1   9.371115  ...                  4                    False\n",
              "2            2  11.612043  ...                  8                     True\n",
              "3            3  11.312903  ...                 10                    False\n",
              "4            4  11.190225  ...                  2                     True\n",
              "5            5  11.454038  ...                 10                     True\n",
              "6            6  12.096963  ...                  4                     True\n",
              "7            7  11.590760  ...                  7                     True\n",
              "8            8  11.568799  ...                  6                     True\n",
              "9            9  11.670478  ...                  4                     True\n",
              "10          10  11.450586  ...                  9                     True\n",
              "11          11  12.810300  ...                  2                     True\n",
              "12          12  11.854595  ...                  7                     True\n",
              "13          13  11.365743  ...                  4                    False\n",
              "14          14  11.966276  ...                 10                     True\n",
              "15          15  12.269027  ...                  8                     True\n",
              "16          16  11.269318  ...                  8                     True\n",
              "17          17  11.399760  ...                  8                     True\n",
              "18          18  11.700064  ...                  6                     True\n",
              "19          19  11.250474  ...                  7                    False\n",
              "20          20  12.836732  ...                  6                     True\n",
              "21          21  10.924284  ...                  5                     True\n",
              "22          22  12.260426  ...                  6                     True\n",
              "23          23  12.887064  ...                  1                     True\n",
              "\n",
              "[24 rows x 8 columns]"
            ]
          },
          "metadata": {
            "tags": []
          },
          "execution_count": 9
        }
      ]
    },
    {
      "cell_type": "markdown",
      "metadata": {
        "id": "-OdAdFa3L4_j"
      },
      "source": [
        "EXTRACT X AND y FOR MODEL"
      ]
    },
    {
      "cell_type": "code",
      "metadata": {
        "id": "oTRW3cUoKISn",
        "colab": {
          "base_uri": "https://localhost:8080/"
        },
        "outputId": "ae479c40-822d-4ccc-ccd1-ff574c68cb65"
      },
      "source": [
        "# Create X Input by keeping columns from df\r\n",
        "X = idaho_Fire_Weather_Drought_df[['avg_temp', 'prcp', 'humidity', 'dew_point', 'strms_blw_extndd_wghtd_avg', 'number_of_strikes']]\r\n",
        "\r\n",
        "# X by drop\r\n",
        "# X = idaho_Fire_Weather_df.drop(['FIRE_SIZE_CLASS', 'DISCOVERY_DATE_CONVERTED'], axis=1)\r\n",
        "\r\n",
        "# Get dummies for names (if using the county 'NAME' column)\r\n",
        "# X = pd.get_dummies(X, columns=['NAME'])\r\n",
        "\r\n",
        "print(X.keys())\r\n",
        "X = X.values.reshape(-1, 6)\r\n",
        "\r\n",
        "# X = X.to_numpy()\r\n",
        "\r\n",
        "print(X.shape)\r\n",
        "type(X)\r\n",
        "X"
      ],
      "execution_count": 10,
      "outputs": [
        {
          "output_type": "stream",
          "text": [
            "Index(['avg_temp', 'prcp', 'humidity', 'dew_point',\n",
            "       'strms_blw_extndd_wghtd_avg', 'number_of_strikes'],\n",
            "      dtype='object')\n",
            "(24, 6)\n"
          ],
          "name": "stdout"
        },
        {
          "output_type": "execute_result",
          "data": {
            "text/plain": [
              "array([[ 1.20219673e+01,  1.63250000e+01,  5.39577732e+01,\n",
              "         7.12845832e-01,  5.00000000e+00,  9.00000000e+00],\n",
              "       [ 9.37111482e+00,  2.70666667e+01,  6.04481224e+01,\n",
              "         5.36315593e-01,  9.00000000e+00,  4.00000000e+00],\n",
              "       [ 1.16120429e+01,  1.99250000e+01,  5.39151495e+01,\n",
              "         2.19562639e-01,  5.00000000e+00,  8.00000000e+00],\n",
              "       [ 1.13129032e+01,  2.98833333e+01,  5.81983516e+01,\n",
              "         1.72256502e+00,  6.00000000e+00,  1.00000000e+01],\n",
              "       [ 1.11902249e+01,  3.00333333e+01,  5.69240640e+01,\n",
              "         1.26381558e+00,  7.00000000e+00,  2.00000000e+00],\n",
              "       [ 1.14540382e+01,  2.35250000e+01,  5.62018227e+01,\n",
              "         1.58740308e+00,  8.00000000e+00,  1.00000000e+01],\n",
              "       [ 1.20969630e+01,  3.54166667e+01,  5.93537682e+01,\n",
              "         2.92088443e+00,  8.00000000e+00,  4.00000000e+00],\n",
              "       [ 1.15907597e+01,  1.82083333e+01,  5.24774211e+01,\n",
              "         2.54361230e-01,  1.00000000e+01,  7.00000000e+00],\n",
              "       [ 1.15687990e+01,  2.55500000e+01,  5.73862258e+01,\n",
              "         1.44666969e+00,  2.50000000e+01,  6.00000000e+00],\n",
              "       [ 1.16704781e+01,  1.81500000e+01,  5.54795279e+01,\n",
              "         1.02571972e+00,  1.00000000e+00,  4.00000000e+00],\n",
              "       [ 1.14505863e+01,  1.47833333e+01,  5.17062799e+01,\n",
              "        -3.10389733e-01,  4.00000000e+00,  9.00000000e+00],\n",
              "       [ 1.28102995e+01,  2.14583333e+01,  5.22790962e+01,\n",
              "         9.83762701e-01,  9.00000000e+00,  2.00000000e+00],\n",
              "       [ 1.18545946e+01,  2.45083333e+01,  5.62784008e+01,\n",
              "         1.25209072e+00,  3.00000000e+00,  7.00000000e+00],\n",
              "       [ 1.13657431e+01,  2.89583333e+01,  5.52840049e+01,\n",
              "         5.32352682e-01,  5.00000000e+00,  4.00000000e+00],\n",
              "       [ 1.19662759e+01,  2.57750000e+01,  5.22689191e+01,\n",
              "         5.53904722e-01,  9.00000000e+00,  1.00000000e+01],\n",
              "       [ 1.22690273e+01,  1.71666667e+01,  4.98347559e+01,\n",
              "        -1.04489385e-01,  2.00000000e+00,  8.00000000e+00],\n",
              "       [ 1.12693181e+01,  1.96166667e+01,  5.15381753e+01,\n",
              "        -3.79003606e-01,  2.00000000e+00,  8.00000000e+00],\n",
              "       [ 1.13997595e+01,  2.38833333e+01,  5.19080759e+01,\n",
              "        -1.29651319e-01,  5.00000000e+00,  8.00000000e+00],\n",
              "       [ 1.17000637e+01,  3.18000000e+01,  5.42228106e+01,\n",
              "         9.40372878e-01,  1.00000000e+00,  6.00000000e+00],\n",
              "       [ 1.12504745e+01,  2.23000000e+01,  5.20422020e+01,\n",
              "         3.93902580e-02,  6.00000000e+00,  7.00000000e+00],\n",
              "       [ 1.28367322e+01,  2.43333333e+01,  4.88063256e+01,\n",
              "         2.79046349e-01,  1.00000000e+00,  6.00000000e+00],\n",
              "       [ 1.09242837e+01,  2.02916667e+01,  5.34101497e+01,\n",
              "        -6.02810251e-01,  9.00000000e+00,  5.00000000e+00],\n",
              "       [ 1.22604256e+01,  3.28416667e+01,  5.42721733e+01,\n",
              "         1.14851654e+00,  9.00000000e+00,  6.00000000e+00],\n",
              "       [ 1.28870641e+01,  2.32500000e+01,  5.36565470e+01,\n",
              "         1.61667070e+00,  7.00000000e+00,  1.00000000e+00]])"
            ]
          },
          "metadata": {
            "tags": []
          },
          "execution_count": 10
        }
      ]
    },
    {
      "cell_type": "code",
      "metadata": {
        "id": "YaXxkuDbKIY5",
        "colab": {
          "base_uri": "https://localhost:8080/"
        },
        "outputId": "7e6587c8-ee18-4f11-c0c8-5d9427d7bad3"
      },
      "source": [
        "### CREATE y VALUES\r\n",
        "y = idaho_Fire_Weather_Drought_df[['fire_true_no_fire_false']]\r\n",
        "\r\n",
        "# NO OF OUTPUTS (FOR ML MODELING)\r\n",
        "NoOfOutputs = 2\r\n",
        "\r\n",
        "# y = y.values.reshape(-1, 2)\r\n",
        "\r\n",
        "# print(y.shape)\r\n",
        "# # type(y)\r\n",
        "# y\r\n",
        "\r\n",
        "# LABEL ENCODE Y\r\n",
        "# Import required module\r\n",
        "from sklearn.preprocessing import LabelEncoder\r\n",
        "\r\n",
        "# LabelEncoder\r\n",
        "le = LabelEncoder()\r\n",
        "\r\n",
        "# Create an object of the label encoder class\r\n",
        "labelencoder = LabelEncoder()\r\n",
        "\r\n",
        "# apply \"le.fit_transform\"\r\n",
        "old_y = y.apply(le.fit_transform)\r\n",
        "y = old_y\r\n",
        "\r\n",
        "# # Change the shape of y v1\r\n",
        "new_y = np.array(old_y)\r\n",
        "y = new_y.reshape(-1, 1) \r\n",
        "\r\n",
        "# View output\r\n",
        "print(f\"Shape of y is {y.shape}\")\r\n",
        "print(f\"Type of y is {type(y)}\")\r\n",
        "y"
      ],
      "execution_count": 11,
      "outputs": [
        {
          "output_type": "stream",
          "text": [
            "Shape of y is (24, 1)\n",
            "Type of y is <class 'numpy.ndarray'>\n"
          ],
          "name": "stdout"
        },
        {
          "output_type": "execute_result",
          "data": {
            "text/plain": [
              "array([[0],\n",
              "       [0],\n",
              "       [1],\n",
              "       [0],\n",
              "       [1],\n",
              "       [1],\n",
              "       [1],\n",
              "       [1],\n",
              "       [1],\n",
              "       [1],\n",
              "       [1],\n",
              "       [1],\n",
              "       [1],\n",
              "       [0],\n",
              "       [1],\n",
              "       [1],\n",
              "       [1],\n",
              "       [1],\n",
              "       [1],\n",
              "       [0],\n",
              "       [1],\n",
              "       [1],\n",
              "       [1],\n",
              "       [1]])"
            ]
          },
          "metadata": {
            "tags": []
          },
          "execution_count": 11
        }
      ]
    },
    {
      "cell_type": "markdown",
      "metadata": {
        "id": "YxMHaquTLzEB"
      },
      "source": [
        "FORMAT MODEL INPUTS"
      ]
    },
    {
      "cell_type": "code",
      "metadata": {
        "id": "6Z9ZiRKNKIes"
      },
      "source": [
        "# Split data into train and test groups\r\n",
        "X_train, X_test, y_train, y_test = train_test_split(X, y)"
      ],
      "execution_count": 12,
      "outputs": []
    },
    {
      "cell_type": "code",
      "metadata": {
        "id": "qpp080-MLhAp"
      },
      "source": [
        "# # Scale your data\r\n",
        "# from sklearn.preprocessing import StandardScaler\r\n",
        "X_scaler = StandardScaler().fit(X_train)\r\n",
        "# # y_scaler = StandardScaler().fit(y_train)\r\n",
        "\r\n",
        "# # Create variables to hold the scaled train & test data\r\n",
        "X_train_scaled = X_scaler.transform(X_train)\r\n",
        "X_test_scaled = X_scaler.transform(X_test)\r\n",
        "# # y_train_scaled = y_scaler.transform(y_train)\r\n",
        "# # y_test_scaled = y_scaler.transform(y_test)"
      ],
      "execution_count": 13,
      "outputs": []
    },
    {
      "cell_type": "code",
      "metadata": {
        "id": "Bv4lPz8xLhF3"
      },
      "source": [
        "### Encode the categorical target variable to the necessary format for the model\r\n",
        "from keras.utils import to_categorical\r\n",
        "\r\n",
        "# One-hot encoding\r\n",
        "y_train_categorical = to_categorical(y_train)\r\n",
        "y_test_categorical = to_categorical(y_test)"
      ],
      "execution_count": 14,
      "outputs": []
    },
    {
      "cell_type": "code",
      "metadata": {
        "id": "C2DZB7IXLhKu",
        "colab": {
          "base_uri": "https://localhost:8080/"
        },
        "outputId": "80ea85d0-7eb4-47bf-aa39-71af5fcc1a8d"
      },
      "source": [
        "# X Inputs\r\n",
        "print(X_train.shape)\r\n",
        "print(X_train_scaled.shape)\r\n",
        "print(X_test.shape)\r\n",
        "print(X_test_scaled.shape)\r\n",
        "\r\n",
        "# y Inputs\r\n",
        "print(y_train_categorical.shape)\r\n",
        "print(y_test_categorical.shape)"
      ],
      "execution_count": 15,
      "outputs": [
        {
          "output_type": "stream",
          "text": [
            "(18, 6)\n",
            "(18, 6)\n",
            "(6, 6)\n",
            "(6, 6)\n",
            "(18, 2)\n",
            "(6, 2)\n"
          ],
          "name": "stdout"
        }
      ]
    },
    {
      "cell_type": "markdown",
      "metadata": {
        "id": "Dk4OMpghLs7u"
      },
      "source": [
        "MODELS"
      ]
    },
    {
      "cell_type": "code",
      "metadata": {
        "id": "9bDm_h9NLhPb",
        "colab": {
          "base_uri": "https://localhost:8080/"
        },
        "outputId": "34f04187-837c-4cf1-a2f5-935c199dcd2b"
      },
      "source": [
        "# Create the GridSearchCV model\r\n",
        "model1 = SVC(kernel=\"rbf\")\r\n",
        "model1"
      ],
      "execution_count": 16,
      "outputs": [
        {
          "output_type": "execute_result",
          "data": {
            "text/plain": [
              "SVC(C=1.0, break_ties=False, cache_size=200, class_weight=None, coef0=0.0,\n",
              "    decision_function_shape='ovr', degree=3, gamma='scale', kernel='rbf',\n",
              "    max_iter=-1, probability=False, random_state=None, shrinking=True,\n",
              "    tol=0.001, verbose=False)"
            ]
          },
          "metadata": {
            "tags": []
          },
          "execution_count": 16
        }
      ]
    },
    {
      "cell_type": "code",
      "metadata": {
        "id": "VSWDIoBbLhUG"
      },
      "source": [
        "# Create the GridSearchCV parameters\r\n",
        "\r\n",
        "# 'gamma': [0.0000001, 0.0000005, 0.0000001, 0.0000005, 0.000001, 0.000005, 0.000001]\r\n",
        "\r\n",
        "param_grid = {'C': [0.01],\r\n",
        "              'gamma': [0.00000001],\r\n",
        "              'degree': [-0.9],\r\n",
        "              'tol': [0.000000005]}\r\n",
        "\r\n",
        "cv = KFold(n_splits=5, shuffle=False, random_state=None)\r\n",
        "gridModel = GridSearchCV(model1, param_grid, verbose=3, scoring='accuracy', cv=cv)"
      ],
      "execution_count": 51,
      "outputs": []
    },
    {
      "cell_type": "code",
      "metadata": {
        "id": "u3Qv9usWLhYW",
        "colab": {
          "base_uri": "https://localhost:8080/"
        },
        "outputId": "e99cdd22-fe32-4ba4-fa0c-507f06e58c5f"
      },
      "source": [
        "# Train the model with GridSearch\r\n",
        "gridModel.fit(X_train_scaled, y_train)"
      ],
      "execution_count": 52,
      "outputs": [
        {
          "output_type": "stream",
          "text": [
            "Fitting 5 folds for each of 1 candidates, totalling 5 fits\n",
            "[CV] C=0.01, degree=-0.9, gamma=1e-08, tol=5e-09 .....................\n",
            "[CV]  C=0.01, degree=-0.9, gamma=1e-08, tol=5e-09, score=0.750, total=   0.0s\n",
            "[CV] C=0.01, degree=-0.9, gamma=1e-08, tol=5e-09 .....................\n",
            "[CV]  C=0.01, degree=-0.9, gamma=1e-08, tol=5e-09, score=0.750, total=   0.0s\n",
            "[CV] C=0.01, degree=-0.9, gamma=1e-08, tol=5e-09 .....................\n",
            "[CV]  C=0.01, degree=-0.9, gamma=1e-08, tol=5e-09, score=0.750, total=   0.0s\n",
            "[CV] C=0.01, degree=-0.9, gamma=1e-08, tol=5e-09 .....................\n",
            "[CV]  C=0.01, degree=-0.9, gamma=1e-08, tol=5e-09, score=1.000, total=   0.0s\n",
            "[CV] C=0.01, degree=-0.9, gamma=1e-08, tol=5e-09 .....................\n",
            "[CV]  C=0.01, degree=-0.9, gamma=1e-08, tol=5e-09, score=0.667, total=   0.0s\n"
          ],
          "name": "stdout"
        },
        {
          "output_type": "stream",
          "text": [
            "[Parallel(n_jobs=1)]: Using backend SequentialBackend with 1 concurrent workers.\n",
            "/usr/local/lib/python3.7/dist-packages/sklearn/utils/validation.py:760: DataConversionWarning: A column-vector y was passed when a 1d array was expected. Please change the shape of y to (n_samples, ), for example using ravel().\n",
            "  y = column_or_1d(y, warn=True)\n",
            "[Parallel(n_jobs=1)]: Done   1 out of   1 | elapsed:    0.0s remaining:    0.0s\n",
            "/usr/local/lib/python3.7/dist-packages/sklearn/utils/validation.py:760: DataConversionWarning: A column-vector y was passed when a 1d array was expected. Please change the shape of y to (n_samples, ), for example using ravel().\n",
            "  y = column_or_1d(y, warn=True)\n",
            "[Parallel(n_jobs=1)]: Done   2 out of   2 | elapsed:    0.0s remaining:    0.0s\n",
            "/usr/local/lib/python3.7/dist-packages/sklearn/utils/validation.py:760: DataConversionWarning: A column-vector y was passed when a 1d array was expected. Please change the shape of y to (n_samples, ), for example using ravel().\n",
            "  y = column_or_1d(y, warn=True)\n",
            "/usr/local/lib/python3.7/dist-packages/sklearn/utils/validation.py:760: DataConversionWarning: A column-vector y was passed when a 1d array was expected. Please change the shape of y to (n_samples, ), for example using ravel().\n",
            "  y = column_or_1d(y, warn=True)\n",
            "/usr/local/lib/python3.7/dist-packages/sklearn/utils/validation.py:760: DataConversionWarning: A column-vector y was passed when a 1d array was expected. Please change the shape of y to (n_samples, ), for example using ravel().\n",
            "  y = column_or_1d(y, warn=True)\n",
            "[Parallel(n_jobs=1)]: Done   5 out of   5 | elapsed:    0.0s finished\n",
            "/usr/local/lib/python3.7/dist-packages/sklearn/utils/validation.py:760: DataConversionWarning: A column-vector y was passed when a 1d array was expected. Please change the shape of y to (n_samples, ), for example using ravel().\n",
            "  y = column_or_1d(y, warn=True)\n"
          ],
          "name": "stderr"
        },
        {
          "output_type": "execute_result",
          "data": {
            "text/plain": [
              "GridSearchCV(cv=KFold(n_splits=5, random_state=None, shuffle=False),\n",
              "             error_score=nan,\n",
              "             estimator=SVC(C=1.0, break_ties=False, cache_size=200,\n",
              "                           class_weight=None, coef0=0.0,\n",
              "                           decision_function_shape='ovr', degree=3,\n",
              "                           gamma='scale', kernel='rbf', max_iter=-1,\n",
              "                           probability=False, random_state=None, shrinking=True,\n",
              "                           tol=0.001, verbose=False),\n",
              "             iid='deprecated', n_jobs=None,\n",
              "             param_grid={'C': [0.01], 'degree': [-0.9], 'gamma': [1e-08],\n",
              "                         'tol': [5e-09]},\n",
              "             pre_dispatch='2*n_jobs', refit=True, return_train_score=False,\n",
              "             scoring='accuracy', verbose=3)"
            ]
          },
          "metadata": {
            "tags": []
          },
          "execution_count": 52
        }
      ]
    },
    {
      "cell_type": "code",
      "metadata": {
        "id": "-JEBaxvCLhdM",
        "colab": {
          "base_uri": "https://localhost:8080/"
        },
        "outputId": "4a7cb838-7914-4196-86a3-e32ef4e1cc02"
      },
      "source": [
        "# List best parameters and best score\r\n",
        "print(gridModel.best_params_)\r\n",
        "print(gridModel.best_score_)"
      ],
      "execution_count": 53,
      "outputs": [
        {
          "output_type": "stream",
          "text": [
            "{'C': 0.01, 'degree': -0.9, 'gamma': 1e-08, 'tol': 5e-09}\n",
            "0.7833333333333333\n"
          ],
          "name": "stdout"
        }
      ]
    },
    {
      "cell_type": "code",
      "metadata": {
        "id": "7UZcfQXBLhhu",
        "colab": {
          "base_uri": "https://localhost:8080/"
        },
        "outputId": "b06201f8-1d10-49e7-b7e1-6261d2299c0b"
      },
      "source": [
        "# Testing the model\r\n",
        "print(f\"Training Data Score: {gridModel.score(X_train_scaled, y_train)}\")\r\n",
        "print(f\"Testing Data Score: {gridModel.score(X_test_scaled, y_test)}\")"
      ],
      "execution_count": 54,
      "outputs": [
        {
          "output_type": "stream",
          "text": [
            "Training Data Score: 0.7777777777777778\n",
            "Testing Data Score: 0.8333333333333334\n"
          ],
          "name": "stdout"
        }
      ]
    },
    {
      "cell_type": "code",
      "metadata": {
        "id": "0sGkJbd5LhmU",
        "colab": {
          "base_uri": "https://localhost:8080/",
          "height": 238
        },
        "outputId": "7a8acf02-253c-421d-8e71-37f55bf8de03"
      },
      "source": [
        "# Make predictions with the hypertuned model\r\n",
        "predictions = gridModel.predict(X_test)\r\n",
        "y_test_df = y_test.ravel()\r\n",
        "\r\n",
        "prediction_df = pd.DataFrame({'predicted_values': predictions,\r\n",
        "                   'Values_from_data': y_test_df})\r\n",
        "prediction_df.head(60)"
      ],
      "execution_count": 55,
      "outputs": [
        {
          "output_type": "execute_result",
          "data": {
            "text/html": [
              "<div>\n",
              "<style scoped>\n",
              "    .dataframe tbody tr th:only-of-type {\n",
              "        vertical-align: middle;\n",
              "    }\n",
              "\n",
              "    .dataframe tbody tr th {\n",
              "        vertical-align: top;\n",
              "    }\n",
              "\n",
              "    .dataframe thead th {\n",
              "        text-align: right;\n",
              "    }\n",
              "</style>\n",
              "<table border=\"1\" class=\"dataframe\">\n",
              "  <thead>\n",
              "    <tr style=\"text-align: right;\">\n",
              "      <th></th>\n",
              "      <th>predicted_values</th>\n",
              "      <th>Values_from_data</th>\n",
              "    </tr>\n",
              "  </thead>\n",
              "  <tbody>\n",
              "    <tr>\n",
              "      <th>0</th>\n",
              "      <td>1</td>\n",
              "      <td>1</td>\n",
              "    </tr>\n",
              "    <tr>\n",
              "      <th>1</th>\n",
              "      <td>1</td>\n",
              "      <td>1</td>\n",
              "    </tr>\n",
              "    <tr>\n",
              "      <th>2</th>\n",
              "      <td>1</td>\n",
              "      <td>1</td>\n",
              "    </tr>\n",
              "    <tr>\n",
              "      <th>3</th>\n",
              "      <td>1</td>\n",
              "      <td>0</td>\n",
              "    </tr>\n",
              "    <tr>\n",
              "      <th>4</th>\n",
              "      <td>1</td>\n",
              "      <td>1</td>\n",
              "    </tr>\n",
              "    <tr>\n",
              "      <th>5</th>\n",
              "      <td>1</td>\n",
              "      <td>1</td>\n",
              "    </tr>\n",
              "  </tbody>\n",
              "</table>\n",
              "</div>"
            ],
            "text/plain": [
              "   predicted_values  Values_from_data\n",
              "0                 1                 1\n",
              "1                 1                 1\n",
              "2                 1                 1\n",
              "3                 1                 0\n",
              "4                 1                 1\n",
              "5                 1                 1"
            ]
          },
          "metadata": {
            "tags": []
          },
          "execution_count": 55
        }
      ]
    },
    {
      "cell_type": "code",
      "metadata": {
        "id": "rkLmlDx9Lhqf",
        "colab": {
          "base_uri": "https://localhost:8080/"
        },
        "outputId": "bc954b99-b9f4-4e56-e121-9c3738fbf339"
      },
      "source": [
        "# SAVE MODEL\r\n",
        "# save your model by updating \"your_name\" with your name\r\n",
        "# and \"your_model\" with your model variable\r\n",
        "# be sure to turn this in to BCS\r\n",
        "# if joblib fails to import, try running the command to install in terminal/git-bash\r\n",
        "import joblib\r\n",
        "filename = 'gridModel_model_v1.sav'\r\n",
        "joblib.dump(gridModel, filename)"
      ],
      "execution_count": 56,
      "outputs": [
        {
          "output_type": "execute_result",
          "data": {
            "text/plain": [
              "['gridModel_model_v1.sav']"
            ]
          },
          "metadata": {
            "tags": []
          },
          "execution_count": 56
        }
      ]
    }
  ]
}