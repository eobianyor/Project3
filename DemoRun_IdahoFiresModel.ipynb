{
  "nbformat": 4,
  "nbformat_minor": 0,
  "metadata": {
    "colab": {
      "name": "DemoRun_IdahoFiresModel.ipynb",
      "provenance": [],
      "collapsed_sections": [],
      "authorship_tag": "ABX9TyMpFnV30rFxilozSZKNeGdr",
      "include_colab_link": true
    },
    "kernelspec": {
      "name": "python3",
      "display_name": "Python 3"
    }
  },
  "cells": [
    {
      "cell_type": "markdown",
      "metadata": {
        "id": "view-in-github",
        "colab_type": "text"
      },
      "source": [
        "<a href=\"https://colab.research.google.com/github/eobianyor/Project3/blob/main/DemoRun_IdahoFiresModel.ipynb\" target=\"_parent\"><img src=\"https://colab.research.google.com/assets/colab-badge.svg\" alt=\"Open In Colab\"/></a>"
      ]
    },
    {
      "cell_type": "code",
      "metadata": {
        "id": "fRhkcbWDUAri",
        "colab": {
          "base_uri": "https://localhost:8080/"
        },
        "outputId": "027eb4df-e23c-453c-a130-6c55b3cef5b3"
      },
      "source": [
        "import os\r\n",
        "# Find the latest version of spark 3.0  from http://www-us.apache.org/dist/spark/ and enter as the spark version\r\n",
        "# For example:\r\n",
        "# spark_version = 'spark-3.0.1'\r\n",
        "spark_version = 'spark-3.0.2'\r\n",
        "os.environ['SPARK_VERSION']=spark_version\r\n",
        "\r\n",
        "# Install Spark and Java\r\n",
        "!apt-get update\r\n",
        "!apt-get install openjdk-11-jdk-headless -qq > /dev/null\r\n",
        "!wget -q http://www-us.apache.org/dist/spark/$SPARK_VERSION/$SPARK_VERSION-bin-hadoop2.7.tgz\r\n",
        "!tar xf $SPARK_VERSION-bin-hadoop2.7.tgz\r\n",
        "!pip install -q findspark\r\n",
        "\r\n",
        "# Set Environment Variables\r\n",
        "os.environ[\"JAVA_HOME\"] = \"/usr/lib/jvm/java-11-openjdk-amd64\"\r\n",
        "os.environ[\"SPARK_HOME\"] = f\"/content/{spark_version}-bin-hadoop2.7\"\r\n",
        "\r\n",
        "# Start a SparkSession\r\n",
        "import findspark\r\n",
        "findspark.init()"
      ],
      "execution_count": null,
      "outputs": [
        {
          "output_type": "stream",
          "text": [
            "Get:1 http://security.ubuntu.com/ubuntu bionic-security InRelease [88.7 kB]\n",
            "Ign:2 https://developer.download.nvidia.com/compute/cuda/repos/ubuntu1804/x86_64  InRelease\n",
            "Get:3 https://cloud.r-project.org/bin/linux/ubuntu bionic-cran40/ InRelease [3,626 B]\n",
            "Get:4 http://ppa.launchpad.net/c2d4u.team/c2d4u4.0+/ubuntu bionic InRelease [15.9 kB]\n",
            "Ign:5 https://developer.download.nvidia.com/compute/machine-learning/repos/ubuntu1804/x86_64  InRelease\n",
            "Get:6 https://developer.download.nvidia.com/compute/cuda/repos/ubuntu1804/x86_64  Release [697 B]\n",
            "Hit:7 https://developer.download.nvidia.com/compute/machine-learning/repos/ubuntu1804/x86_64  Release\n",
            "Hit:8 http://archive.ubuntu.com/ubuntu bionic InRelease\n",
            "Get:9 https://developer.download.nvidia.com/compute/cuda/repos/ubuntu1804/x86_64  Release.gpg [836 B]\n",
            "Get:10 http://archive.ubuntu.com/ubuntu bionic-updates InRelease [88.7 kB]\n",
            "Hit:11 http://ppa.launchpad.net/cran/libgit2/ubuntu bionic InRelease\n",
            "Get:12 http://security.ubuntu.com/ubuntu bionic-security/universe amd64 Packages [1,398 kB]\n",
            "Hit:13 http://ppa.launchpad.net/deadsnakes/ppa/ubuntu bionic InRelease\n",
            "Get:14 http://archive.ubuntu.com/ubuntu bionic-backports InRelease [74.6 kB]\n",
            "Get:15 http://security.ubuntu.com/ubuntu bionic-security/main amd64 Packages [1,995 kB]\n",
            "Get:16 http://security.ubuntu.com/ubuntu bionic-security/restricted amd64 Packages [333 kB]\n",
            "Hit:17 http://ppa.launchpad.net/graphics-drivers/ppa/ubuntu bionic InRelease\n",
            "Get:18 https://cloud.r-project.org/bin/linux/ubuntu bionic-cran40/ Packages [49.4 kB]\n",
            "Ign:20 https://developer.download.nvidia.com/compute/cuda/repos/ubuntu1804/x86_64  Packages\n",
            "Get:20 https://developer.download.nvidia.com/compute/cuda/repos/ubuntu1804/x86_64  Packages [603 kB]\n",
            "Get:21 http://ppa.launchpad.net/c2d4u.team/c2d4u4.0+/ubuntu bionic/main Sources [1,746 kB]\n",
            "Get:22 http://archive.ubuntu.com/ubuntu bionic-updates/main amd64 Packages [2,425 kB]\n",
            "Get:23 http://ppa.launchpad.net/c2d4u.team/c2d4u4.0+/ubuntu bionic/main amd64 Packages [894 kB]\n",
            "Get:24 http://archive.ubuntu.com/ubuntu bionic-updates/universe amd64 Packages [2,165 kB]\n",
            "Get:25 http://archive.ubuntu.com/ubuntu bionic-updates/restricted amd64 Packages [363 kB]\n",
            "Fetched 12.2 MB in 3s (3,528 kB/s)\n",
            "Reading package lists... Done\n"
          ],
          "name": "stdout"
        }
      ]
    },
    {
      "cell_type": "markdown",
      "metadata": {
        "id": "JL6BPo_FKFvK"
      },
      "source": [
        ""
      ]
    },
    {
      "cell_type": "code",
      "metadata": {
        "id": "A_PUGjT9KGRZ"
      },
      "source": [
        "# =============================================================== #\r\n",
        "# IMPORT DEPENDENCIES\r\n",
        "# =============================================================== #\r\n",
        "# FOR DATA\r\n",
        "# =============================================================== #\r\n",
        "import pandas as pd\r\n",
        "# import os\r\n",
        "import csv\r\n",
        "import math\r\n",
        "import numpy as np\r\n",
        "from numpy import logspace\r\n",
        "import time\r\n",
        "import datetime\r\n",
        "# import requests\r\n",
        "# import datefinder\r\n",
        "\r\n",
        "# # FOR SQL LITE\r\n",
        "# =============================================================== #\r\n",
        "# from sqlalchemy import create_engine\r\n",
        "# from datetime import date\r\n",
        "\r\n",
        "# # FOR PLOTTING\r\n",
        "# =============================================================== #\r\n",
        "import matplotlib.pyplot as plt\r\n",
        "from matplotlib import style\r\n",
        "style.use(\"fivethirtyeight\")\r\n",
        "from matplotlib import rcParams\r\n",
        "rcParams['figure.figsize'] = 10, 8\r\n",
        "\r\n",
        "# FOR MODELING\r\n",
        "# =============================================================== #\r\n",
        "from sklearn.model_selection import train_test_split\r\n",
        "from keras.utils import to_categorical\r\n",
        "\r\n",
        "# FOR KNN AND OTHER MODELS\r\n",
        "# =============================================================== #\r\n",
        "from scipy.optimize import curve_fit\r\n",
        "# from splinter import Browser\r\n",
        "# from bs4 import BeautifulSoup as BS\r\n",
        "from sklearn.svm import SVC\r\n",
        "from sklearn.datasets import load_iris\r\n",
        "from sklearn.datasets import make_blobs\r\n",
        "from sklearn.model_selection import GridSearchCV\r\n",
        "from sklearn.model_selection import KFold\r\n",
        "from sklearn.model_selection import cross_val_score\r\n",
        "from sklearn.neighbors import KNeighborsClassifier\r\n",
        "from sklearn.preprocessing import StandardScaler\r\n",
        "from sklearn.datasets import make_classification\r\n",
        "\r\n",
        "# # FOR TF MODELS\r\n",
        "# =============================================================== #\r\n",
        "# import keras.models\r\n",
        "# import keras.layers\r\n",
        "# import keras.utils\r\n",
        "# from keras.models import Sequential\r\n",
        "# from keras.layers import Dense, Dropout"
      ],
      "execution_count": null,
      "outputs": []
    },
    {
      "cell_type": "code",
      "metadata": {
        "colab": {
          "base_uri": "https://localhost:8080/"
        },
        "id": "k9hJpjj8RiOI",
        "outputId": "6d7219d4-5928-4093-93c3-b89b17627a4a"
      },
      "source": [
        "# IMPORT LIBRARIES FOR COLAB\r\n",
        "# =========================================================\r\n",
        "#               Python Libraries for Colab\r\n",
        "# =========================================================\r\n",
        "import sys\r\n",
        "# ---------------------------------------------------------\r\n",
        "from google.colab import drive\r\n",
        "\r\n",
        "# =========================================================\r\n",
        "#               Mount Google Drive to Colab\r\n",
        "# =========================================================\r\n",
        "drive.mount('/content/gdrive')\r\n"
      ],
      "execution_count": null,
      "outputs": [
        {
          "output_type": "stream",
          "text": [
            "Mounted at /content/gdrive\n"
          ],
          "name": "stdout"
        }
      ]
    },
    {
      "cell_type": "markdown",
      "metadata": {
        "id": "eTJtPVzwL-tv"
      },
      "source": [
        "LOAD IDAHO FIRE MODEL"
      ]
    },
    {
      "cell_type": "code",
      "metadata": {
        "id": "qyXIL01H4-sH"
      },
      "source": [
        "# =============================================================== #\r\n",
        "# TEST MODEL WITH NEW DATA\r\n",
        "# =============================================================== #\r\n",
        "# LOAD MODEL via pickle\r\n",
        "# =============================================================== #\r\n",
        "\r\n",
        "with open('/content/gdrive/My Drive/Colab Notebooks/IdahoFireProject/gridModel_model2_v1.pkl', 'rb') as modelload:\r\n",
        "    loadedgridModel = pickle.load(modelload)"
      ],
      "execution_count": null,
      "outputs": []
    },
    {
      "cell_type": "code",
      "metadata": {
        "colab": {
          "base_uri": "https://localhost:8080/",
          "height": 112
        },
        "id": "z81y1ZQ77C9f",
        "outputId": "4c3b99a9-7639-4bfa-b65e-b1ae0f6de3b1"
      },
      "source": [
        "# =============================================================== #\r\n",
        "# MAKE A SAMPLE ARRAY FOR DEMO\r\n",
        "# =============================================================== #\r\n",
        "xInput = {'avg_temp': [0, 95],\r\n",
        "            'prcp': [0.03, 3],\r\n",
        "            'humidity':[40, 80],\r\n",
        "            'dew_point': [-1.460, 4.5],\r\n",
        "            'stream_lvl':[0.001, 50],\r\n",
        "            'lghtn_strikes': [0, 30]}\r\n",
        "\r\n",
        "X_input_Demo_df = pd.DataFrame(data=xInput)\r\n",
        "\r\n",
        "X_input_Demo_df\r\n",
        "\r\n",
        "# =============================================================== #\r\n",
        "# Look at data type\r\n",
        "# =============================================================== #\r\n",
        "# type(newInput)\r\n",
        "# newInput.dtypes"
      ],
      "execution_count": null,
      "outputs": [
        {
          "output_type": "execute_result",
          "data": {
            "text/html": [
              "<div>\n",
              "<style scoped>\n",
              "    .dataframe tbody tr th:only-of-type {\n",
              "        vertical-align: middle;\n",
              "    }\n",
              "\n",
              "    .dataframe tbody tr th {\n",
              "        vertical-align: top;\n",
              "    }\n",
              "\n",
              "    .dataframe thead th {\n",
              "        text-align: right;\n",
              "    }\n",
              "</style>\n",
              "<table border=\"1\" class=\"dataframe\">\n",
              "  <thead>\n",
              "    <tr style=\"text-align: right;\">\n",
              "      <th></th>\n",
              "      <th>avg_temp</th>\n",
              "      <th>prcp</th>\n",
              "      <th>humidity</th>\n",
              "      <th>dew_point</th>\n",
              "      <th>stream_lvl</th>\n",
              "      <th>lghtn_strikes</th>\n",
              "    </tr>\n",
              "  </thead>\n",
              "  <tbody>\n",
              "    <tr>\n",
              "      <th>0</th>\n",
              "      <td>35</td>\n",
              "      <td>0.03</td>\n",
              "      <td>40</td>\n",
              "      <td>-1.46</td>\n",
              "      <td>0.001</td>\n",
              "      <td>0</td>\n",
              "    </tr>\n",
              "    <tr>\n",
              "      <th>1</th>\n",
              "      <td>80</td>\n",
              "      <td>3.00</td>\n",
              "      <td>80</td>\n",
              "      <td>4.50</td>\n",
              "      <td>50.000</td>\n",
              "      <td>30</td>\n",
              "    </tr>\n",
              "  </tbody>\n",
              "</table>\n",
              "</div>"
            ],
            "text/plain": [
              "   avg_temp  prcp  humidity  dew_point  stream_lvl  lghtn_strikes\n",
              "0        35  0.03        40      -1.46       0.001              0\n",
              "1        80  3.00        80       4.50      50.000             30"
            ]
          },
          "metadata": {
            "tags": []
          },
          "execution_count": 91
        }
      ]
    },
    {
      "cell_type": "code",
      "metadata": {
        "colab": {
          "base_uri": "https://localhost:8080/"
        },
        "id": "EHztSyh5-_TE",
        "outputId": "27bcfa2a-213b-4aa3-eef1-1dfca08bc980"
      },
      "source": [
        "# =============================================================== #\r\n",
        "# PREP X VALUES FOR MODEL\r\n",
        "# =============================================================== #\r\n",
        "# # RESHAPE X FROM DF TO ARRAY\r\n",
        "newInput = X_input_Demo_df.values.reshape(-1, 6)\r\n",
        "\r\n",
        "# # SCALE NEW INPUTS\r\n",
        "newInputScaler = StandardScaler().fit(newInput)\r\n",
        "\r\n",
        "# # CREATE VARIABLES TO HOLD SCALED DATA\r\n",
        "scaledNewInputs = newInputScaler.transform(newInput)\r\n",
        "\r\n",
        "\r\n",
        "# # # View output\r\n",
        "print(f\"Shape of X Input is {newInput.shape}\")\r\n",
        "print(f\"Type of X input is {type(newInput)}\")\r\n",
        "\r\n",
        "# =============================================================== #\r\n",
        "# RUN TEST\r\n",
        "# =============================================================== #\r\n",
        "newPredictions = gridModel.predict(scaledNewInputs)\r\n",
        "newProbability = gridModel.predict_proba(scaledNewInputs)\r\n",
        ")\r\n",
        "np.round(probability , decimals=4)\r\n",
        "\r\n",
        "# =============================================================== #\r\n",
        "# CALCULATE CLASSIFICATION REPORT\r\n",
        "# =============================================================== #\r\n",
        "from sklearn.metrics import classification_report\r\n",
        "print(classification_report(y_test, predictions,\r\n",
        "                            target_names=[\"True(Fire risk)\", \"False(No fire risk)\"]))\r\n"
      ],
      "execution_count": null,
      "outputs": [
        {
          "output_type": "stream",
          "text": [
            "Shape of X Input is (2, 6)\n",
            "Type of X input is <class 'numpy.ndarray'>\n",
            "                     precision    recall  f1-score   support\n",
            "\n",
            "    True(Fire risk)       0.98      0.98      0.98        49\n",
            "False(No fire risk)       0.88      0.88      0.88         8\n",
            "\n",
            "           accuracy                           0.96        57\n",
            "          macro avg       0.93      0.93      0.93        57\n",
            "       weighted avg       0.96      0.96      0.96        57\n",
            "\n"
          ],
          "name": "stdout"
        }
      ]
    },
    {
      "cell_type": "code",
      "metadata": {
        "id": "10vlMi2MAk7_"
      },
      "source": [
        ""
      ],
      "execution_count": null,
      "outputs": []
    }
  ]
}