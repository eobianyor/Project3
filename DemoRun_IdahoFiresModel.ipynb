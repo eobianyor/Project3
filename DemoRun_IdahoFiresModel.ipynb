{
  "nbformat": 4,
  "nbformat_minor": 0,
  "metadata": {
    "colab": {
      "name": "DemoRun_IdahoFiresModel.ipynb",
      "provenance": [],
      "collapsed_sections": [],
      "authorship_tag": "ABX9TyOurSfaWM73MAh1Id13zSQ9",
      "include_colab_link": true
    },
    "kernelspec": {
      "name": "python3",
      "display_name": "Python 3"
    }
  },
  "cells": [
    {
      "cell_type": "markdown",
      "metadata": {
        "id": "view-in-github",
        "colab_type": "text"
      },
      "source": [
        "<a href=\"https://colab.research.google.com/github/eobianyor/Project3/blob/main/DemoRun_IdahoFiresModel.ipynb\" target=\"_parent\"><img src=\"https://colab.research.google.com/assets/colab-badge.svg\" alt=\"Open In Colab\"/></a>"
      ]
    },
    {
      "cell_type": "code",
      "metadata": {
        "id": "fRhkcbWDUAri",
        "colab": {
          "base_uri": "https://localhost:8080/"
        },
        "outputId": "8c9cacc4-421a-481e-951b-1a484639e3fb"
      },
      "source": [
        "import os\r\n",
        "# Find the latest version of spark 3.0  from http://www-us.apache.org/dist/spark/ and enter as the spark version\r\n",
        "# For example:\r\n",
        "# spark_version = 'spark-3.0.1'\r\n",
        "spark_version = 'spark-3.0.2'\r\n",
        "os.environ['SPARK_VERSION']=spark_version\r\n",
        "\r\n",
        "# Install Spark and Java\r\n",
        "!apt-get update\r\n",
        "!apt-get install openjdk-11-jdk-headless -qq > /dev/null\r\n",
        "!wget -q http://www-us.apache.org/dist/spark/$SPARK_VERSION/$SPARK_VERSION-bin-hadoop2.7.tgz\r\n",
        "!tar xf $SPARK_VERSION-bin-hadoop2.7.tgz\r\n",
        "!pip install -q findspark\r\n",
        "\r\n",
        "# Set Environment Variables\r\n",
        "os.environ[\"JAVA_HOME\"] = \"/usr/lib/jvm/java-11-openjdk-amd64\"\r\n",
        "os.environ[\"SPARK_HOME\"] = f\"/content/{spark_version}-bin-hadoop2.7\"\r\n",
        "\r\n",
        "# Start a SparkSession\r\n",
        "import findspark\r\n",
        "findspark.init()"
      ],
      "execution_count": 36,
      "outputs": [
        {
          "output_type": "stream",
          "text": [
            "\r0% [Working]\r            \rHit:1 http://ppa.launchpad.net/c2d4u.team/c2d4u4.0+/ubuntu bionic InRelease\n",
            "\r0% [Waiting for headers] [Connecting to security.ubuntu.com (91.189.91.39)] [Co\r                                                                               \rHit:2 http://archive.ubuntu.com/ubuntu bionic InRelease\n",
            "\r                                                                               \rGet:3 http://archive.ubuntu.com/ubuntu bionic-updates InRelease [88.7 kB]\n",
            "\r0% [3 InRelease 14.2 kB/88.7 kB 16%] [Connecting to security.ubuntu.com (91.189\r0% [1 InRelease gpgv 15.9 kB] [3 InRelease 14.2 kB/88.7 kB 16%] [Connecting to \r                                                                               \rHit:4 http://ppa.launchpad.net/cran/libgit2/ubuntu bionic InRelease\n",
            "\r0% [1 InRelease gpgv 15.9 kB] [3 InRelease 15.6 kB/88.7 kB 18%] [Connecting to \r                                                                               \rHit:5 https://cloud.r-project.org/bin/linux/ubuntu bionic-cran40/ InRelease\n",
            "\r0% [1 InRelease gpgv 15.9 kB] [3 InRelease 18.5 kB/88.7 kB 21%] [Connecting to \r                                                                               \rHit:6 http://ppa.launchpad.net/deadsnakes/ppa/ubuntu bionic InRelease\n",
            "\r0% [1 InRelease gpgv 15.9 kB] [3 InRelease 77.9 kB/88.7 kB 88%] [Connecting to \r0% [1 InRelease gpgv 15.9 kB] [Connecting to security.ubuntu.com (91.189.91.39)\r                                                                               \rGet:7 http://archive.ubuntu.com/ubuntu bionic-backports InRelease [74.6 kB]\n",
            "\r0% [1 InRelease gpgv 15.9 kB] [7 InRelease 0 B/74.6 kB 0%] [Connecting to secur\r                                                                               \rHit:8 http://ppa.launchpad.net/graphics-drivers/ppa/ubuntu bionic InRelease\n",
            "Get:9 http://security.ubuntu.com/ubuntu bionic-security InRelease [88.7 kB]\n",
            "Ign:10 https://developer.download.nvidia.com/compute/cuda/repos/ubuntu1804/x86_64  InRelease\n",
            "Ign:11 https://developer.download.nvidia.com/compute/machine-learning/repos/ubuntu1804/x86_64  InRelease\n",
            "Hit:12 https://developer.download.nvidia.com/compute/cuda/repos/ubuntu1804/x86_64  Release\n",
            "Hit:13 https://developer.download.nvidia.com/compute/machine-learning/repos/ubuntu1804/x86_64  Release\n",
            "Fetched 252 kB in 2s (119 kB/s)\n",
            "Reading package lists... Done\n"
          ],
          "name": "stdout"
        }
      ]
    },
    {
      "cell_type": "markdown",
      "metadata": {
        "id": "JL6BPo_FKFvK"
      },
      "source": [
        ""
      ]
    },
    {
      "cell_type": "code",
      "metadata": {
        "id": "A_PUGjT9KGRZ"
      },
      "source": [
        "# =============================================================== #\r\n",
        "# IMPORT DEPENDENCIES\r\n",
        "# =============================================================== #\r\n",
        "# FOR DATA\r\n",
        "# =============================================================== #\r\n",
        "import pandas as pd\r\n",
        "# import os\r\n",
        "import csv\r\n",
        "import math\r\n",
        "import numpy as np\r\n",
        "from numpy import logspace\r\n",
        "import time\r\n",
        "import datetime\r\n",
        "# import requests\r\n",
        "# import datefinder\r\n",
        "\r\n",
        "# # FOR SQL LITE\r\n",
        "# =============================================================== #\r\n",
        "# from sqlalchemy import create_engine\r\n",
        "# from datetime import date\r\n",
        "\r\n",
        "# # FOR PLOTTING\r\n",
        "# =============================================================== #\r\n",
        "import matplotlib.pyplot as plt\r\n",
        "from matplotlib import style\r\n",
        "style.use(\"fivethirtyeight\")\r\n",
        "from matplotlib import rcParams\r\n",
        "rcParams['figure.figsize'] = 10, 8\r\n",
        "\r\n",
        "# FOR MODELING\r\n",
        "# =============================================================== #\r\n",
        "from sklearn.model_selection import train_test_split\r\n",
        "from keras.utils import to_categorical\r\n",
        "\r\n",
        "# FOR KNN AND OTHER MODELS\r\n",
        "# =============================================================== #\r\n",
        "from scipy.optimize import curve_fit\r\n",
        "# from splinter import Browser\r\n",
        "# from bs4 import BeautifulSoup as BS\r\n",
        "from sklearn.svm import SVC\r\n",
        "from sklearn.datasets import load_iris\r\n",
        "from sklearn.datasets import make_blobs\r\n",
        "from sklearn.model_selection import GridSearchCV\r\n",
        "from sklearn.model_selection import KFold\r\n",
        "from sklearn.model_selection import cross_val_score\r\n",
        "from sklearn.neighbors import KNeighborsClassifier\r\n",
        "from sklearn.preprocessing import StandardScaler\r\n",
        "from sklearn.datasets import make_classification\r\n",
        "\r\n",
        "# # FOR TF MODELS\r\n",
        "# =============================================================== #\r\n",
        "# import keras.models\r\n",
        "# import keras.layers\r\n",
        "# import keras.utils\r\n",
        "# from keras.models import Sequential\r\n",
        "# from keras.layers import Dense, Dropout"
      ],
      "execution_count": 37,
      "outputs": []
    },
    {
      "cell_type": "code",
      "metadata": {
        "colab": {
          "base_uri": "https://localhost:8080/"
        },
        "id": "k9hJpjj8RiOI",
        "outputId": "19da0fa4-9253-4d1c-b36d-a73e06f25c5b"
      },
      "source": [
        "# IMPORT LIBRARIES FOR COLAB\r\n",
        "# =========================================================\r\n",
        "#               Python Libraries for Colab\r\n",
        "# =========================================================\r\n",
        "import sys\r\n",
        "# ---------------------------------------------------------\r\n",
        "from google.colab import drive\r\n",
        "\r\n",
        "# =========================================================\r\n",
        "#               Mount Google Drive to Colab\r\n",
        "# =========================================================\r\n",
        "drive.mount('/content/gdrive')\r\n"
      ],
      "execution_count": 38,
      "outputs": [
        {
          "output_type": "stream",
          "text": [
            "Drive already mounted at /content/gdrive; to attempt to forcibly remount, call drive.mount(\"/content/gdrive\", force_remount=True).\n"
          ],
          "name": "stdout"
        }
      ]
    },
    {
      "cell_type": "markdown",
      "metadata": {
        "id": "eTJtPVzwL-tv"
      },
      "source": [
        "LOAD IDAHO FIRE MODEL"
      ]
    },
    {
      "cell_type": "code",
      "metadata": {
        "id": "qyXIL01H4-sH"
      },
      "source": [
        "# =============================================================== #\r\n",
        "# TEST MODEL WITH NEW DATA\r\n",
        "# =============================================================== #\r\n",
        "# LOAD MODEL via pickle\r\n",
        "# =============================================================== #\r\n",
        "import pickle\r\n",
        "\r\n",
        "with open('/content/gdrive/My Drive/Colab Notebooks/IdahoFireProject/gridModel_model2_v1.pkl', 'rb') as modelload:\r\n",
        "    loadedgridModel = pickle.load(modelload)"
      ],
      "execution_count": 39,
      "outputs": []
    },
    {
      "cell_type": "code",
      "metadata": {
        "colab": {
          "base_uri": "https://localhost:8080/",
          "height": 81
        },
        "id": "z81y1ZQ77C9f",
        "outputId": "35acc961-7c57-408e-9969-a46a73730e75"
      },
      "source": [
        "# =============================================================== #\r\n",
        "# MAKE A SAMPLE ARRAY FOR DEMO\r\n",
        "# =============================================================== #\r\n",
        "xInput = {'avg_temp': [0],\r\n",
        "            'prcp': [0.03],\r\n",
        "            'humidity':[40],\r\n",
        "            'dew_point': [-1.460],\r\n",
        "            'stream_level':[0.001],\r\n",
        "            'lightning_strikes': [0]}\r\n",
        "\r\n",
        "X_input_Demo_df = pd.DataFrame(data=xInput)\r\n",
        "\r\n",
        "X_input_Demo_df\r\n",
        "\r\n",
        "# =============================================================== #\r\n",
        "# Look at data type\r\n",
        "# =============================================================== #\r\n",
        "# type(newInput)\r\n",
        "# newInput.dtypes"
      ],
      "execution_count": 40,
      "outputs": [
        {
          "output_type": "execute_result",
          "data": {
            "text/html": [
              "<div>\n",
              "<style scoped>\n",
              "    .dataframe tbody tr th:only-of-type {\n",
              "        vertical-align: middle;\n",
              "    }\n",
              "\n",
              "    .dataframe tbody tr th {\n",
              "        vertical-align: top;\n",
              "    }\n",
              "\n",
              "    .dataframe thead th {\n",
              "        text-align: right;\n",
              "    }\n",
              "</style>\n",
              "<table border=\"1\" class=\"dataframe\">\n",
              "  <thead>\n",
              "    <tr style=\"text-align: right;\">\n",
              "      <th></th>\n",
              "      <th>avg_temp</th>\n",
              "      <th>prcp</th>\n",
              "      <th>humidity</th>\n",
              "      <th>dew_point</th>\n",
              "      <th>stream_level</th>\n",
              "      <th>lightning_strikes</th>\n",
              "    </tr>\n",
              "  </thead>\n",
              "  <tbody>\n",
              "    <tr>\n",
              "      <th>0</th>\n",
              "      <td>0</td>\n",
              "      <td>0.03</td>\n",
              "      <td>40</td>\n",
              "      <td>-1.46</td>\n",
              "      <td>0.001</td>\n",
              "      <td>0</td>\n",
              "    </tr>\n",
              "  </tbody>\n",
              "</table>\n",
              "</div>"
            ],
            "text/plain": [
              "   avg_temp  prcp  humidity  dew_point  stream_level  lightning_strikes\n",
              "0         0  0.03        40      -1.46         0.001                  0"
            ]
          },
          "metadata": {
            "tags": []
          },
          "execution_count": 40
        }
      ]
    },
    {
      "cell_type": "code",
      "metadata": {
        "colab": {
          "base_uri": "https://localhost:8080/"
        },
        "id": "EHztSyh5-_TE",
        "outputId": "9714281e-b2d8-4264-fcf1-47ecfdb17c06"
      },
      "source": [
        "# =============================================================== #\r\n",
        "# PREP X VALUES FOR MODEL\r\n",
        "# =============================================================== #\r\n",
        "# # RESHAPE X FROM DF TO ARRAY\r\n",
        "newInput = X_input_Demo_df.values.reshape(-1, 6)\r\n",
        "\r\n",
        "# # SCALE NEW INPUTS\r\n",
        "newInputScaler = StandardScaler().fit(newInput)\r\n",
        "\r\n",
        "# # CREATE VARIABLES TO HOLD SCALED DATA\r\n",
        "scaledNewInputs = newInputScaler.transform(newInput)\r\n",
        "\r\n",
        "\r\n",
        "# # # # View output\r\n",
        "# print(f\"Shape of X Input is {newInput.shape}\")\r\n",
        "# print(f\"Type of X input is {type(newInput)}\")\r\n",
        "\r\n",
        "# =============================================================== #\r\n",
        "# RUN TEST\r\n",
        "# =============================================================== #\r\n",
        "newPredictions = loadedgridModel.predict(scaledNewInputs)\r\n",
        "newProbability = loadedgridModel.predict_proba(scaledNewInputs)\r\n",
        "\r\n",
        "# =============================================================== #\r\n",
        "# PRINT RESULTS\r\n",
        "# =============================================================== #\r\n",
        "fireProbabilityArray = np.round(newProbability [:, 1], 4)\r\n",
        "fireProbabilityPercentage = (fireProbabilityArray[0] * 100)\r\n",
        "\r\n",
        "print(f\"The probability of a fire given these conditions is: {fireProbabilityPercentage}%\")\r\n",
        "\r\n",
        "# # =============================================================== #\r\n",
        "# # CALCULATE CLASSIFICATION REPORT\r\n",
        "# # =============================================================== #\r\n",
        "# from sklearn.metrics import classification_report\r\n",
        "# print(classification_report(scaledNewInputs, newPredictions,\r\n",
        "#                             target_names=[\"True(Fire risk)\", \"False(No fire risk)\"]))\r\n"
      ],
      "execution_count": 41,
      "outputs": [
        {
          "output_type": "stream",
          "text": [
            "The probability of a fire given these conditions is: 48.3%\n"
          ],
          "name": "stdout"
        }
      ]
    },
    {
      "cell_type": "code",
      "metadata": {
        "id": "10vlMi2MAk7_"
      },
      "source": [
        ""
      ],
      "execution_count": 41,
      "outputs": []
    }
  ]
}