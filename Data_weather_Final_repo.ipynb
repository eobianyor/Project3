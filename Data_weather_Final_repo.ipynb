{
 "cells": [
  {
   "cell_type": "markdown",
   "metadata": {},
   "source": [
    "# ========================================"
   ]
  },
  {
   "cell_type": "markdown",
   "metadata": {},
   "source": [
    "# Import Dependencies"
   ]
  },
  {
   "cell_type": "markdown",
   "metadata": {},
   "source": [
    "# ========================================"
   ]
  },
  {
   "cell_type": "code",
   "execution_count": 1,
   "metadata": {},
   "outputs": [],
   "source": [
    "import os\n",
    "import csv\n",
    "# import math\n",
    "import numpy as np\n",
    "import pandas as pd\n",
    "from datetime import datetime\n",
    "from datetime import timedelta\n",
    "import matplotlib.pyplot as plt\n",
    "# import time\n",
    "# import requests\n",
    "# import datefinder\n",
    "\n",
    "# # FOR SQL LITE# ========================================\n",
    "# from sqlalchemy import create_engine\n",
    "# from datetime import date\n",
    "\n",
    "# # FOR PLOTTING\n",
    "# import matplotlib.pyplot as plt\n",
    "# from matplotlib import style\n",
    "# style.use(\"fivethirtyeight\")\n",
    "# from matplotlib import rcParams\n",
    "# rcParams['figure.figsize'] = 10, 8"
   ]
  },
  {
   "cell_type": "markdown",
   "metadata": {},
   "source": [
    "# ========================================"
   ]
  },
  {
   "cell_type": "markdown",
   "metadata": {},
   "source": [
    "# Step 1 - File Path for the CSV with Idaho Fire Data"
   ]
  },
  {
   "cell_type": "markdown",
   "metadata": {},
   "source": [
    "# ========================================"
   ]
  },
  {
   "cell_type": "markdown",
   "metadata": {},
   "source": [
    "## 1.1 File path for the Idaho Fire Data"
   ]
  },
  {
   "cell_type": "code",
   "execution_count": 2,
   "metadata": {},
   "outputs": [],
   "source": [
    "# File path for the CSV File; where, ID = Idaho, frs = fires, pth = path\n",
    "\n",
    "ID_frs_file_pth = os.path.join(\"Data\", \"fires_Idaho.csv\")"
   ]
  },
  {
   "cell_type": "markdown",
   "metadata": {},
   "source": [
    "## 1.2 List of Columns to Import from the Idaho Fire CSV"
   ]
  },
  {
   "cell_type": "code",
   "execution_count": 3,
   "metadata": {},
   "outputs": [],
   "source": [
    "# List of columns to import\n",
    "\n",
    "ID_frs_lst_Clmns = [\"FOD_ID\",\n",
    "                    \"FIRE_SIZE\",\n",
    "                    \"FIRE_SIZE_CLASS\",\n",
    "                    \"LATITUDE\",\n",
    "                    \"LONGITUDE\",\n",
    "                    \"COUNTY\",\n",
    "                    \"DISCOVERY_DATE_CONVERTED\",\n",
    "                    \"FIPS_NAME\"]"
   ]
  },
  {
   "cell_type": "markdown",
   "metadata": {},
   "source": [
    "## 1.3 Columns to Convert to a Datetime Data Type"
   ]
  },
  {
   "cell_type": "code",
   "execution_count": 4,
   "metadata": {},
   "outputs": [],
   "source": [
    "parse_dates = [\"DISCOVERY_DATE_CONVERTED\"]"
   ]
  },
  {
   "cell_type": "markdown",
   "metadata": {},
   "source": [
    "## 1.4 Import the Idaho Fire CSV"
   ]
  },
  {
   "cell_type": "code",
   "execution_count": 5,
   "metadata": {},
   "outputs": [],
   "source": [
    "# Open the CSV Files, Convert to a Dataframe, and Save as a Variable, fires_Idaho_df\n",
    "# Convert the Columne \"DISCOVERY_DATE_CONVERTED\" to a Datetime Datatype\n",
    "# Reference: \n",
    "#     - Parsing Dates\n",
    "#         - https://stackoverflow.com/questions/21269399/datetime-dtypes-in-pandas-read-csv\n",
    "#     - Usecols\n",
    "#         - https://pandas.pydata.org/pandas-docs/stable/reference/api/pandas.read_csv.html\n",
    "\n",
    "\n",
    "ID_frs_df = pd.read_csv(ID_frs_file_pth, usecols = ID_frs_lst_Clmns, parse_dates=parse_dates)"
   ]
  },
  {
   "cell_type": "markdown",
   "metadata": {},
   "source": [
    "## 1.5 Check to Make Sure the Data Imported Correctly "
   ]
  },
  {
   "cell_type": "code",
   "execution_count": null,
   "metadata": {
    "scrolled": false
   },
   "outputs": [],
   "source": [
    "# View the Data in the Dataframe to Make Sure it Imported Correctly\n",
    "print(ID_frs_df.keys())\n",
    "ID_frs_df.dtypes"
   ]
  },
  {
   "cell_type": "markdown",
   "metadata": {},
   "source": [
    "## 1.6 Check to Make Sure FOD_ID is a Unique Idenitfier"
   ]
  },
  {
   "cell_type": "markdown",
   "metadata": {},
   "source": [
    "If the Column \"FOD_ID\" is EQUAL to the Length of the \"ID_frs_df\" then PRINT \"FOD_ID is a Unique Idenitfier\"\n",
    "\n",
    "Else If the Column \"FOD_ID\" is NOT EQUAL to the Length of the \"ID_frs_df\" then PRINT \"NO!!!!!!! FOD_ID is NOT Unique Idenitfier\""
   ]
  },
  {
   "cell_type": "code",
   "execution_count": 6,
   "metadata": {},
   "outputs": [
    {
     "name": "stdout",
     "output_type": "stream",
     "text": [
      "FOD_ID is a Unique Idenitfier\n"
     ]
    }
   ],
   "source": [
    "if len(ID_frs_df) == len(pd.DataFrame(ID_frs_df[\"FOD_ID\"].unique())):\n",
    "    print(\"FOD_ID is a Unique Idenitfier\")\n",
    "elif len(ID_frs_df) == len(pd.DataFrame(ID_frs_df[\"FOD_ID\"].unique())):\n",
    "    print(\"NO!!!!!!! FOD_ID is NOT Unique Idenitfier\")"
   ]
  },
  {
   "cell_type": "code",
   "execution_count": 13,
   "metadata": {},
   "outputs": [
    {
     "data": {
      "text/plain": [
       "17360"
      ]
     },
     "execution_count": 13,
     "metadata": {},
     "output_type": "execute_result"
    }
   ],
   "source": [
    "len(ID_frs_df)"
   ]
  },
  {
   "cell_type": "markdown",
   "metadata": {},
   "source": [
    "# ========================================"
   ]
  },
  {
   "cell_type": "markdown",
   "metadata": {},
   "source": [
    "# Step 2 - Import Historic Weather Data and Combine with the Idaho Fire Data (ID_frs_df)"
   ]
  },
  {
   "cell_type": "markdown",
   "metadata": {},
   "source": [
    "# ========================================"
   ]
  },
  {
   "cell_type": "markdown",
   "metadata": {},
   "source": [
    "## 2.1 - Import Meteostat Library"
   ]
  },
  {
   "cell_type": "code",
   "execution_count": 7,
   "metadata": {},
   "outputs": [],
   "source": [
    "# Import Meteostat library and dependencies\n",
    "from meteostat import Stations, Daily"
   ]
  },
  {
   "cell_type": "markdown",
   "metadata": {},
   "source": [
    "## 2.2 - Pull the Data from the Meteostat library"
   ]
  },
  {
   "cell_type": "markdown",
   "metadata": {},
   "source": [
    "## 2.2.1 - List of Columns for the Dataframe with Fire and Weather Data  Combined"
   ]
  },
  {
   "cell_type": "markdown",
   "metadata": {},
   "source": [
    "### 2.2.1.1 - List of Columns from the Weather Data Dataframe"
   ]
  },
  {
   "cell_type": "code",
   "execution_count": 8,
   "metadata": {},
   "outputs": [],
   "source": [
    "# List of columns to import from the Meteostat Library\n",
    "\n",
    "ID_wthr_lst_Clmns = [\"avg_temp\", \"prcp\", \"time\"]"
   ]
  },
  {
   "cell_type": "markdown",
   "metadata": {},
   "source": [
    "### 2.2.1.2 - Combine the List of Columns from the Weather Data and Fire Dataframe"
   ]
  },
  {
   "cell_type": "code",
   "execution_count": 9,
   "metadata": {},
   "outputs": [
    {
     "name": "stdout",
     "output_type": "stream",
     "text": [
      "['avg_temp', 'prcp', 'time', 'FOD_ID', 'FIRE_SIZE', 'FIRE_SIZE_CLASS', 'LATITUDE', 'LONGITUDE', 'COUNTY', 'DISCOVERY_DATE_CONVERTED', 'FIPS_NAME']\n"
     ]
    }
   ],
   "source": [
    "# Combine the List of Columns from the Weather Data and Fire Dataframe\n",
    "\n",
    "ID_cmbnd_wthr_frs_lst_Clmns = ID_wthr_lst_Clmns + ID_frs_lst_Clmns\n",
    "print(ID_cmbnd_wthr_frs_lst_Clmns)"
   ]
  },
  {
   "cell_type": "markdown",
   "metadata": {},
   "source": [
    "## 2.2.2 - Loop Through Each Latitude and Longitude and Pull Weather the Data from the Meteostat Library and Combine it with the Idaho Fire Data"
   ]
  },
  {
   "cell_type": "code",
   "execution_count": 10,
   "metadata": {},
   "outputs": [],
   "source": [
    "# Take the data and put it into a dataframe\n",
    "\n",
    "# Idaho_county_Idaho_LatLong_df[\"LATITUDE\"][59]\n",
    "\n",
    "ID_cmbnd_wthr_frs_df = pd.DataFrame(columns = ID_cmbnd_wthr_frs_lst_Clmns)\n",
    "\n",
    "for frs_row in ID_frs_df.index:\n",
    "#         print(frs_row)\n",
    "#         print(Idaho_county_Idaho_df_2[\"FOD_ID\"][frs_row])\n",
    "        # Set time period\n",
    "        start = ID_frs_df[\"DISCOVERY_DATE_CONVERTED\"][frs_row] - timedelta(days=3)\n",
    "#         print(start)\n",
    "        end = ID_frs_df[\"DISCOVERY_DATE_CONVERTED\"][frs_row]\n",
    "#         print(end)\n",
    "        \n",
    "\n",
    "        \n",
    "        lat = ID_frs_df[\"LATITUDE\"][frs_row]\n",
    "#         print(Idaho_county_Idaho_df_2[\"LATITUDE\"][frs_row])\n",
    "        lon = ID_frs_df[\"LONGITUDE\"][frs_row]\n",
    "#         print(Idaho_county_Idaho_df_2[\"LONGITUDE\"][frs_row])\n",
    "        \n",
    "        # Get closest weather station to Vancouver, BC\n",
    "        stations = Stations()\n",
    "        stations = stations.nearby(lat, lon)\n",
    "        stations = stations.inventory('daily', (start, end))\n",
    "        station = stations.fetch(1)\n",
    "\n",
    "        # Get daily data for 2018 at the selected weather station\n",
    "        data = Daily(station, start, end)\n",
    "        data = data.aggregate() # Agg. Weekly data Commit out for daily, use 1M for monthly, 1W for weekly\n",
    "        data = data.fetch()\n",
    "        data = data.reset_index(level=0)\n",
    "        \n",
    "#         print(data[\"tavg\"])\n",
    "        \n",
    "        for wthr_row in data.index:\n",
    "#             print(data[\"tavg\"][wthr_row])\n",
    "#             print(data[\"prcp\"][wthr_row])\n",
    "#             print(data[\"time\"][wthr_row])\n",
    "            \n",
    "            ID_cmbnd_wthr_frs_df = ID_cmbnd_wthr_frs_df.append({\"FOD_ID\": ID_frs_df[\"FOD_ID\"][frs_row],\n",
    "                                                                \"FIRE_SIZE\": ID_frs_df[\"FIRE_SIZE\"][frs_row],\n",
    "                                                                \"FIRE_SIZE_CLASS\": ID_frs_df[\"FIRE_SIZE_CLASS\"][frs_row],\n",
    "                                                                \"COUNTY\": ID_frs_df[\"COUNTY\"][frs_row],\n",
    "                                                                \"DISCOVERY_DATE_CONVERTED\": ID_frs_df[\"DISCOVERY_DATE_CONVERTED\"][frs_row],\n",
    "                                                                \"FIPS_NAME\": ID_frs_df[\"FIPS_NAME\"][frs_row],\n",
    "                                                                \"LATITUDE\": ID_frs_df[\"LATITUDE\"][frs_row],\n",
    "                                                                \"LONGITUDE\": ID_frs_df[\"LONGITUDE\"][frs_row],\n",
    "                                                                \"avg_temp\": data[\"tavg\"][wthr_row],\n",
    "                                                                \"prcp\": data[\"prcp\"][wthr_row],\n",
    "                                                                \"time\": data[\"time\"][wthr_row]},\n",
    "                                                                ignore_index = True)"
   ]
  },
  {
   "cell_type": "code",
   "execution_count": 11,
   "metadata": {},
   "outputs": [
    {
     "data": {
      "text/html": [
       "<div>\n",
       "<style scoped>\n",
       "    .dataframe tbody tr th:only-of-type {\n",
       "        vertical-align: middle;\n",
       "    }\n",
       "\n",
       "    .dataframe tbody tr th {\n",
       "        vertical-align: top;\n",
       "    }\n",
       "\n",
       "    .dataframe thead th {\n",
       "        text-align: right;\n",
       "    }\n",
       "</style>\n",
       "<table border=\"1\" class=\"dataframe\">\n",
       "  <thead>\n",
       "    <tr style=\"text-align: right;\">\n",
       "      <th></th>\n",
       "      <th>avg_temp</th>\n",
       "      <th>prcp</th>\n",
       "      <th>time</th>\n",
       "      <th>FOD_ID</th>\n",
       "      <th>FIRE_SIZE</th>\n",
       "      <th>FIRE_SIZE_CLASS</th>\n",
       "      <th>LATITUDE</th>\n",
       "      <th>LONGITUDE</th>\n",
       "      <th>COUNTY</th>\n",
       "      <th>DISCOVERY_DATE_CONVERTED</th>\n",
       "      <th>FIPS_NAME</th>\n",
       "    </tr>\n",
       "  </thead>\n",
       "  <tbody>\n",
       "    <tr>\n",
       "      <th>0</th>\n",
       "      <td>25.0</td>\n",
       "      <td>0.5</td>\n",
       "      <td>2005-07-13</td>\n",
       "      <td>155</td>\n",
       "      <td>0.1</td>\n",
       "      <td>A</td>\n",
       "      <td>44.488611</td>\n",
       "      <td>-111.256111</td>\n",
       "      <td>43</td>\n",
       "      <td>2005-07-16</td>\n",
       "      <td>Fremont</td>\n",
       "    </tr>\n",
       "    <tr>\n",
       "      <th>1</th>\n",
       "      <td>20.6</td>\n",
       "      <td>0.0</td>\n",
       "      <td>2005-07-14</td>\n",
       "      <td>155</td>\n",
       "      <td>0.1</td>\n",
       "      <td>A</td>\n",
       "      <td>44.488611</td>\n",
       "      <td>-111.256111</td>\n",
       "      <td>43</td>\n",
       "      <td>2005-07-16</td>\n",
       "      <td>Fremont</td>\n",
       "    </tr>\n",
       "    <tr>\n",
       "      <th>2</th>\n",
       "      <td>21.1</td>\n",
       "      <td>0.0</td>\n",
       "      <td>2005-07-15</td>\n",
       "      <td>155</td>\n",
       "      <td>0.1</td>\n",
       "      <td>A</td>\n",
       "      <td>44.488611</td>\n",
       "      <td>-111.256111</td>\n",
       "      <td>43</td>\n",
       "      <td>2005-07-16</td>\n",
       "      <td>Fremont</td>\n",
       "    </tr>\n",
       "    <tr>\n",
       "      <th>3</th>\n",
       "      <td>21.7</td>\n",
       "      <td>0.0</td>\n",
       "      <td>2005-07-16</td>\n",
       "      <td>155</td>\n",
       "      <td>0.1</td>\n",
       "      <td>A</td>\n",
       "      <td>44.488611</td>\n",
       "      <td>-111.256111</td>\n",
       "      <td>43</td>\n",
       "      <td>2005-07-16</td>\n",
       "      <td>Fremont</td>\n",
       "    </tr>\n",
       "    <tr>\n",
       "      <th>4</th>\n",
       "      <td>17.8</td>\n",
       "      <td>0.0</td>\n",
       "      <td>2005-06-29</td>\n",
       "      <td>172</td>\n",
       "      <td>0.1</td>\n",
       "      <td>A</td>\n",
       "      <td>42.736389</td>\n",
       "      <td>-112.384444</td>\n",
       "      <td>5</td>\n",
       "      <td>2005-07-02</td>\n",
       "      <td>Bannock</td>\n",
       "    </tr>\n",
       "  </tbody>\n",
       "</table>\n",
       "</div>"
      ],
      "text/plain": [
       "   avg_temp  prcp       time FOD_ID  FIRE_SIZE FIRE_SIZE_CLASS   LATITUDE  \\\n",
       "0      25.0   0.5 2005-07-13    155        0.1               A  44.488611   \n",
       "1      20.6   0.0 2005-07-14    155        0.1               A  44.488611   \n",
       "2      21.1   0.0 2005-07-15    155        0.1               A  44.488611   \n",
       "3      21.7   0.0 2005-07-16    155        0.1               A  44.488611   \n",
       "4      17.8   0.0 2005-06-29    172        0.1               A  42.736389   \n",
       "\n",
       "    LONGITUDE COUNTY DISCOVERY_DATE_CONVERTED FIPS_NAME  \n",
       "0 -111.256111     43               2005-07-16   Fremont  \n",
       "1 -111.256111     43               2005-07-16   Fremont  \n",
       "2 -111.256111     43               2005-07-16   Fremont  \n",
       "3 -111.256111     43               2005-07-16   Fremont  \n",
       "4 -112.384444      5               2005-07-02   Bannock  "
      ]
     },
     "execution_count": 11,
     "metadata": {},
     "output_type": "execute_result"
    }
   ],
   "source": [
    "ID_cmbnd_wthr_frs_df.head()"
   ]
  },
  {
   "cell_type": "code",
   "execution_count": 12,
   "metadata": {},
   "outputs": [
    {
     "data": {
      "text/plain": [
       "69157"
      ]
     },
     "execution_count": 12,
     "metadata": {},
     "output_type": "execute_result"
    }
   ],
   "source": [
    "len(ID_cmbnd_wthr_frs_df)"
   ]
  },
  {
   "cell_type": "markdown",
   "metadata": {},
   "source": [
    "# Step 3 - Export the Data to a CSV File"
   ]
  },
  {
   "cell_type": "code",
   "execution_count": 14,
   "metadata": {},
   "outputs": [],
   "source": [
    "# File path to export the CSV File\n",
    "export_file_pth = os.path.join(\"Data\", \"Idaho_Fire_Weather_Data.csv\")\n",
    "\n",
    "ID_cmbnd_wthr_frs_df.to_csv(export_file_pth)"
   ]
  }
 ],
 "metadata": {
  "kernelspec": {
   "display_name": "Python 3",
   "language": "python",
   "name": "python3"
  },
  "language_info": {
   "codemirror_mode": {
    "name": "ipython",
    "version": 3
   },
   "file_extension": ".py",
   "mimetype": "text/x-python",
   "name": "python",
   "nbconvert_exporter": "python",
   "pygments_lexer": "ipython3",
   "version": "3.7.6"
  }
 },
 "nbformat": 4,
 "nbformat_minor": 4
}
