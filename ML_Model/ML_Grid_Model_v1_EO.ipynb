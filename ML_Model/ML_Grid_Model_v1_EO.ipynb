{
 "cells": [
  {
   "cell_type": "code",
   "execution_count": 1,
   "metadata": {},
   "outputs": [],
   "source": [
    "# IMPORT DEPENDENCIES\n",
    "# FOR DATA\n",
    "import pandas as pd\n",
    "import os\n",
    "import csv\n",
    "import math\n",
    "import numpy as np\n",
    "import time\n",
    "import datetime\n",
    "# import requests\n",
    "# import datefinder\n",
    "\n",
    "# # FOR SQL LITE\n",
    "# from sqlalchemy import create_engine\n",
    "# from datetime import date\n",
    "\n",
    "# # FOR PLOTTING\n",
    "import matplotlib.pyplot as plt\n",
    "from matplotlib import style\n",
    "style.use(\"fivethirtyeight\")\n",
    "from matplotlib import rcParams\n",
    "rcParams['figure.figsize'] = 10, 8\n",
    "\n",
    "# FOR MODELING\n",
    "from sklearn.model_selection import train_test_split\n",
    "from keras.utils import to_categorical\n",
    "\n",
    "# FOR KNN AND OTHER MODELING\n",
    "from scipy.optimize import curve_fit\n",
    "# from splinter import Browser\n",
    "# from bs4 import BeautifulSoup as BS\n",
    "from sklearn.svm import SVC\n",
    "from sklearn.datasets import load_iris\n",
    "from sklearn.datasets import make_blobs\n",
    "from sklearn.model_selection import GridSearchCV\n",
    "from sklearn.model_selection import KFold\n",
    "from sklearn.model_selection import cross_val_score\n",
    "from sklearn.neighbors import KNeighborsClassifier\n",
    "from sklearn.preprocessing import StandardScaler\n",
    "from sklearn.datasets import make_classification\n",
    "\n",
    "# # FOR TF MODELS\n",
    "# import keras.models\n",
    "# import keras.layers\n",
    "# import keras.utils\n",
    "# from keras.models import Sequential\n",
    "# from keras.layers import Dense, Dropout\n"
   ]
  },
  {
   "cell_type": "code",
   "execution_count": 2,
   "metadata": {},
   "outputs": [],
   "source": [
    "idahoCounties = ['Ada', 'Adams', 'Bannock', 'Bear Lake', 'Benewah', 'Bingham', 'Blaine', 'Boise', 'Bonner', 'Bonneville', 'Boundary','Butte', \n",
    " 'Camas', 'Canyon', 'Caribou', 'Cassia', 'Clark', 'Clearwater', 'Custer', 'Elmore', 'Franklin', 'Fremont', 'Gem', 'Gooding', \n",
    " 'Idaho', 'Jefferson', 'Jerome' 'Kootenai', 'Latah', 'Lemhi', 'Lewis', 'Lincoln', 'Madison', 'Minidoka','Nez Perce', \n",
    " 'Oneida', 'Owyhee', 'Payette', 'Power', 'Shoshone', 'Teton', 'Twin Falls', 'Valley', 'Washington']\n",
    "        \n",
    "\n",
    "notIdahoCounties = ['Baker', 'Beaverhead', 'Box Elder', 'Elko', 'Gallatin', 'Malheur', 'Mineral', 'Missoula', 'Ravalli', 'Sanders']"
   ]
  },
  {
   "cell_type": "markdown",
   "metadata": {},
   "source": [
    "# IMPORT DATA"
   ]
  },
  {
   "cell_type": "code",
   "execution_count": 3,
   "metadata": {},
   "outputs": [],
   "source": [
    "# File path for the CSV Files\n",
    "idahoFireWeatherDrought = os.path.join(\"..\", \"Data\", \"fires_Idaho_2000_2015_drought_weather.csv\")\n",
    "\n",
    "# Open the CSV Files, Convert to a Dataframe, and Save as a Variable\n",
    "idaho_Fire_Weather_Drought_df = pd.read_csv(idahoFireWeatherDrought)\n",
    "# fires_Idaho_df = pd.read_csv(idahoFires, dtype={\"LOCAL_INCIDENT_ID\": 'string', \"FIRE_NAME\": 'string'})"
   ]
  },
  {
   "cell_type": "code",
   "execution_count": 4,
   "metadata": {},
   "outputs": [
    {
     "data": {
      "text/html": [
       "<div>\n",
       "<style scoped>\n",
       "    .dataframe tbody tr th:only-of-type {\n",
       "        vertical-align: middle;\n",
       "    }\n",
       "\n",
       "    .dataframe tbody tr th {\n",
       "        vertical-align: top;\n",
       "    }\n",
       "\n",
       "    .dataframe thead th {\n",
       "        text-align: right;\n",
       "    }\n",
       "</style>\n",
       "<table border=\"1\" class=\"dataframe\">\n",
       "  <thead>\n",
       "    <tr style=\"text-align: right;\">\n",
       "      <th></th>\n",
       "      <th>Unnamed: 0</th>\n",
       "      <th>OBJECTID</th>\n",
       "      <th>Shape</th>\n",
       "      <th>Join_Count</th>\n",
       "      <th>TARGET_FID</th>\n",
       "      <th>FOD_ID</th>\n",
       "      <th>FPA_ID</th>\n",
       "      <th>SOURCE_SYSTEM_TYPE</th>\n",
       "      <th>SOURCE_SYSTEM</th>\n",
       "      <th>NWCG_REPORTING_AGENCY</th>\n",
       "      <th>...</th>\n",
       "      <th>DAY_PRCP_2</th>\n",
       "      <th>DAY_PRCP_3</th>\n",
       "      <th>DAY_PRCP_4</th>\n",
       "      <th>DAY_AVG_TEMP_1</th>\n",
       "      <th>DAY_AVG_TEMP_2</th>\n",
       "      <th>DAY_AVG_TEMP_3</th>\n",
       "      <th>DAY_AVG_TEMP_4</th>\n",
       "      <th>FIRE_DAYS</th>\n",
       "      <th>COUNTY_NAME</th>\n",
       "      <th>DISCOVERY_MONTH_CONVERTED</th>\n",
       "    </tr>\n",
       "  </thead>\n",
       "  <tbody>\n",
       "    <tr>\n",
       "      <td>0</td>\n",
       "      <td>0</td>\n",
       "      <td>152</td>\n",
       "      <td>Point</td>\n",
       "      <td>1</td>\n",
       "      <td>152</td>\n",
       "      <td>155</td>\n",
       "      <td>FS-1419238</td>\n",
       "      <td>FED</td>\n",
       "      <td>FS-FIRESTAT</td>\n",
       "      <td>FS</td>\n",
       "      <td>...</td>\n",
       "      <td>0.0</td>\n",
       "      <td>0.0</td>\n",
       "      <td>0.0</td>\n",
       "      <td>77.00</td>\n",
       "      <td>69.08</td>\n",
       "      <td>69.98</td>\n",
       "      <td>71.06</td>\n",
       "      <td>1</td>\n",
       "      <td>Fremont</td>\n",
       "      <td>7</td>\n",
       "    </tr>\n",
       "    <tr>\n",
       "      <td>1</td>\n",
       "      <td>1</td>\n",
       "      <td>169</td>\n",
       "      <td>Point</td>\n",
       "      <td>1</td>\n",
       "      <td>169</td>\n",
       "      <td>172</td>\n",
       "      <td>FS-1419278</td>\n",
       "      <td>FED</td>\n",
       "      <td>FS-FIRESTAT</td>\n",
       "      <td>FS</td>\n",
       "      <td>...</td>\n",
       "      <td>0.0</td>\n",
       "      <td>0.0</td>\n",
       "      <td>0.0</td>\n",
       "      <td>64.04</td>\n",
       "      <td>62.06</td>\n",
       "      <td>69.08</td>\n",
       "      <td>66.92</td>\n",
       "      <td>1</td>\n",
       "      <td>Bannock</td>\n",
       "      <td>7</td>\n",
       "    </tr>\n",
       "    <tr>\n",
       "      <td>2</td>\n",
       "      <td>2</td>\n",
       "      <td>173</td>\n",
       "      <td>Point</td>\n",
       "      <td>1</td>\n",
       "      <td>173</td>\n",
       "      <td>176</td>\n",
       "      <td>FS-1419291</td>\n",
       "      <td>FED</td>\n",
       "      <td>FS-FIRESTAT</td>\n",
       "      <td>FS</td>\n",
       "      <td>...</td>\n",
       "      <td>0.0</td>\n",
       "      <td>0.0</td>\n",
       "      <td>0.0</td>\n",
       "      <td>69.08</td>\n",
       "      <td>66.92</td>\n",
       "      <td>64.04</td>\n",
       "      <td>64.94</td>\n",
       "      <td>1</td>\n",
       "      <td>Bannock</td>\n",
       "      <td>7</td>\n",
       "    </tr>\n",
       "    <tr>\n",
       "      <td>3</td>\n",
       "      <td>3</td>\n",
       "      <td>174</td>\n",
       "      <td>Point</td>\n",
       "      <td>1</td>\n",
       "      <td>174</td>\n",
       "      <td>177</td>\n",
       "      <td>FS-1419292</td>\n",
       "      <td>FED</td>\n",
       "      <td>FS-FIRESTAT</td>\n",
       "      <td>FS</td>\n",
       "      <td>...</td>\n",
       "      <td>0.0</td>\n",
       "      <td>0.0</td>\n",
       "      <td>0.0</td>\n",
       "      <td>69.08</td>\n",
       "      <td>66.92</td>\n",
       "      <td>64.04</td>\n",
       "      <td>64.94</td>\n",
       "      <td>1</td>\n",
       "      <td>Bannock</td>\n",
       "      <td>7</td>\n",
       "    </tr>\n",
       "    <tr>\n",
       "      <td>4</td>\n",
       "      <td>4</td>\n",
       "      <td>175</td>\n",
       "      <td>Point</td>\n",
       "      <td>1</td>\n",
       "      <td>175</td>\n",
       "      <td>178</td>\n",
       "      <td>FS-1419293</td>\n",
       "      <td>FED</td>\n",
       "      <td>FS-FIRESTAT</td>\n",
       "      <td>FS</td>\n",
       "      <td>...</td>\n",
       "      <td>0.0</td>\n",
       "      <td>0.0</td>\n",
       "      <td>0.8</td>\n",
       "      <td>64.94</td>\n",
       "      <td>68.00</td>\n",
       "      <td>71.96</td>\n",
       "      <td>71.96</td>\n",
       "      <td>1</td>\n",
       "      <td>Bannock</td>\n",
       "      <td>7</td>\n",
       "    </tr>\n",
       "    <tr>\n",
       "      <td>...</td>\n",
       "      <td>...</td>\n",
       "      <td>...</td>\n",
       "      <td>...</td>\n",
       "      <td>...</td>\n",
       "      <td>...</td>\n",
       "      <td>...</td>\n",
       "      <td>...</td>\n",
       "      <td>...</td>\n",
       "      <td>...</td>\n",
       "      <td>...</td>\n",
       "      <td>...</td>\n",
       "      <td>...</td>\n",
       "      <td>...</td>\n",
       "      <td>...</td>\n",
       "      <td>...</td>\n",
       "      <td>...</td>\n",
       "      <td>...</td>\n",
       "      <td>...</td>\n",
       "      <td>...</td>\n",
       "      <td>...</td>\n",
       "      <td>...</td>\n",
       "    </tr>\n",
       "    <tr>\n",
       "      <td>15481</td>\n",
       "      <td>15481</td>\n",
       "      <td>1847545</td>\n",
       "      <td>Point</td>\n",
       "      <td>1</td>\n",
       "      <td>1847545</td>\n",
       "      <td>300274025</td>\n",
       "      <td>SFO-2015IDIDL6102015028</td>\n",
       "      <td>NONFED</td>\n",
       "      <td>ST-NASF</td>\n",
       "      <td>ST/C&amp;L</td>\n",
       "      <td>...</td>\n",
       "      <td>0.0</td>\n",
       "      <td>0.0</td>\n",
       "      <td>0.0</td>\n",
       "      <td>64.58</td>\n",
       "      <td>60.80</td>\n",
       "      <td>59.90</td>\n",
       "      <td>60.62</td>\n",
       "      <td>2</td>\n",
       "      <td>Boise</td>\n",
       "      <td>10</td>\n",
       "    </tr>\n",
       "    <tr>\n",
       "      <td>15483</td>\n",
       "      <td>15483</td>\n",
       "      <td>1847684</td>\n",
       "      <td>Point</td>\n",
       "      <td>1</td>\n",
       "      <td>1847684</td>\n",
       "      <td>300274204</td>\n",
       "      <td>SFO-2015IDIDL2102015023</td>\n",
       "      <td>NONFED</td>\n",
       "      <td>ST-NASF</td>\n",
       "      <td>ST/C&amp;L</td>\n",
       "      <td>...</td>\n",
       "      <td>0.0</td>\n",
       "      <td>0.9</td>\n",
       "      <td>0.0</td>\n",
       "      <td>58.28</td>\n",
       "      <td>60.08</td>\n",
       "      <td>66.74</td>\n",
       "      <td>59.36</td>\n",
       "      <td>2</td>\n",
       "      <td>Boundary</td>\n",
       "      <td>10</td>\n",
       "    </tr>\n",
       "    <tr>\n",
       "      <td>15484</td>\n",
       "      <td>15484</td>\n",
       "      <td>1847710</td>\n",
       "      <td>Point</td>\n",
       "      <td>1</td>\n",
       "      <td>1847710</td>\n",
       "      <td>300274236</td>\n",
       "      <td>SFO-2015IDIDL2102015021</td>\n",
       "      <td>NONFED</td>\n",
       "      <td>ST-NASF</td>\n",
       "      <td>ST/C&amp;L</td>\n",
       "      <td>...</td>\n",
       "      <td>0.9</td>\n",
       "      <td>0.0</td>\n",
       "      <td>0.0</td>\n",
       "      <td>60.08</td>\n",
       "      <td>66.74</td>\n",
       "      <td>59.36</td>\n",
       "      <td>50.00</td>\n",
       "      <td>1</td>\n",
       "      <td>Boundary</td>\n",
       "      <td>10</td>\n",
       "    </tr>\n",
       "    <tr>\n",
       "      <td>15485</td>\n",
       "      <td>15485</td>\n",
       "      <td>1847762</td>\n",
       "      <td>Point</td>\n",
       "      <td>1</td>\n",
       "      <td>1847762</td>\n",
       "      <td>300274306</td>\n",
       "      <td>SFO-2015IDIDL9802015030</td>\n",
       "      <td>NONFED</td>\n",
       "      <td>ST-NASF</td>\n",
       "      <td>ST/C&amp;L</td>\n",
       "      <td>...</td>\n",
       "      <td>0.0</td>\n",
       "      <td>0.0</td>\n",
       "      <td>0.0</td>\n",
       "      <td>67.28</td>\n",
       "      <td>58.46</td>\n",
       "      <td>61.52</td>\n",
       "      <td>63.68</td>\n",
       "      <td>1</td>\n",
       "      <td>Valley</td>\n",
       "      <td>10</td>\n",
       "    </tr>\n",
       "    <tr>\n",
       "      <td>15486</td>\n",
       "      <td>15486</td>\n",
       "      <td>1848009</td>\n",
       "      <td>Point</td>\n",
       "      <td>1</td>\n",
       "      <td>1848009</td>\n",
       "      <td>300274600</td>\n",
       "      <td>SFO-2015IDIDL2102015024</td>\n",
       "      <td>NONFED</td>\n",
       "      <td>ST-NASF</td>\n",
       "      <td>ST/C&amp;L</td>\n",
       "      <td>...</td>\n",
       "      <td>0.0</td>\n",
       "      <td>0.0</td>\n",
       "      <td>0.0</td>\n",
       "      <td>50.18</td>\n",
       "      <td>51.80</td>\n",
       "      <td>53.06</td>\n",
       "      <td>55.40</td>\n",
       "      <td>2</td>\n",
       "      <td>Boundary</td>\n",
       "      <td>10</td>\n",
       "    </tr>\n",
       "  </tbody>\n",
       "</table>\n",
       "<p>14902 rows × 119 columns</p>\n",
       "</div>"
      ],
      "text/plain": [
       "       Unnamed: 0  OBJECTID  Shape  Join_Count  TARGET_FID     FOD_ID  \\\n",
       "0               0       152  Point           1         152        155   \n",
       "1               1       169  Point           1         169        172   \n",
       "2               2       173  Point           1         173        176   \n",
       "3               3       174  Point           1         174        177   \n",
       "4               4       175  Point           1         175        178   \n",
       "...           ...       ...    ...         ...         ...        ...   \n",
       "15481       15481   1847545  Point           1     1847545  300274025   \n",
       "15483       15483   1847684  Point           1     1847684  300274204   \n",
       "15484       15484   1847710  Point           1     1847710  300274236   \n",
       "15485       15485   1847762  Point           1     1847762  300274306   \n",
       "15486       15486   1848009  Point           1     1848009  300274600   \n",
       "\n",
       "                        FPA_ID SOURCE_SYSTEM_TYPE SOURCE_SYSTEM  \\\n",
       "0                   FS-1419238                FED   FS-FIRESTAT   \n",
       "1                   FS-1419278                FED   FS-FIRESTAT   \n",
       "2                   FS-1419291                FED   FS-FIRESTAT   \n",
       "3                   FS-1419292                FED   FS-FIRESTAT   \n",
       "4                   FS-1419293                FED   FS-FIRESTAT   \n",
       "...                        ...                ...           ...   \n",
       "15481  SFO-2015IDIDL6102015028             NONFED       ST-NASF   \n",
       "15483  SFO-2015IDIDL2102015023             NONFED       ST-NASF   \n",
       "15484  SFO-2015IDIDL2102015021             NONFED       ST-NASF   \n",
       "15485  SFO-2015IDIDL9802015030             NONFED       ST-NASF   \n",
       "15486  SFO-2015IDIDL2102015024             NONFED       ST-NASF   \n",
       "\n",
       "      NWCG_REPORTING_AGENCY  ... DAY_PRCP_2 DAY_PRCP_3 DAY_PRCP_4  \\\n",
       "0                        FS  ...        0.0        0.0        0.0   \n",
       "1                        FS  ...        0.0        0.0        0.0   \n",
       "2                        FS  ...        0.0        0.0        0.0   \n",
       "3                        FS  ...        0.0        0.0        0.0   \n",
       "4                        FS  ...        0.0        0.0        0.8   \n",
       "...                     ...  ...        ...        ...        ...   \n",
       "15481                ST/C&L  ...        0.0        0.0        0.0   \n",
       "15483                ST/C&L  ...        0.0        0.9        0.0   \n",
       "15484                ST/C&L  ...        0.9        0.0        0.0   \n",
       "15485                ST/C&L  ...        0.0        0.0        0.0   \n",
       "15486                ST/C&L  ...        0.0        0.0        0.0   \n",
       "\n",
       "      DAY_AVG_TEMP_1  DAY_AVG_TEMP_2 DAY_AVG_TEMP_3 DAY_AVG_TEMP_4 FIRE_DAYS  \\\n",
       "0              77.00           69.08          69.98          71.06         1   \n",
       "1              64.04           62.06          69.08          66.92         1   \n",
       "2              69.08           66.92          64.04          64.94         1   \n",
       "3              69.08           66.92          64.04          64.94         1   \n",
       "4              64.94           68.00          71.96          71.96         1   \n",
       "...              ...             ...            ...            ...       ...   \n",
       "15481          64.58           60.80          59.90          60.62         2   \n",
       "15483          58.28           60.08          66.74          59.36         2   \n",
       "15484          60.08           66.74          59.36          50.00         1   \n",
       "15485          67.28           58.46          61.52          63.68         1   \n",
       "15486          50.18           51.80          53.06          55.40         2   \n",
       "\n",
       "      COUNTY_NAME DISCOVERY_MONTH_CONVERTED  \n",
       "0         Fremont                         7  \n",
       "1         Bannock                         7  \n",
       "2         Bannock                         7  \n",
       "3         Bannock                         7  \n",
       "4         Bannock                         7  \n",
       "...           ...                       ...  \n",
       "15481       Boise                        10  \n",
       "15483    Boundary                        10  \n",
       "15484    Boundary                        10  \n",
       "15485      Valley                        10  \n",
       "15486    Boundary                        10  \n",
       "\n",
       "[14902 rows x 119 columns]"
      ]
     },
     "execution_count": 4,
     "metadata": {},
     "output_type": "execute_result"
    }
   ],
   "source": [
    "# CONVERT DATE TO DATETIME FORMAT\n",
    "idaho_Fire_Weather_Drought_df['DISCOVERY_DATE_CONVERTED'] = pd.to_datetime(idaho_Fire_Weather_Drought_df['DISCOVERY_DATE_CONVERTED'])\n",
    "idaho_Fire_Weather_Drought_df['CONT_DATE_CONVERTED'] = pd.to_datetime(idaho_Fire_Weather_Drought_df['CONT_DATE_CONVERTED'])\n",
    "\n",
    "# CREATE COLUMNS WE NEED\n",
    "idaho_Fire_Weather_Drought_df['FIRE_DAYS'] = (((idaho_Fire_Weather_Drought_df['CONT_DOY']) + 1) - idaho_Fire_Weather_Drought_df['DISCOVERY_DOY'])\n",
    "idaho_Fire_Weather_Drought_df['COUNTY_NAME'] = (idaho_Fire_Weather_Drought_df['FIPS_NAME'])\n",
    "# Create month column\n",
    "idaho_Fire_Weather_Drought_df['DISCOVERY_MONTH_CONVERTED']=idaho_Fire_Weather_Drought_df['DISCOVERY_DATE_CONVERTED'].apply(lambda x: int(x.strftime('%m')))\n",
    "\n",
    "# FILTER ROWS FOR FIRES IN COUNTIES OUTSIDE IDAHO\n",
    "idaho_Fire_Weather_Drought_df = idaho_Fire_Weather_Drought_df[idaho_Fire_Weather_Drought_df['NAME'].isin(idahoCounties)]\n",
    "\n",
    "# View the Data in the Dataframe\n",
    "# print(idaho_Fire_Weather_df.keys())\n",
    "idaho_Fire_Weather_Drought_df"
   ]
  },
  {
   "cell_type": "code",
   "execution_count": 5,
   "metadata": {},
   "outputs": [
    {
     "data": {
      "text/plain": [
       "True"
      ]
     },
     "execution_count": 5,
     "metadata": {},
     "output_type": "execute_result"
    }
   ],
   "source": [
    "np.dtype('datetime64[ns]') == np.dtype('<M8[ns]')"
   ]
  },
  {
   "cell_type": "code",
   "execution_count": 6,
   "metadata": {},
   "outputs": [],
   "source": [
    "# Get Avg for values\n",
    "Day1_prcp = idaho_Fire_Weather_Drought_df['DAY_PRCP_1'].mean()\n",
    "Day2_prcp = idaho_Fire_Weather_Drought_df['DAY_PRCP_2'].mean()\n",
    "Day3_prcp = idaho_Fire_Weather_Drought_df['DAY_PRCP_3'].mean()\n",
    "Day4_prcp = idaho_Fire_Weather_Drought_df['DAY_PRCP_4'].mean()\n",
    "Day1_temp = idaho_Fire_Weather_Drought_df['DAY_AVG_TEMP_1'].mean()\n",
    "Day2_temp = idaho_Fire_Weather_Drought_df['DAY_AVG_TEMP_2'].mean()\n",
    "Day3_temp = idaho_Fire_Weather_Drought_df['DAY_AVG_TEMP_3'].mean()\n",
    "Day4_temp = idaho_Fire_Weather_Drought_df['DAY_AVG_TEMP_4'].mean()\n",
    "\n",
    "# Use Avg values to fill any null values\n",
    "idaho_Fire_Weather_Drought_df['DAY_PRCP_1'] = idaho_Fire_Weather_Drought_df['DAY_PRCP_1'].fillna(Day1_prcp)\n",
    "idaho_Fire_Weather_Drought_df['DAY_PRCP_2'] = idaho_Fire_Weather_Drought_df['DAY_PRCP_2'].fillna(Day2_prcp)\n",
    "idaho_Fire_Weather_Drought_df['DAY_PRCP_3'] = idaho_Fire_Weather_Drought_df['DAY_PRCP_3'].fillna(Day3_prcp)\n",
    "idaho_Fire_Weather_Drought_df['DAY_PRCP_4'] = idaho_Fire_Weather_Drought_df['DAY_PRCP_4'].fillna(Day4_prcp)\n",
    "idaho_Fire_Weather_Drought_df['DAY_AVG_TEMP_1'] = idaho_Fire_Weather_Drought_df['DAY_AVG_TEMP_1'].fillna(Day1_temp)\n",
    "idaho_Fire_Weather_Drought_df['DAY_AVG_TEMP_2'] = idaho_Fire_Weather_Drought_df['DAY_AVG_TEMP_2'].fillna(Day2_temp)\n",
    "idaho_Fire_Weather_Drought_df['DAY_AVG_TEMP_3'] = idaho_Fire_Weather_Drought_df['DAY_AVG_TEMP_3'].fillna(Day3_temp)\n",
    "idaho_Fire_Weather_Drought_df['DAY_AVG_TEMP_4'] = idaho_Fire_Weather_Drought_df['DAY_AVG_TEMP_4'].fillna(Day4_temp)"
   ]
  },
  {
   "cell_type": "code",
   "execution_count": 7,
   "metadata": {},
   "outputs": [],
   "source": [
    "# I'm intentionally not looking at \"LoanAmount\", because I don't want to print out every possible loan value\n",
    "contains_null = ['LATITUDE', 'LONGITUDE', 'AVE_FAM_SZ', 'NO_FARMS12', 'AVE_SIZE12', 'CROP_ACR12', 'None', 'D0','D1', 'D2', 'D3', 'D4', \n",
    "                                   'DAY_PRCP_1', 'DAY_PRCP_2', 'DAY_PRCP_3', 'DAY_PRCP_4', 'DAY_AVG_TEMP_1', 'DAY_AVG_TEMP_2', 'DAY_AVG_TEMP_3', 'DAY_AVG_TEMP_4']\n",
    "\n",
    "# for col in contains_null:\n",
    "#     print(f\"List of unique labels for {col}:::{set(idaho_Fire_Weather_Drought_df[col])}\")"
   ]
  },
  {
   "cell_type": "code",
   "execution_count": 8,
   "metadata": {},
   "outputs": [],
   "source": [
    "# # Get dummy variables for nominal property column\n",
    "# # idaho_Fire_Weather_df = pd.get_dummies(idaho_Fire_Weather_df, columns=[\"FIRE_SIZE_CLASS\"])\n",
    "# idaho_Fire_Weather_Drought_df = pd.get_dummies(idaho_Fire_Weather_Drought_df, columns=[\"CITY\"])\n",
    "# idaho_Fire_Weather_Drought_df = pd.get_dummies(idaho_Fire_Weather_Drought_df, columns=[\"NAME\"])\n",
    "\n",
    "# # FIRE_SIZE_CLASS_NOS  = {'A' : 1, 'B' : 2, 'C' : 3, 'D' : 4, 'E' : 5, 'F' : 6, 'G' : 7}\n",
    "\n",
    "# # # replace values in each column according to the dictionaries above\n",
    "# # clean_fires_Idaho_2000_2015_df.replace({'FIRE_SIZE_CLASS': FIRE_SIZE_CLASS_NOS}, inplace=True) \n",
    "                    \n",
    "# idaho_Fire_Weather_Drought_df.isnull().sum()"
   ]
  },
  {
   "cell_type": "markdown",
   "metadata": {},
   "source": [
    "# MODELING"
   ]
  },
  {
   "cell_type": "markdown",
   "metadata": {},
   "source": [
    "## CREATING A KNN NETWORK MODEL"
   ]
  },
  {
   "cell_type": "code",
   "execution_count": 9,
   "metadata": {},
   "outputs": [],
   "source": [
    "# idaho_Fire_Weather_Drought_df"
   ]
  },
  {
   "cell_type": "code",
   "execution_count": 10,
   "metadata": {},
   "outputs": [
    {
     "name": "stderr",
     "output_type": "stream",
     "text": [
      "C:\\ProgramData\\Anaconda3\\lib\\site-packages\\ipykernel_launcher.py:3: SettingWithCopyWarning: \n",
      "A value is trying to be set on a copy of a slice from a DataFrame.\n",
      "Try using .loc[row_indexer,col_indexer] = value instead\n",
      "\n",
      "See the caveats in the documentation: http://pandas.pydata.org/pandas-docs/stable/user_guide/indexing.html#returning-a-view-versus-a-copy\n",
      "  This is separate from the ipykernel package so we can avoid doing imports until\n"
     ]
    },
    {
     "data": {
      "text/html": [
       "<div>\n",
       "<style scoped>\n",
       "    .dataframe tbody tr th:only-of-type {\n",
       "        vertical-align: middle;\n",
       "    }\n",
       "\n",
       "    .dataframe tbody tr th {\n",
       "        vertical-align: top;\n",
       "    }\n",
       "\n",
       "    .dataframe thead th {\n",
       "        text-align: right;\n",
       "    }\n",
       "</style>\n",
       "<table border=\"1\" class=\"dataframe\">\n",
       "  <thead>\n",
       "    <tr style=\"text-align: right;\">\n",
       "      <th></th>\n",
       "      <th>FIRE_SIZE_CLASS</th>\n",
       "      <th>AVE_SIZE12</th>\n",
       "      <th>CROP_ACR12</th>\n",
       "      <th>None</th>\n",
       "      <th>D0</th>\n",
       "      <th>D1</th>\n",
       "      <th>D2</th>\n",
       "      <th>D3</th>\n",
       "      <th>D4</th>\n",
       "      <th>DAY_PRCP_1</th>\n",
       "      <th>DAY_PRCP_2</th>\n",
       "      <th>DAY_PRCP_3</th>\n",
       "      <th>DAY_PRCP_4</th>\n",
       "      <th>DAY_AVG_TEMP_1</th>\n",
       "      <th>DAY_AVG_TEMP_2</th>\n",
       "      <th>DAY_AVG_TEMP_3</th>\n",
       "      <th>DAY_AVG_TEMP_4</th>\n",
       "    </tr>\n",
       "  </thead>\n",
       "  <tbody>\n",
       "    <tr>\n",
       "      <td>FIRE_SIZE_CLASS</td>\n",
       "      <td>1.000000</td>\n",
       "      <td>0.163815</td>\n",
       "      <td>0.153558</td>\n",
       "      <td>-0.061832</td>\n",
       "      <td>0.061832</td>\n",
       "      <td>0.085644</td>\n",
       "      <td>0.033487</td>\n",
       "      <td>0.004514</td>\n",
       "      <td>-0.003069</td>\n",
       "      <td>-0.028075</td>\n",
       "      <td>-0.055122</td>\n",
       "      <td>-0.075665</td>\n",
       "      <td>-0.080226</td>\n",
       "      <td>0.011915</td>\n",
       "      <td>0.009872</td>\n",
       "      <td>0.043749</td>\n",
       "      <td>0.078619</td>\n",
       "    </tr>\n",
       "    <tr>\n",
       "      <td>AVE_SIZE12</td>\n",
       "      <td>0.163815</td>\n",
       "      <td>1.000000</td>\n",
       "      <td>0.577044</td>\n",
       "      <td>-0.132600</td>\n",
       "      <td>0.132600</td>\n",
       "      <td>0.141231</td>\n",
       "      <td>0.098384</td>\n",
       "      <td>0.094162</td>\n",
       "      <td>0.044858</td>\n",
       "      <td>-0.005764</td>\n",
       "      <td>-0.019457</td>\n",
       "      <td>-0.006819</td>\n",
       "      <td>-0.014886</td>\n",
       "      <td>0.021817</td>\n",
       "      <td>0.030689</td>\n",
       "      <td>0.047380</td>\n",
       "      <td>0.046041</td>\n",
       "    </tr>\n",
       "    <tr>\n",
       "      <td>CROP_ACR12</td>\n",
       "      <td>0.153558</td>\n",
       "      <td>0.577044</td>\n",
       "      <td>1.000000</td>\n",
       "      <td>-0.131695</td>\n",
       "      <td>0.131695</td>\n",
       "      <td>0.139625</td>\n",
       "      <td>0.109089</td>\n",
       "      <td>0.136077</td>\n",
       "      <td>0.102025</td>\n",
       "      <td>-0.003605</td>\n",
       "      <td>-0.024724</td>\n",
       "      <td>-0.031351</td>\n",
       "      <td>-0.012383</td>\n",
       "      <td>-0.052992</td>\n",
       "      <td>-0.059147</td>\n",
       "      <td>-0.046783</td>\n",
       "      <td>-0.023749</td>\n",
       "    </tr>\n",
       "    <tr>\n",
       "      <td>None</td>\n",
       "      <td>-0.061832</td>\n",
       "      <td>-0.132600</td>\n",
       "      <td>-0.131695</td>\n",
       "      <td>1.000000</td>\n",
       "      <td>-1.000000</td>\n",
       "      <td>-0.722797</td>\n",
       "      <td>-0.471042</td>\n",
       "      <td>-0.246894</td>\n",
       "      <td>-0.088997</td>\n",
       "      <td>0.007993</td>\n",
       "      <td>-0.011623</td>\n",
       "      <td>-0.008244</td>\n",
       "      <td>0.007870</td>\n",
       "      <td>0.021974</td>\n",
       "      <td>0.036124</td>\n",
       "      <td>0.032575</td>\n",
       "      <td>0.031823</td>\n",
       "    </tr>\n",
       "    <tr>\n",
       "      <td>D0</td>\n",
       "      <td>0.061832</td>\n",
       "      <td>0.132600</td>\n",
       "      <td>0.131695</td>\n",
       "      <td>-1.000000</td>\n",
       "      <td>1.000000</td>\n",
       "      <td>0.722797</td>\n",
       "      <td>0.471042</td>\n",
       "      <td>0.246894</td>\n",
       "      <td>0.088997</td>\n",
       "      <td>-0.007993</td>\n",
       "      <td>0.011623</td>\n",
       "      <td>0.008244</td>\n",
       "      <td>-0.007870</td>\n",
       "      <td>-0.021974</td>\n",
       "      <td>-0.036124</td>\n",
       "      <td>-0.032575</td>\n",
       "      <td>-0.031823</td>\n",
       "    </tr>\n",
       "    <tr>\n",
       "      <td>D1</td>\n",
       "      <td>0.085644</td>\n",
       "      <td>0.141231</td>\n",
       "      <td>0.139625</td>\n",
       "      <td>-0.722797</td>\n",
       "      <td>0.722797</td>\n",
       "      <td>1.000000</td>\n",
       "      <td>0.704019</td>\n",
       "      <td>0.371050</td>\n",
       "      <td>0.134097</td>\n",
       "      <td>0.006476</td>\n",
       "      <td>0.009556</td>\n",
       "      <td>-0.006602</td>\n",
       "      <td>-0.032908</td>\n",
       "      <td>-0.017714</td>\n",
       "      <td>-0.030196</td>\n",
       "      <td>-0.023075</td>\n",
       "      <td>-0.011003</td>\n",
       "    </tr>\n",
       "    <tr>\n",
       "      <td>D2</td>\n",
       "      <td>0.033487</td>\n",
       "      <td>0.098384</td>\n",
       "      <td>0.109089</td>\n",
       "      <td>-0.471042</td>\n",
       "      <td>0.471042</td>\n",
       "      <td>0.704019</td>\n",
       "      <td>1.000000</td>\n",
       "      <td>0.585870</td>\n",
       "      <td>0.216305</td>\n",
       "      <td>0.024966</td>\n",
       "      <td>0.013385</td>\n",
       "      <td>0.009985</td>\n",
       "      <td>-0.021172</td>\n",
       "      <td>-0.074823</td>\n",
       "      <td>-0.087505</td>\n",
       "      <td>-0.090341</td>\n",
       "      <td>-0.086722</td>\n",
       "    </tr>\n",
       "    <tr>\n",
       "      <td>D3</td>\n",
       "      <td>0.004514</td>\n",
       "      <td>0.094162</td>\n",
       "      <td>0.136077</td>\n",
       "      <td>-0.246894</td>\n",
       "      <td>0.246894</td>\n",
       "      <td>0.371050</td>\n",
       "      <td>0.585870</td>\n",
       "      <td>1.000000</td>\n",
       "      <td>0.440823</td>\n",
       "      <td>-0.002278</td>\n",
       "      <td>-0.012112</td>\n",
       "      <td>-0.020128</td>\n",
       "      <td>-0.016641</td>\n",
       "      <td>-0.115261</td>\n",
       "      <td>-0.120978</td>\n",
       "      <td>-0.126993</td>\n",
       "      <td>-0.114686</td>\n",
       "    </tr>\n",
       "    <tr>\n",
       "      <td>D4</td>\n",
       "      <td>-0.003069</td>\n",
       "      <td>0.044858</td>\n",
       "      <td>0.102025</td>\n",
       "      <td>-0.088997</td>\n",
       "      <td>0.088997</td>\n",
       "      <td>0.134097</td>\n",
       "      <td>0.216305</td>\n",
       "      <td>0.440823</td>\n",
       "      <td>1.000000</td>\n",
       "      <td>0.001515</td>\n",
       "      <td>0.001186</td>\n",
       "      <td>0.001011</td>\n",
       "      <td>-0.002063</td>\n",
       "      <td>-0.056946</td>\n",
       "      <td>-0.078471</td>\n",
       "      <td>-0.077982</td>\n",
       "      <td>-0.073660</td>\n",
       "    </tr>\n",
       "    <tr>\n",
       "      <td>DAY_PRCP_1</td>\n",
       "      <td>-0.028075</td>\n",
       "      <td>-0.005764</td>\n",
       "      <td>-0.003605</td>\n",
       "      <td>0.007993</td>\n",
       "      <td>-0.007993</td>\n",
       "      <td>0.006476</td>\n",
       "      <td>0.024966</td>\n",
       "      <td>-0.002278</td>\n",
       "      <td>0.001515</td>\n",
       "      <td>1.000000</td>\n",
       "      <td>0.136445</td>\n",
       "      <td>0.051241</td>\n",
       "      <td>0.008809</td>\n",
       "      <td>-0.117898</td>\n",
       "      <td>-0.153304</td>\n",
       "      <td>-0.124828</td>\n",
       "      <td>-0.094944</td>\n",
       "    </tr>\n",
       "    <tr>\n",
       "      <td>DAY_PRCP_2</td>\n",
       "      <td>-0.055122</td>\n",
       "      <td>-0.019457</td>\n",
       "      <td>-0.024724</td>\n",
       "      <td>-0.011623</td>\n",
       "      <td>0.011623</td>\n",
       "      <td>0.009556</td>\n",
       "      <td>0.013385</td>\n",
       "      <td>-0.012112</td>\n",
       "      <td>0.001186</td>\n",
       "      <td>0.136445</td>\n",
       "      <td>1.000000</td>\n",
       "      <td>0.127114</td>\n",
       "      <td>0.020576</td>\n",
       "      <td>-0.022026</td>\n",
       "      <td>-0.098343</td>\n",
       "      <td>-0.132457</td>\n",
       "      <td>-0.104374</td>\n",
       "    </tr>\n",
       "    <tr>\n",
       "      <td>DAY_PRCP_3</td>\n",
       "      <td>-0.075665</td>\n",
       "      <td>-0.006819</td>\n",
       "      <td>-0.031351</td>\n",
       "      <td>-0.008244</td>\n",
       "      <td>0.008244</td>\n",
       "      <td>-0.006602</td>\n",
       "      <td>0.009985</td>\n",
       "      <td>-0.020128</td>\n",
       "      <td>0.001011</td>\n",
       "      <td>0.051241</td>\n",
       "      <td>0.127114</td>\n",
       "      <td>1.000000</td>\n",
       "      <td>0.092419</td>\n",
       "      <td>0.005253</td>\n",
       "      <td>-0.014444</td>\n",
       "      <td>-0.076734</td>\n",
       "      <td>-0.138960</td>\n",
       "    </tr>\n",
       "    <tr>\n",
       "      <td>DAY_PRCP_4</td>\n",
       "      <td>-0.080226</td>\n",
       "      <td>-0.014886</td>\n",
       "      <td>-0.012383</td>\n",
       "      <td>0.007870</td>\n",
       "      <td>-0.007870</td>\n",
       "      <td>-0.032908</td>\n",
       "      <td>-0.021172</td>\n",
       "      <td>-0.016641</td>\n",
       "      <td>-0.002063</td>\n",
       "      <td>0.008809</td>\n",
       "      <td>0.020576</td>\n",
       "      <td>0.092419</td>\n",
       "      <td>1.000000</td>\n",
       "      <td>0.015917</td>\n",
       "      <td>0.021574</td>\n",
       "      <td>-0.003134</td>\n",
       "      <td>-0.080317</td>\n",
       "    </tr>\n",
       "    <tr>\n",
       "      <td>DAY_AVG_TEMP_1</td>\n",
       "      <td>0.011915</td>\n",
       "      <td>0.021817</td>\n",
       "      <td>-0.052992</td>\n",
       "      <td>0.021974</td>\n",
       "      <td>-0.021974</td>\n",
       "      <td>-0.017714</td>\n",
       "      <td>-0.074823</td>\n",
       "      <td>-0.115261</td>\n",
       "      <td>-0.056946</td>\n",
       "      <td>-0.117898</td>\n",
       "      <td>-0.022026</td>\n",
       "      <td>0.005253</td>\n",
       "      <td>0.015917</td>\n",
       "      <td>1.000000</td>\n",
       "      <td>0.877481</td>\n",
       "      <td>0.769969</td>\n",
       "      <td>0.695622</td>\n",
       "    </tr>\n",
       "    <tr>\n",
       "      <td>DAY_AVG_TEMP_2</td>\n",
       "      <td>0.009872</td>\n",
       "      <td>0.030689</td>\n",
       "      <td>-0.059147</td>\n",
       "      <td>0.036124</td>\n",
       "      <td>-0.036124</td>\n",
       "      <td>-0.030196</td>\n",
       "      <td>-0.087505</td>\n",
       "      <td>-0.120978</td>\n",
       "      <td>-0.078471</td>\n",
       "      <td>-0.153304</td>\n",
       "      <td>-0.098343</td>\n",
       "      <td>-0.014444</td>\n",
       "      <td>0.021574</td>\n",
       "      <td>0.877481</td>\n",
       "      <td>1.000000</td>\n",
       "      <td>0.869587</td>\n",
       "      <td>0.753000</td>\n",
       "    </tr>\n",
       "    <tr>\n",
       "      <td>DAY_AVG_TEMP_3</td>\n",
       "      <td>0.043749</td>\n",
       "      <td>0.047380</td>\n",
       "      <td>-0.046783</td>\n",
       "      <td>0.032575</td>\n",
       "      <td>-0.032575</td>\n",
       "      <td>-0.023075</td>\n",
       "      <td>-0.090341</td>\n",
       "      <td>-0.126993</td>\n",
       "      <td>-0.077982</td>\n",
       "      <td>-0.124828</td>\n",
       "      <td>-0.132457</td>\n",
       "      <td>-0.076734</td>\n",
       "      <td>-0.003134</td>\n",
       "      <td>0.769969</td>\n",
       "      <td>0.869587</td>\n",
       "      <td>1.000000</td>\n",
       "      <td>0.849300</td>\n",
       "    </tr>\n",
       "    <tr>\n",
       "      <td>DAY_AVG_TEMP_4</td>\n",
       "      <td>0.078619</td>\n",
       "      <td>0.046041</td>\n",
       "      <td>-0.023749</td>\n",
       "      <td>0.031823</td>\n",
       "      <td>-0.031823</td>\n",
       "      <td>-0.011003</td>\n",
       "      <td>-0.086722</td>\n",
       "      <td>-0.114686</td>\n",
       "      <td>-0.073660</td>\n",
       "      <td>-0.094944</td>\n",
       "      <td>-0.104374</td>\n",
       "      <td>-0.138960</td>\n",
       "      <td>-0.080317</td>\n",
       "      <td>0.695622</td>\n",
       "      <td>0.753000</td>\n",
       "      <td>0.849300</td>\n",
       "      <td>1.000000</td>\n",
       "    </tr>\n",
       "  </tbody>\n",
       "</table>\n",
       "</div>"
      ],
      "text/plain": [
       "                 FIRE_SIZE_CLASS  AVE_SIZE12  CROP_ACR12      None        D0  \\\n",
       "FIRE_SIZE_CLASS         1.000000    0.163815    0.153558 -0.061832  0.061832   \n",
       "AVE_SIZE12              0.163815    1.000000    0.577044 -0.132600  0.132600   \n",
       "CROP_ACR12              0.153558    0.577044    1.000000 -0.131695  0.131695   \n",
       "None                   -0.061832   -0.132600   -0.131695  1.000000 -1.000000   \n",
       "D0                      0.061832    0.132600    0.131695 -1.000000  1.000000   \n",
       "D1                      0.085644    0.141231    0.139625 -0.722797  0.722797   \n",
       "D2                      0.033487    0.098384    0.109089 -0.471042  0.471042   \n",
       "D3                      0.004514    0.094162    0.136077 -0.246894  0.246894   \n",
       "D4                     -0.003069    0.044858    0.102025 -0.088997  0.088997   \n",
       "DAY_PRCP_1             -0.028075   -0.005764   -0.003605  0.007993 -0.007993   \n",
       "DAY_PRCP_2             -0.055122   -0.019457   -0.024724 -0.011623  0.011623   \n",
       "DAY_PRCP_3             -0.075665   -0.006819   -0.031351 -0.008244  0.008244   \n",
       "DAY_PRCP_4             -0.080226   -0.014886   -0.012383  0.007870 -0.007870   \n",
       "DAY_AVG_TEMP_1          0.011915    0.021817   -0.052992  0.021974 -0.021974   \n",
       "DAY_AVG_TEMP_2          0.009872    0.030689   -0.059147  0.036124 -0.036124   \n",
       "DAY_AVG_TEMP_3          0.043749    0.047380   -0.046783  0.032575 -0.032575   \n",
       "DAY_AVG_TEMP_4          0.078619    0.046041   -0.023749  0.031823 -0.031823   \n",
       "\n",
       "                       D1        D2        D3        D4  DAY_PRCP_1  \\\n",
       "FIRE_SIZE_CLASS  0.085644  0.033487  0.004514 -0.003069   -0.028075   \n",
       "AVE_SIZE12       0.141231  0.098384  0.094162  0.044858   -0.005764   \n",
       "CROP_ACR12       0.139625  0.109089  0.136077  0.102025   -0.003605   \n",
       "None            -0.722797 -0.471042 -0.246894 -0.088997    0.007993   \n",
       "D0               0.722797  0.471042  0.246894  0.088997   -0.007993   \n",
       "D1               1.000000  0.704019  0.371050  0.134097    0.006476   \n",
       "D2               0.704019  1.000000  0.585870  0.216305    0.024966   \n",
       "D3               0.371050  0.585870  1.000000  0.440823   -0.002278   \n",
       "D4               0.134097  0.216305  0.440823  1.000000    0.001515   \n",
       "DAY_PRCP_1       0.006476  0.024966 -0.002278  0.001515    1.000000   \n",
       "DAY_PRCP_2       0.009556  0.013385 -0.012112  0.001186    0.136445   \n",
       "DAY_PRCP_3      -0.006602  0.009985 -0.020128  0.001011    0.051241   \n",
       "DAY_PRCP_4      -0.032908 -0.021172 -0.016641 -0.002063    0.008809   \n",
       "DAY_AVG_TEMP_1  -0.017714 -0.074823 -0.115261 -0.056946   -0.117898   \n",
       "DAY_AVG_TEMP_2  -0.030196 -0.087505 -0.120978 -0.078471   -0.153304   \n",
       "DAY_AVG_TEMP_3  -0.023075 -0.090341 -0.126993 -0.077982   -0.124828   \n",
       "DAY_AVG_TEMP_4  -0.011003 -0.086722 -0.114686 -0.073660   -0.094944   \n",
       "\n",
       "                 DAY_PRCP_2  DAY_PRCP_3  DAY_PRCP_4  DAY_AVG_TEMP_1  \\\n",
       "FIRE_SIZE_CLASS   -0.055122   -0.075665   -0.080226        0.011915   \n",
       "AVE_SIZE12        -0.019457   -0.006819   -0.014886        0.021817   \n",
       "CROP_ACR12        -0.024724   -0.031351   -0.012383       -0.052992   \n",
       "None              -0.011623   -0.008244    0.007870        0.021974   \n",
       "D0                 0.011623    0.008244   -0.007870       -0.021974   \n",
       "D1                 0.009556   -0.006602   -0.032908       -0.017714   \n",
       "D2                 0.013385    0.009985   -0.021172       -0.074823   \n",
       "D3                -0.012112   -0.020128   -0.016641       -0.115261   \n",
       "D4                 0.001186    0.001011   -0.002063       -0.056946   \n",
       "DAY_PRCP_1         0.136445    0.051241    0.008809       -0.117898   \n",
       "DAY_PRCP_2         1.000000    0.127114    0.020576       -0.022026   \n",
       "DAY_PRCP_3         0.127114    1.000000    0.092419        0.005253   \n",
       "DAY_PRCP_4         0.020576    0.092419    1.000000        0.015917   \n",
       "DAY_AVG_TEMP_1    -0.022026    0.005253    0.015917        1.000000   \n",
       "DAY_AVG_TEMP_2    -0.098343   -0.014444    0.021574        0.877481   \n",
       "DAY_AVG_TEMP_3    -0.132457   -0.076734   -0.003134        0.769969   \n",
       "DAY_AVG_TEMP_4    -0.104374   -0.138960   -0.080317        0.695622   \n",
       "\n",
       "                 DAY_AVG_TEMP_2  DAY_AVG_TEMP_3  DAY_AVG_TEMP_4  \n",
       "FIRE_SIZE_CLASS        0.009872        0.043749        0.078619  \n",
       "AVE_SIZE12             0.030689        0.047380        0.046041  \n",
       "CROP_ACR12            -0.059147       -0.046783       -0.023749  \n",
       "None                   0.036124        0.032575        0.031823  \n",
       "D0                    -0.036124       -0.032575       -0.031823  \n",
       "D1                    -0.030196       -0.023075       -0.011003  \n",
       "D2                    -0.087505       -0.090341       -0.086722  \n",
       "D3                    -0.120978       -0.126993       -0.114686  \n",
       "D4                    -0.078471       -0.077982       -0.073660  \n",
       "DAY_PRCP_1            -0.153304       -0.124828       -0.094944  \n",
       "DAY_PRCP_2            -0.098343       -0.132457       -0.104374  \n",
       "DAY_PRCP_3            -0.014444       -0.076734       -0.138960  \n",
       "DAY_PRCP_4             0.021574       -0.003134       -0.080317  \n",
       "DAY_AVG_TEMP_1         0.877481        0.769969        0.695622  \n",
       "DAY_AVG_TEMP_2         1.000000        0.869587        0.753000  \n",
       "DAY_AVG_TEMP_3         0.869587        1.000000        0.849300  \n",
       "DAY_AVG_TEMP_4         0.753000        0.849300        1.000000  "
      ]
     },
     "execution_count": 10,
     "metadata": {},
     "output_type": "execute_result"
    }
   ],
   "source": [
    "Corr_df = idaho_Fire_Weather_Drought_df[['FIRE_SIZE_CLASS', 'AVE_SIZE12', 'CROP_ACR12', 'NAME', 'None', 'D0','D1', 'D2', 'D3', 'D4', \n",
    "                                   'DAY_PRCP_1', 'DAY_PRCP_2', 'DAY_PRCP_3', 'DAY_PRCP_4', 'DAY_AVG_TEMP_1', 'DAY_AVG_TEMP_2', 'DAY_AVG_TEMP_3', 'DAY_AVG_TEMP_4']]\n",
    "Corr_df['FIRE_SIZE_CLASS']= Corr_df['FIRE_SIZE_CLASS'].astype('category').cat.codes\n",
    "\n",
    "Corr_df.corr()"
   ]
  },
  {
   "cell_type": "code",
   "execution_count": 12,
   "metadata": {},
   "outputs": [],
   "source": [
    "# # INVESTIGATING INPUTS\n",
    "# # Possible X columns\n",
    "# New_df = idaho_Fire_Weather_Drought_df[['DISCOVERY_DATE_CONVERTED', 'LATITUDE', 'LONGITUDE', 'NO_FARMS12', 'AVE_SIZE12', 'CROP_ACR12', 'NAME', 'None', 'D0','D1', 'D2', 'D3', 'D4', \n",
    "#                                    'DAY_PRCP_1', 'DAY_PRCP_2', 'DAY_PRCP_3', 'DAY_PRCP_4', 'DAY_AVG_TEMP_1', 'DAY_AVG_TEMP_2', 'DAY_AVG_TEMP_3', 'DAY_AVG_TEMP_4']]\n",
    "# # New_df['FIRE_SIZE_CLASS']= New_df['FIRE_SIZE_CLASS'].astype('category').cat.codes\n",
    "# # New_df['AVE_FAM_SZ']= New_df['AVE_FAM_SZ'].apply(lambda x: x//1)\n",
    "\n",
    "# from sklearn.decomposition import PCA\n",
    "# pca = PCA(n_components=21)\n",
    "\n",
    "\n",
    "# New_df = pd.get_dummies(New_df, columns=['NAME'])\n",
    "# New_df2=New_df\n",
    "\n",
    "# # New_df = New_df.drop(['FIRE_SIZE_CLASS'], axis=1)\n",
    "# # X.head()\n",
    "# # print(X.keys())\n",
    "# # X = X.values.reshape(-1, 72)\n",
    "\n",
    "# X_Array = New_df.to_numpy()\n",
    "# pca.fit(X_Array)\n",
    "# # print(pca.singular_values_)\n",
    "# x = pca.transform(X_Array)\n",
    "# x\n",
    "# # print(X.shape)\n",
    "# # type(X)\n",
    "# X"
   ]
  },
  {
   "cell_type": "code",
   "execution_count": 13,
   "metadata": {},
   "outputs": [
    {
     "name": "stdout",
     "output_type": "stream",
     "text": [
      "Index(['LATITUDE', 'LONGITUDE', 'AVE_FAM_SZ', 'NO_FARMS12', 'AVE_SIZE12',\n",
      "       'CROP_ACR12', 'None', 'D0', 'D1', 'D2', 'D3', 'D4', 'DAY_PRCP_1',\n",
      "       'DAY_PRCP_2', 'DAY_PRCP_3', 'DAY_PRCP_4', 'DAY_AVG_TEMP_1',\n",
      "       'DAY_AVG_TEMP_2', 'DAY_AVG_TEMP_3', 'DAY_AVG_TEMP_4'],\n",
      "      dtype='object')\n",
      "(14902, 20)\n"
     ]
    },
    {
     "data": {
      "text/plain": [
       "array([[  44.48861111, -111.25611111,    3.32      , ...,   69.08      ,\n",
       "          69.98      ,   71.06      ],\n",
       "       [  42.73638889, -112.38444444,    3.17      , ...,   62.06      ,\n",
       "          69.08      ,   66.92      ],\n",
       "       [  42.83972222, -112.17666667,    3.17      , ...,   66.92      ,\n",
       "          64.04      ,   64.94      ],\n",
       "       ...,\n",
       "       [  48.58927051, -116.3929417 ,    3.        , ...,   66.74      ,\n",
       "          59.36      ,   50.        ],\n",
       "       [  44.49186207, -116.0888318 ,    2.71      , ...,   58.46      ,\n",
       "          61.52      ,   63.68      ],\n",
       "       [  48.63620768, -116.4743172 ,    3.        , ...,   51.8       ,\n",
       "          53.06      ,   55.4       ]])"
      ]
     },
     "execution_count": 13,
     "metadata": {},
     "output_type": "execute_result"
    }
   ],
   "source": [
    "# CREATE X VALUES\n",
    "# # Create X Input by keeping columns from df\n",
    "# X = idaho_Fire_Weather_Drought_df[['STAT_CAUSE_DESCR', 'DISCOVERY_MONTH_CONVERTED', 'DISCOVERY_DATE_CONVERTED', 'AVE_FAM_SZ', 'NO_FARMS12', 'AVE_SIZE12', 'CROP_ACR12', \n",
    "#                                    'NAME', 'None', 'D0','D1', 'D2', 'D3', 'D4', 'DAY_PRCP_1', 'DAY_PRCP_2', 'DAY_PRCP_3', 'DAY_PRCP_4', 'DAY_AVG_TEMP_1', 'DAY_AVG_TEMP_2', \n",
    "#                                    'DAY_AVG_TEMP_3', 'DAY_AVG_TEMP_4']]\n",
    "\n",
    "# # Either Or\n",
    "# X = X.drop(['STAT_CAUSE_DESCR', 'DISCOVERY_DATE_CONVERTED', 'AVE_FAM_SZ', 'NO_FARMS12', 'AVE_SIZE12', 'CROP_ACR12', 'None'], axis=1)\n",
    "# # X = pd.get_dummies(X, columns=['STAT_CAUSE_DESCR'])\n",
    "# X = pd.get_dummies(X, columns=['NAME'])\n",
    "\n",
    "# # # ADD IDAHO COLUMNS THAT HAVE NO FIRE INFO (FOR COMPLETENESS)\n",
    "# X['NAME_Bear Lake'] = 0\n",
    "# X['NAME_Jerome'] = 0\n",
    "# X['NAME_Kootenai'] = 0\n",
    "\n",
    "\n",
    "# # Interim views\n",
    "# # # X\n",
    "# # # X.dtypes\n",
    "# # # X.columns\n",
    "\n",
    "# # # seed values for reshape and no of ML runs (epochs)\n",
    "# NoOfCols = 58\n",
    "# NoOfRuns = 2000\n",
    "\n",
    "# # # Reshape X from df to array v1\n",
    "# X = X.values.reshape(-1, NoOfCols)\n",
    "\n",
    "# # # Reshape X from df to array v2\n",
    "# # X = X.to_numpy()\n",
    "\n",
    "# # # View output\n",
    "# print(f\"Shape of X Input is {X.shape}\")\n",
    "# print(f\"Type of X input is {type(X)}\")\n",
    "# X\n",
    "# --------------------------------------------------------\n",
    "# Create X Input by keeping columns from df\n",
    "X = idaho_Fire_Weather_Drought_df[['LATITUDE', 'LONGITUDE', 'AVE_FAM_SZ', 'NO_FARMS12', 'AVE_SIZE12', 'CROP_ACR12', 'None', 'D0','D1', 'D2', 'D3', 'D4', \n",
    "                                   'DAY_PRCP_1', 'DAY_PRCP_2', 'DAY_PRCP_3', 'DAY_PRCP_4', 'DAY_AVG_TEMP_1', 'DAY_AVG_TEMP_2', 'DAY_AVG_TEMP_3', 'DAY_AVG_TEMP_4']]\n",
    "\n",
    "# X by drop\n",
    "# X = idaho_Fire_Weather_df.drop(['FIRE_SIZE_CLASS', 'DISCOVERY_DATE_CONVERTED'], axis=1)\n",
    "\n",
    "# Get dummies for names (if using the county 'NAME' column)\n",
    "# X = pd.get_dummies(X, columns=['NAME'])\n",
    "\n",
    "print(X.keys())\n",
    "X = X.values.reshape(-1, 20)\n",
    "\n",
    "# X = X.to_numpy()\n",
    "\n",
    "print(X.shape)\n",
    "type(X)\n",
    "X"
   ]
  },
  {
   "cell_type": "code",
   "execution_count": 14,
   "metadata": {},
   "outputs": [
    {
     "data": {
      "text/plain": [
       "array([[0],\n",
       "       [0],\n",
       "       [0],\n",
       "       ...,\n",
       "       [0],\n",
       "       [0],\n",
       "       [0]])"
      ]
     },
     "execution_count": 14,
     "metadata": {},
     "output_type": "execute_result"
    }
   ],
   "source": [
    "# CREATE y VALUES\n",
    "y = idaho_Fire_Weather_Drought_df[['FIRE_SIZE_CLASS']]\n",
    "# y = idaho_Fire_Weather_Drought_df[['STAT_CAUSE_DESCR', 'FIRE_SIZE_CLASS']]\n",
    "\n",
    "# y = y.values.reshape(-1, 2)\n",
    "\n",
    "# print(y.shape)\n",
    "# # type(y)\n",
    "# y\n",
    "\n",
    "# LABEL ENCODE Y\n",
    "# Import required module\n",
    "from sklearn.preprocessing import LabelEncoder\n",
    "\n",
    "# LabelEncoder\n",
    "le = LabelEncoder()\n",
    "\n",
    "# Create an object of the label encoder class\n",
    "labelencoder = LabelEncoder()\n",
    "\n",
    "# apply \"le.fit_transform\"\n",
    "old_y = y.apply(le.fit_transform)\n",
    "y = old_y\n",
    "\n",
    "# # Change the shape of y v1\n",
    "new_y = np.array(old_y)\n",
    "y = new_y.reshape(-1, 1) \n",
    "\n",
    "y"
   ]
  },
  {
   "cell_type": "code",
   "execution_count": 15,
   "metadata": {},
   "outputs": [],
   "source": [
    "# numpy.arange(10000)"
   ]
  },
  {
   "cell_type": "code",
   "execution_count": 16,
   "metadata": {},
   "outputs": [],
   "source": [
    "# Split data into train and test groups\n",
    "X_train, X_test, y_train, y_test = train_test_split(X, y, random_state=42)"
   ]
  },
  {
   "cell_type": "code",
   "execution_count": 17,
   "metadata": {},
   "outputs": [],
   "source": [
    "# # Scale your data\n",
    "# from sklearn.preprocessing import StandardScaler\n",
    "X_scaler = StandardScaler().fit(X_train)\n",
    "# # y_scaler = StandardScaler().fit(y_train)\n",
    "\n",
    "# # Create variables to hold the scaled train & test data\n",
    "X_train_scaled = X_scaler.transform(X_train)\n",
    "X_test_scaled = X_scaler.transform(X_test)\n",
    "# # y_train_scaled = y_scaler.transform(y_train)\n",
    "# # y_test_scaled = y_scaler.transform(y_test)"
   ]
  },
  {
   "cell_type": "code",
   "execution_count": 18,
   "metadata": {},
   "outputs": [],
   "source": [
    "### Encode the categorical target variable to the necessary format for the model\n",
    "from keras.utils import to_categorical\n",
    "\n",
    "# One-hot encoding\n",
    "y_train_categorical = to_categorical(y_train)\n",
    "y_test_categorical = to_categorical(y_test)"
   ]
  },
  {
   "cell_type": "markdown",
   "metadata": {},
   "source": [
    "### Verify Inputs"
   ]
  },
  {
   "cell_type": "code",
   "execution_count": 19,
   "metadata": {},
   "outputs": [
    {
     "name": "stdout",
     "output_type": "stream",
     "text": [
      "(11176, 20)\n",
      "(11176, 20)\n",
      "(3726, 20)\n",
      "(3726, 20)\n"
     ]
    }
   ],
   "source": [
    "# Inputs\n",
    "print(X_train.shape)\n",
    "print(X_train_scaled.shape)\n",
    "print(X_test.shape)\n",
    "print(X_test_scaled.shape)"
   ]
  },
  {
   "cell_type": "code",
   "execution_count": 20,
   "metadata": {},
   "outputs": [
    {
     "name": "stdout",
     "output_type": "stream",
     "text": [
      "(11176, 7)\n",
      "(3726, 7)\n"
     ]
    }
   ],
   "source": [
    "# Inputs\n",
    "print(y_train_categorical.shape)\n",
    "print(y_test_categorical.shape)"
   ]
  },
  {
   "cell_type": "markdown",
   "metadata": {},
   "source": [
    "## Model"
   ]
  },
  {
   "cell_type": "code",
   "execution_count": 21,
   "metadata": {},
   "outputs": [
    {
     "data": {
      "text/plain": [
       "SVC(C=1.0, cache_size=200, class_weight=None, coef0=0.0,\n",
       "    decision_function_shape='ovr', degree=3, gamma='auto_deprecated',\n",
       "    kernel='linear', max_iter=-1, probability=False, random_state=None,\n",
       "    shrinking=True, tol=0.001, verbose=False)"
      ]
     },
     "execution_count": 21,
     "metadata": {},
     "output_type": "execute_result"
    }
   ],
   "source": [
    "# Create the GridSearchCV model\n",
    "model1 = SVC(kernel=\"linear\")\n",
    "model1"
   ]
  },
  {
   "cell_type": "code",
   "execution_count": 28,
   "metadata": {},
   "outputs": [],
   "source": [
    "# Create the GridSearchCV parameters\n",
    "param_grid = {'C': [1, 5, 10, 15],\n",
    "              'gamma': [0.00001, 0.00005, 0.0001, 0.0005, 0.001]}\n",
    "\n",
    "cv = KFold(n_splits=5, shuffle=False, random_state=None)\n",
    "gridModel = GridSearchCV(model1, param_grid, verbose=3, scoring='accuracy', cv=cv)"
   ]
  },
  {
   "cell_type": "code",
   "execution_count": null,
   "metadata": {},
   "outputs": [
    {
     "name": "stdout",
     "output_type": "stream",
     "text": [
      "Fitting 5 folds for each of 20 candidates, totalling 100 fits\n",
      "[CV] C=1, gamma=1e-05 ................................................\n"
     ]
    },
    {
     "name": "stderr",
     "output_type": "stream",
     "text": [
      "[Parallel(n_jobs=1)]: Using backend SequentialBackend with 1 concurrent workers.\n",
      "C:\\ProgramData\\Anaconda3\\lib\\site-packages\\sklearn\\utils\\validation.py:724: DataConversionWarning: A column-vector y was passed when a 1d array was expected. Please change the shape of y to (n_samples, ), for example using ravel().\n",
      "  y = column_or_1d(y, warn=True)\n"
     ]
    },
    {
     "name": "stdout",
     "output_type": "stream",
     "text": [
      "[CV] .................... C=1, gamma=1e-05, score=0.545, total=   5.3s\n",
      "[CV] C=1, gamma=1e-05 ................................................\n"
     ]
    },
    {
     "name": "stderr",
     "output_type": "stream",
     "text": [
      "[Parallel(n_jobs=1)]: Done   1 out of   1 | elapsed:    5.2s remaining:    0.0s\n",
      "C:\\ProgramData\\Anaconda3\\lib\\site-packages\\sklearn\\utils\\validation.py:724: DataConversionWarning: A column-vector y was passed when a 1d array was expected. Please change the shape of y to (n_samples, ), for example using ravel().\n",
      "  y = column_or_1d(y, warn=True)\n"
     ]
    },
    {
     "name": "stdout",
     "output_type": "stream",
     "text": [
      "[CV] .................... C=1, gamma=1e-05, score=0.555, total=   5.4s\n",
      "[CV] C=1, gamma=1e-05 ................................................\n"
     ]
    },
    {
     "name": "stderr",
     "output_type": "stream",
     "text": [
      "[Parallel(n_jobs=1)]: Done   2 out of   2 | elapsed:   10.6s remaining:    0.0s\n",
      "C:\\ProgramData\\Anaconda3\\lib\\site-packages\\sklearn\\utils\\validation.py:724: DataConversionWarning: A column-vector y was passed when a 1d array was expected. Please change the shape of y to (n_samples, ), for example using ravel().\n",
      "  y = column_or_1d(y, warn=True)\n"
     ]
    },
    {
     "name": "stdout",
     "output_type": "stream",
     "text": [
      "[CV] .................... C=1, gamma=1e-05, score=0.563, total=   4.8s\n",
      "[CV] C=1, gamma=1e-05 ................................................\n"
     ]
    },
    {
     "name": "stderr",
     "output_type": "stream",
     "text": [
      "C:\\ProgramData\\Anaconda3\\lib\\site-packages\\sklearn\\utils\\validation.py:724: DataConversionWarning: A column-vector y was passed when a 1d array was expected. Please change the shape of y to (n_samples, ), for example using ravel().\n",
      "  y = column_or_1d(y, warn=True)\n"
     ]
    },
    {
     "name": "stdout",
     "output_type": "stream",
     "text": [
      "[CV] .................... C=1, gamma=1e-05, score=0.554, total=   4.8s\n",
      "[CV] C=1, gamma=1e-05 ................................................\n"
     ]
    },
    {
     "name": "stderr",
     "output_type": "stream",
     "text": [
      "C:\\ProgramData\\Anaconda3\\lib\\site-packages\\sklearn\\utils\\validation.py:724: DataConversionWarning: A column-vector y was passed when a 1d array was expected. Please change the shape of y to (n_samples, ), for example using ravel().\n",
      "  y = column_or_1d(y, warn=True)\n"
     ]
    },
    {
     "name": "stdout",
     "output_type": "stream",
     "text": [
      "[CV] .................... C=1, gamma=1e-05, score=0.557, total=   5.1s\n",
      "[CV] C=1, gamma=5e-05 ................................................\n"
     ]
    },
    {
     "name": "stderr",
     "output_type": "stream",
     "text": [
      "C:\\ProgramData\\Anaconda3\\lib\\site-packages\\sklearn\\utils\\validation.py:724: DataConversionWarning: A column-vector y was passed when a 1d array was expected. Please change the shape of y to (n_samples, ), for example using ravel().\n",
      "  y = column_or_1d(y, warn=True)\n"
     ]
    },
    {
     "name": "stdout",
     "output_type": "stream",
     "text": [
      "[CV] .................... C=1, gamma=5e-05, score=0.545, total=   5.1s\n",
      "[CV] C=1, gamma=5e-05 ................................................\n"
     ]
    },
    {
     "name": "stderr",
     "output_type": "stream",
     "text": [
      "C:\\ProgramData\\Anaconda3\\lib\\site-packages\\sklearn\\utils\\validation.py:724: DataConversionWarning: A column-vector y was passed when a 1d array was expected. Please change the shape of y to (n_samples, ), for example using ravel().\n",
      "  y = column_or_1d(y, warn=True)\n"
     ]
    },
    {
     "name": "stdout",
     "output_type": "stream",
     "text": [
      "[CV] .................... C=1, gamma=5e-05, score=0.555, total=   5.3s\n",
      "[CV] C=1, gamma=5e-05 ................................................\n"
     ]
    },
    {
     "name": "stderr",
     "output_type": "stream",
     "text": [
      "C:\\ProgramData\\Anaconda3\\lib\\site-packages\\sklearn\\utils\\validation.py:724: DataConversionWarning: A column-vector y was passed when a 1d array was expected. Please change the shape of y to (n_samples, ), for example using ravel().\n",
      "  y = column_or_1d(y, warn=True)\n"
     ]
    },
    {
     "name": "stdout",
     "output_type": "stream",
     "text": [
      "[CV] .................... C=1, gamma=5e-05, score=0.563, total=   4.8s\n",
      "[CV] C=1, gamma=5e-05 ................................................\n"
     ]
    },
    {
     "name": "stderr",
     "output_type": "stream",
     "text": [
      "C:\\ProgramData\\Anaconda3\\lib\\site-packages\\sklearn\\utils\\validation.py:724: DataConversionWarning: A column-vector y was passed when a 1d array was expected. Please change the shape of y to (n_samples, ), for example using ravel().\n",
      "  y = column_or_1d(y, warn=True)\n"
     ]
    },
    {
     "name": "stdout",
     "output_type": "stream",
     "text": [
      "[CV] .................... C=1, gamma=5e-05, score=0.554, total=   4.8s\n",
      "[CV] C=1, gamma=5e-05 ................................................\n"
     ]
    },
    {
     "name": "stderr",
     "output_type": "stream",
     "text": [
      "C:\\ProgramData\\Anaconda3\\lib\\site-packages\\sklearn\\utils\\validation.py:724: DataConversionWarning: A column-vector y was passed when a 1d array was expected. Please change the shape of y to (n_samples, ), for example using ravel().\n",
      "  y = column_or_1d(y, warn=True)\n"
     ]
    },
    {
     "name": "stdout",
     "output_type": "stream",
     "text": [
      "[CV] .................... C=1, gamma=5e-05, score=0.557, total=   5.1s\n",
      "[CV] C=1, gamma=0.0001 ...............................................\n"
     ]
    },
    {
     "name": "stderr",
     "output_type": "stream",
     "text": [
      "C:\\ProgramData\\Anaconda3\\lib\\site-packages\\sklearn\\utils\\validation.py:724: DataConversionWarning: A column-vector y was passed when a 1d array was expected. Please change the shape of y to (n_samples, ), for example using ravel().\n",
      "  y = column_or_1d(y, warn=True)\n"
     ]
    },
    {
     "name": "stdout",
     "output_type": "stream",
     "text": [
      "[CV] ................... C=1, gamma=0.0001, score=0.545, total=   5.1s\n",
      "[CV] C=1, gamma=0.0001 ...............................................\n"
     ]
    },
    {
     "name": "stderr",
     "output_type": "stream",
     "text": [
      "C:\\ProgramData\\Anaconda3\\lib\\site-packages\\sklearn\\utils\\validation.py:724: DataConversionWarning: A column-vector y was passed when a 1d array was expected. Please change the shape of y to (n_samples, ), for example using ravel().\n",
      "  y = column_or_1d(y, warn=True)\n"
     ]
    },
    {
     "name": "stdout",
     "output_type": "stream",
     "text": [
      "[CV] ................... C=1, gamma=0.0001, score=0.555, total=   5.5s\n",
      "[CV] C=1, gamma=0.0001 ...............................................\n"
     ]
    },
    {
     "name": "stderr",
     "output_type": "stream",
     "text": [
      "C:\\ProgramData\\Anaconda3\\lib\\site-packages\\sklearn\\utils\\validation.py:724: DataConversionWarning: A column-vector y was passed when a 1d array was expected. Please change the shape of y to (n_samples, ), for example using ravel().\n",
      "  y = column_or_1d(y, warn=True)\n"
     ]
    },
    {
     "name": "stdout",
     "output_type": "stream",
     "text": [
      "[CV] ................... C=1, gamma=0.0001, score=0.563, total=   4.9s\n",
      "[CV] C=1, gamma=0.0001 ...............................................\n"
     ]
    },
    {
     "name": "stderr",
     "output_type": "stream",
     "text": [
      "C:\\ProgramData\\Anaconda3\\lib\\site-packages\\sklearn\\utils\\validation.py:724: DataConversionWarning: A column-vector y was passed when a 1d array was expected. Please change the shape of y to (n_samples, ), for example using ravel().\n",
      "  y = column_or_1d(y, warn=True)\n"
     ]
    },
    {
     "name": "stdout",
     "output_type": "stream",
     "text": [
      "[CV] ................... C=1, gamma=0.0001, score=0.554, total=   4.9s\n",
      "[CV] C=1, gamma=0.0001 ...............................................\n"
     ]
    },
    {
     "name": "stderr",
     "output_type": "stream",
     "text": [
      "C:\\ProgramData\\Anaconda3\\lib\\site-packages\\sklearn\\utils\\validation.py:724: DataConversionWarning: A column-vector y was passed when a 1d array was expected. Please change the shape of y to (n_samples, ), for example using ravel().\n",
      "  y = column_or_1d(y, warn=True)\n"
     ]
    },
    {
     "name": "stdout",
     "output_type": "stream",
     "text": [
      "[CV] ................... C=1, gamma=0.0001, score=0.557, total=   5.1s\n",
      "[CV] C=1, gamma=0.0005 ...............................................\n"
     ]
    },
    {
     "name": "stderr",
     "output_type": "stream",
     "text": [
      "C:\\ProgramData\\Anaconda3\\lib\\site-packages\\sklearn\\utils\\validation.py:724: DataConversionWarning: A column-vector y was passed when a 1d array was expected. Please change the shape of y to (n_samples, ), for example using ravel().\n",
      "  y = column_or_1d(y, warn=True)\n"
     ]
    },
    {
     "name": "stdout",
     "output_type": "stream",
     "text": [
      "[CV] ................... C=1, gamma=0.0005, score=0.545, total=   5.1s\n",
      "[CV] C=1, gamma=0.0005 ...............................................\n"
     ]
    },
    {
     "name": "stderr",
     "output_type": "stream",
     "text": [
      "C:\\ProgramData\\Anaconda3\\lib\\site-packages\\sklearn\\utils\\validation.py:724: DataConversionWarning: A column-vector y was passed when a 1d array was expected. Please change the shape of y to (n_samples, ), for example using ravel().\n",
      "  y = column_or_1d(y, warn=True)\n"
     ]
    },
    {
     "name": "stdout",
     "output_type": "stream",
     "text": [
      "[CV] ................... C=1, gamma=0.0005, score=0.555, total=   5.5s\n",
      "[CV] C=1, gamma=0.0005 ...............................................\n"
     ]
    },
    {
     "name": "stderr",
     "output_type": "stream",
     "text": [
      "C:\\ProgramData\\Anaconda3\\lib\\site-packages\\sklearn\\utils\\validation.py:724: DataConversionWarning: A column-vector y was passed when a 1d array was expected. Please change the shape of y to (n_samples, ), for example using ravel().\n",
      "  y = column_or_1d(y, warn=True)\n"
     ]
    },
    {
     "name": "stdout",
     "output_type": "stream",
     "text": [
      "[CV] ................... C=1, gamma=0.0005, score=0.563, total=   5.0s\n",
      "[CV] C=1, gamma=0.0005 ...............................................\n"
     ]
    },
    {
     "name": "stderr",
     "output_type": "stream",
     "text": [
      "C:\\ProgramData\\Anaconda3\\lib\\site-packages\\sklearn\\utils\\validation.py:724: DataConversionWarning: A column-vector y was passed when a 1d array was expected. Please change the shape of y to (n_samples, ), for example using ravel().\n",
      "  y = column_or_1d(y, warn=True)\n"
     ]
    },
    {
     "name": "stdout",
     "output_type": "stream",
     "text": [
      "[CV] ................... C=1, gamma=0.0005, score=0.554, total=   4.9s\n",
      "[CV] C=1, gamma=0.0005 ...............................................\n"
     ]
    },
    {
     "name": "stderr",
     "output_type": "stream",
     "text": [
      "C:\\ProgramData\\Anaconda3\\lib\\site-packages\\sklearn\\utils\\validation.py:724: DataConversionWarning: A column-vector y was passed when a 1d array was expected. Please change the shape of y to (n_samples, ), for example using ravel().\n",
      "  y = column_or_1d(y, warn=True)\n"
     ]
    },
    {
     "name": "stdout",
     "output_type": "stream",
     "text": [
      "[CV] ................... C=1, gamma=0.0005, score=0.557, total=   5.3s\n",
      "[CV] C=1, gamma=0.001 ................................................\n"
     ]
    },
    {
     "name": "stderr",
     "output_type": "stream",
     "text": [
      "C:\\ProgramData\\Anaconda3\\lib\\site-packages\\sklearn\\utils\\validation.py:724: DataConversionWarning: A column-vector y was passed when a 1d array was expected. Please change the shape of y to (n_samples, ), for example using ravel().\n",
      "  y = column_or_1d(y, warn=True)\n"
     ]
    },
    {
     "name": "stdout",
     "output_type": "stream",
     "text": [
      "[CV] .................... C=1, gamma=0.001, score=0.545, total=   5.1s\n",
      "[CV] C=1, gamma=0.001 ................................................\n"
     ]
    },
    {
     "name": "stderr",
     "output_type": "stream",
     "text": [
      "C:\\ProgramData\\Anaconda3\\lib\\site-packages\\sklearn\\utils\\validation.py:724: DataConversionWarning: A column-vector y was passed when a 1d array was expected. Please change the shape of y to (n_samples, ), for example using ravel().\n",
      "  y = column_or_1d(y, warn=True)\n"
     ]
    },
    {
     "name": "stdout",
     "output_type": "stream",
     "text": [
      "[CV] .................... C=1, gamma=0.001, score=0.555, total=   5.4s\n",
      "[CV] C=1, gamma=0.001 ................................................\n"
     ]
    },
    {
     "name": "stderr",
     "output_type": "stream",
     "text": [
      "C:\\ProgramData\\Anaconda3\\lib\\site-packages\\sklearn\\utils\\validation.py:724: DataConversionWarning: A column-vector y was passed when a 1d array was expected. Please change the shape of y to (n_samples, ), for example using ravel().\n",
      "  y = column_or_1d(y, warn=True)\n"
     ]
    },
    {
     "name": "stdout",
     "output_type": "stream",
     "text": [
      "[CV] .................... C=1, gamma=0.001, score=0.563, total=   4.9s\n",
      "[CV] C=1, gamma=0.001 ................................................\n"
     ]
    },
    {
     "name": "stderr",
     "output_type": "stream",
     "text": [
      "C:\\ProgramData\\Anaconda3\\lib\\site-packages\\sklearn\\utils\\validation.py:724: DataConversionWarning: A column-vector y was passed when a 1d array was expected. Please change the shape of y to (n_samples, ), for example using ravel().\n",
      "  y = column_or_1d(y, warn=True)\n"
     ]
    },
    {
     "name": "stdout",
     "output_type": "stream",
     "text": [
      "[CV] .................... C=1, gamma=0.001, score=0.554, total=   5.0s\n",
      "[CV] C=1, gamma=0.001 ................................................\n"
     ]
    },
    {
     "name": "stderr",
     "output_type": "stream",
     "text": [
      "C:\\ProgramData\\Anaconda3\\lib\\site-packages\\sklearn\\utils\\validation.py:724: DataConversionWarning: A column-vector y was passed when a 1d array was expected. Please change the shape of y to (n_samples, ), for example using ravel().\n",
      "  y = column_or_1d(y, warn=True)\n"
     ]
    },
    {
     "name": "stdout",
     "output_type": "stream",
     "text": [
      "[CV] .................... C=1, gamma=0.001, score=0.557, total=   5.2s\n",
      "[CV] C=5, gamma=1e-05 ................................................\n"
     ]
    },
    {
     "name": "stderr",
     "output_type": "stream",
     "text": [
      "C:\\ProgramData\\Anaconda3\\lib\\site-packages\\sklearn\\utils\\validation.py:724: DataConversionWarning: A column-vector y was passed when a 1d array was expected. Please change the shape of y to (n_samples, ), for example using ravel().\n",
      "  y = column_or_1d(y, warn=True)\n"
     ]
    },
    {
     "name": "stdout",
     "output_type": "stream",
     "text": [
      "[CV] .................... C=5, gamma=1e-05, score=0.545, total=  11.1s\n",
      "[CV] C=5, gamma=1e-05 ................................................\n"
     ]
    },
    {
     "name": "stderr",
     "output_type": "stream",
     "text": [
      "C:\\ProgramData\\Anaconda3\\lib\\site-packages\\sklearn\\utils\\validation.py:724: DataConversionWarning: A column-vector y was passed when a 1d array was expected. Please change the shape of y to (n_samples, ), for example using ravel().\n",
      "  y = column_or_1d(y, warn=True)\n"
     ]
    },
    {
     "name": "stdout",
     "output_type": "stream",
     "text": [
      "[CV] .................... C=5, gamma=1e-05, score=0.555, total=  11.9s\n",
      "[CV] C=5, gamma=1e-05 ................................................\n"
     ]
    },
    {
     "name": "stderr",
     "output_type": "stream",
     "text": [
      "C:\\ProgramData\\Anaconda3\\lib\\site-packages\\sklearn\\utils\\validation.py:724: DataConversionWarning: A column-vector y was passed when a 1d array was expected. Please change the shape of y to (n_samples, ), for example using ravel().\n",
      "  y = column_or_1d(y, warn=True)\n"
     ]
    },
    {
     "name": "stdout",
     "output_type": "stream",
     "text": [
      "[CV] .................... C=5, gamma=1e-05, score=0.563, total=  11.5s\n",
      "[CV] C=5, gamma=1e-05 ................................................\n"
     ]
    },
    {
     "name": "stderr",
     "output_type": "stream",
     "text": [
      "C:\\ProgramData\\Anaconda3\\lib\\site-packages\\sklearn\\utils\\validation.py:724: DataConversionWarning: A column-vector y was passed when a 1d array was expected. Please change the shape of y to (n_samples, ), for example using ravel().\n",
      "  y = column_or_1d(y, warn=True)\n"
     ]
    },
    {
     "name": "stdout",
     "output_type": "stream",
     "text": [
      "[CV] .................... C=5, gamma=1e-05, score=0.554, total=  12.0s\n",
      "[CV] C=5, gamma=1e-05 ................................................\n"
     ]
    },
    {
     "name": "stderr",
     "output_type": "stream",
     "text": [
      "C:\\ProgramData\\Anaconda3\\lib\\site-packages\\sklearn\\utils\\validation.py:724: DataConversionWarning: A column-vector y was passed when a 1d array was expected. Please change the shape of y to (n_samples, ), for example using ravel().\n",
      "  y = column_or_1d(y, warn=True)\n"
     ]
    },
    {
     "name": "stdout",
     "output_type": "stream",
     "text": [
      "[CV] .................... C=5, gamma=1e-05, score=0.557, total=  11.7s\n",
      "[CV] C=5, gamma=5e-05 ................................................\n"
     ]
    },
    {
     "name": "stderr",
     "output_type": "stream",
     "text": [
      "C:\\ProgramData\\Anaconda3\\lib\\site-packages\\sklearn\\utils\\validation.py:724: DataConversionWarning: A column-vector y was passed when a 1d array was expected. Please change the shape of y to (n_samples, ), for example using ravel().\n",
      "  y = column_or_1d(y, warn=True)\n"
     ]
    },
    {
     "name": "stdout",
     "output_type": "stream",
     "text": [
      "[CV] .................... C=5, gamma=5e-05, score=0.545, total=  11.6s\n",
      "[CV] C=5, gamma=5e-05 ................................................\n"
     ]
    },
    {
     "name": "stderr",
     "output_type": "stream",
     "text": [
      "C:\\ProgramData\\Anaconda3\\lib\\site-packages\\sklearn\\utils\\validation.py:724: DataConversionWarning: A column-vector y was passed when a 1d array was expected. Please change the shape of y to (n_samples, ), for example using ravel().\n",
      "  y = column_or_1d(y, warn=True)\n"
     ]
    },
    {
     "name": "stdout",
     "output_type": "stream",
     "text": [
      "[CV] .................... C=5, gamma=5e-05, score=0.555, total=  11.9s\n",
      "[CV] C=5, gamma=5e-05 ................................................\n"
     ]
    },
    {
     "name": "stderr",
     "output_type": "stream",
     "text": [
      "C:\\ProgramData\\Anaconda3\\lib\\site-packages\\sklearn\\utils\\validation.py:724: DataConversionWarning: A column-vector y was passed when a 1d array was expected. Please change the shape of y to (n_samples, ), for example using ravel().\n",
      "  y = column_or_1d(y, warn=True)\n"
     ]
    },
    {
     "name": "stdout",
     "output_type": "stream",
     "text": [
      "[CV] .................... C=5, gamma=5e-05, score=0.563, total=  11.7s\n",
      "[CV] C=5, gamma=5e-05 ................................................\n"
     ]
    },
    {
     "name": "stderr",
     "output_type": "stream",
     "text": [
      "C:\\ProgramData\\Anaconda3\\lib\\site-packages\\sklearn\\utils\\validation.py:724: DataConversionWarning: A column-vector y was passed when a 1d array was expected. Please change the shape of y to (n_samples, ), for example using ravel().\n",
      "  y = column_or_1d(y, warn=True)\n"
     ]
    },
    {
     "name": "stdout",
     "output_type": "stream",
     "text": [
      "[CV] .................... C=5, gamma=5e-05, score=0.554, total=  11.8s\n",
      "[CV] C=5, gamma=5e-05 ................................................\n"
     ]
    },
    {
     "name": "stderr",
     "output_type": "stream",
     "text": [
      "C:\\ProgramData\\Anaconda3\\lib\\site-packages\\sklearn\\utils\\validation.py:724: DataConversionWarning: A column-vector y was passed when a 1d array was expected. Please change the shape of y to (n_samples, ), for example using ravel().\n",
      "  y = column_or_1d(y, warn=True)\n"
     ]
    },
    {
     "name": "stdout",
     "output_type": "stream",
     "text": [
      "[CV] .................... C=5, gamma=5e-05, score=0.557, total=  11.0s\n",
      "[CV] C=5, gamma=0.0001 ...............................................\n"
     ]
    },
    {
     "name": "stderr",
     "output_type": "stream",
     "text": [
      "C:\\ProgramData\\Anaconda3\\lib\\site-packages\\sklearn\\utils\\validation.py:724: DataConversionWarning: A column-vector y was passed when a 1d array was expected. Please change the shape of y to (n_samples, ), for example using ravel().\n",
      "  y = column_or_1d(y, warn=True)\n"
     ]
    },
    {
     "name": "stdout",
     "output_type": "stream",
     "text": [
      "[CV] ................... C=5, gamma=0.0001, score=0.545, total=  11.5s\n",
      "[CV] C=5, gamma=0.0001 ...............................................\n"
     ]
    },
    {
     "name": "stderr",
     "output_type": "stream",
     "text": [
      "C:\\ProgramData\\Anaconda3\\lib\\site-packages\\sklearn\\utils\\validation.py:724: DataConversionWarning: A column-vector y was passed when a 1d array was expected. Please change the shape of y to (n_samples, ), for example using ravel().\n",
      "  y = column_or_1d(y, warn=True)\n"
     ]
    },
    {
     "name": "stdout",
     "output_type": "stream",
     "text": [
      "[CV] ................... C=5, gamma=0.0001, score=0.555, total=  11.9s\n",
      "[CV] C=5, gamma=0.0001 ...............................................\n"
     ]
    },
    {
     "name": "stderr",
     "output_type": "stream",
     "text": [
      "C:\\ProgramData\\Anaconda3\\lib\\site-packages\\sklearn\\utils\\validation.py:724: DataConversionWarning: A column-vector y was passed when a 1d array was expected. Please change the shape of y to (n_samples, ), for example using ravel().\n",
      "  y = column_or_1d(y, warn=True)\n"
     ]
    },
    {
     "name": "stdout",
     "output_type": "stream",
     "text": [
      "[CV] ................... C=5, gamma=0.0001, score=0.563, total=  11.6s\n",
      "[CV] C=5, gamma=0.0001 ...............................................\n"
     ]
    },
    {
     "name": "stderr",
     "output_type": "stream",
     "text": [
      "C:\\ProgramData\\Anaconda3\\lib\\site-packages\\sklearn\\utils\\validation.py:724: DataConversionWarning: A column-vector y was passed when a 1d array was expected. Please change the shape of y to (n_samples, ), for example using ravel().\n",
      "  y = column_or_1d(y, warn=True)\n"
     ]
    },
    {
     "name": "stdout",
     "output_type": "stream",
     "text": [
      "[CV] ................... C=5, gamma=0.0001, score=0.554, total=  11.8s\n",
      "[CV] C=5, gamma=0.0001 ...............................................\n"
     ]
    },
    {
     "name": "stderr",
     "output_type": "stream",
     "text": [
      "C:\\ProgramData\\Anaconda3\\lib\\site-packages\\sklearn\\utils\\validation.py:724: DataConversionWarning: A column-vector y was passed when a 1d array was expected. Please change the shape of y to (n_samples, ), for example using ravel().\n",
      "  y = column_or_1d(y, warn=True)\n"
     ]
    },
    {
     "name": "stdout",
     "output_type": "stream",
     "text": [
      "[CV] ................... C=5, gamma=0.0001, score=0.557, total=  11.0s\n",
      "[CV] C=5, gamma=0.0005 ...............................................\n"
     ]
    },
    {
     "name": "stderr",
     "output_type": "stream",
     "text": [
      "C:\\ProgramData\\Anaconda3\\lib\\site-packages\\sklearn\\utils\\validation.py:724: DataConversionWarning: A column-vector y was passed when a 1d array was expected. Please change the shape of y to (n_samples, ), for example using ravel().\n",
      "  y = column_or_1d(y, warn=True)\n"
     ]
    },
    {
     "name": "stdout",
     "output_type": "stream",
     "text": [
      "[CV] ................... C=5, gamma=0.0005, score=0.545, total=  11.1s\n",
      "[CV] C=5, gamma=0.0005 ...............................................\n"
     ]
    },
    {
     "name": "stderr",
     "output_type": "stream",
     "text": [
      "C:\\ProgramData\\Anaconda3\\lib\\site-packages\\sklearn\\utils\\validation.py:724: DataConversionWarning: A column-vector y was passed when a 1d array was expected. Please change the shape of y to (n_samples, ), for example using ravel().\n",
      "  y = column_or_1d(y, warn=True)\n"
     ]
    },
    {
     "name": "stdout",
     "output_type": "stream",
     "text": [
      "[CV] ................... C=5, gamma=0.0005, score=0.555, total=  11.6s\n",
      "[CV] C=5, gamma=0.0005 ...............................................\n"
     ]
    },
    {
     "name": "stderr",
     "output_type": "stream",
     "text": [
      "C:\\ProgramData\\Anaconda3\\lib\\site-packages\\sklearn\\utils\\validation.py:724: DataConversionWarning: A column-vector y was passed when a 1d array was expected. Please change the shape of y to (n_samples, ), for example using ravel().\n",
      "  y = column_or_1d(y, warn=True)\n"
     ]
    },
    {
     "name": "stdout",
     "output_type": "stream",
     "text": [
      "[CV] ................... C=5, gamma=0.0005, score=0.563, total=  11.5s\n",
      "[CV] C=5, gamma=0.0005 ...............................................\n"
     ]
    },
    {
     "name": "stderr",
     "output_type": "stream",
     "text": [
      "C:\\ProgramData\\Anaconda3\\lib\\site-packages\\sklearn\\utils\\validation.py:724: DataConversionWarning: A column-vector y was passed when a 1d array was expected. Please change the shape of y to (n_samples, ), for example using ravel().\n",
      "  y = column_or_1d(y, warn=True)\n"
     ]
    },
    {
     "name": "stdout",
     "output_type": "stream",
     "text": [
      "[CV] ................... C=5, gamma=0.0005, score=0.554, total=  11.8s\n",
      "[CV] C=5, gamma=0.0005 ...............................................\n"
     ]
    },
    {
     "name": "stderr",
     "output_type": "stream",
     "text": [
      "C:\\ProgramData\\Anaconda3\\lib\\site-packages\\sklearn\\utils\\validation.py:724: DataConversionWarning: A column-vector y was passed when a 1d array was expected. Please change the shape of y to (n_samples, ), for example using ravel().\n",
      "  y = column_or_1d(y, warn=True)\n"
     ]
    },
    {
     "name": "stdout",
     "output_type": "stream",
     "text": [
      "[CV] ................... C=5, gamma=0.0005, score=0.557, total=  11.1s\n",
      "[CV] C=5, gamma=0.001 ................................................\n"
     ]
    },
    {
     "name": "stderr",
     "output_type": "stream",
     "text": [
      "C:\\ProgramData\\Anaconda3\\lib\\site-packages\\sklearn\\utils\\validation.py:724: DataConversionWarning: A column-vector y was passed when a 1d array was expected. Please change the shape of y to (n_samples, ), for example using ravel().\n",
      "  y = column_or_1d(y, warn=True)\n"
     ]
    },
    {
     "name": "stdout",
     "output_type": "stream",
     "text": [
      "[CV] .................... C=5, gamma=0.001, score=0.545, total=  11.3s\n",
      "[CV] C=5, gamma=0.001 ................................................\n"
     ]
    },
    {
     "name": "stderr",
     "output_type": "stream",
     "text": [
      "C:\\ProgramData\\Anaconda3\\lib\\site-packages\\sklearn\\utils\\validation.py:724: DataConversionWarning: A column-vector y was passed when a 1d array was expected. Please change the shape of y to (n_samples, ), for example using ravel().\n",
      "  y = column_or_1d(y, warn=True)\n"
     ]
    },
    {
     "name": "stdout",
     "output_type": "stream",
     "text": [
      "[CV] .................... C=5, gamma=0.001, score=0.555, total=  11.8s\n",
      "[CV] C=5, gamma=0.001 ................................................\n"
     ]
    },
    {
     "name": "stderr",
     "output_type": "stream",
     "text": [
      "C:\\ProgramData\\Anaconda3\\lib\\site-packages\\sklearn\\utils\\validation.py:724: DataConversionWarning: A column-vector y was passed when a 1d array was expected. Please change the shape of y to (n_samples, ), for example using ravel().\n",
      "  y = column_or_1d(y, warn=True)\n"
     ]
    },
    {
     "name": "stdout",
     "output_type": "stream",
     "text": [
      "[CV] .................... C=5, gamma=0.001, score=0.563, total=  11.6s\n",
      "[CV] C=5, gamma=0.001 ................................................\n"
     ]
    },
    {
     "name": "stderr",
     "output_type": "stream",
     "text": [
      "C:\\ProgramData\\Anaconda3\\lib\\site-packages\\sklearn\\utils\\validation.py:724: DataConversionWarning: A column-vector y was passed when a 1d array was expected. Please change the shape of y to (n_samples, ), for example using ravel().\n",
      "  y = column_or_1d(y, warn=True)\n"
     ]
    },
    {
     "name": "stdout",
     "output_type": "stream",
     "text": [
      "[CV] .................... C=5, gamma=0.001, score=0.554, total=  11.9s\n",
      "[CV] C=5, gamma=0.001 ................................................\n"
     ]
    },
    {
     "name": "stderr",
     "output_type": "stream",
     "text": [
      "C:\\ProgramData\\Anaconda3\\lib\\site-packages\\sklearn\\utils\\validation.py:724: DataConversionWarning: A column-vector y was passed when a 1d array was expected. Please change the shape of y to (n_samples, ), for example using ravel().\n",
      "  y = column_or_1d(y, warn=True)\n"
     ]
    },
    {
     "name": "stdout",
     "output_type": "stream",
     "text": [
      "[CV] .................... C=5, gamma=0.001, score=0.557, total=  11.0s\n",
      "[CV] C=10, gamma=1e-05 ...............................................\n"
     ]
    },
    {
     "name": "stderr",
     "output_type": "stream",
     "text": [
      "C:\\ProgramData\\Anaconda3\\lib\\site-packages\\sklearn\\utils\\validation.py:724: DataConversionWarning: A column-vector y was passed when a 1d array was expected. Please change the shape of y to (n_samples, ), for example using ravel().\n",
      "  y = column_or_1d(y, warn=True)\n"
     ]
    },
    {
     "name": "stdout",
     "output_type": "stream",
     "text": [
      "[CV] ................... C=10, gamma=1e-05, score=0.544, total=  19.1s\n",
      "[CV] C=10, gamma=1e-05 ...............................................\n"
     ]
    },
    {
     "name": "stderr",
     "output_type": "stream",
     "text": [
      "C:\\ProgramData\\Anaconda3\\lib\\site-packages\\sklearn\\utils\\validation.py:724: DataConversionWarning: A column-vector y was passed when a 1d array was expected. Please change the shape of y to (n_samples, ), for example using ravel().\n",
      "  y = column_or_1d(y, warn=True)\n"
     ]
    },
    {
     "name": "stdout",
     "output_type": "stream",
     "text": [
      "[CV] ................... C=10, gamma=1e-05, score=0.555, total=  19.2s\n",
      "[CV] C=10, gamma=1e-05 ...............................................\n"
     ]
    },
    {
     "name": "stderr",
     "output_type": "stream",
     "text": [
      "C:\\ProgramData\\Anaconda3\\lib\\site-packages\\sklearn\\utils\\validation.py:724: DataConversionWarning: A column-vector y was passed when a 1d array was expected. Please change the shape of y to (n_samples, ), for example using ravel().\n",
      "  y = column_or_1d(y, warn=True)\n"
     ]
    },
    {
     "name": "stdout",
     "output_type": "stream",
     "text": [
      "[CV] ................... C=10, gamma=1e-05, score=0.564, total=  19.1s\n",
      "[CV] C=10, gamma=1e-05 ...............................................\n"
     ]
    },
    {
     "name": "stderr",
     "output_type": "stream",
     "text": [
      "C:\\ProgramData\\Anaconda3\\lib\\site-packages\\sklearn\\utils\\validation.py:724: DataConversionWarning: A column-vector y was passed when a 1d array was expected. Please change the shape of y to (n_samples, ), for example using ravel().\n",
      "  y = column_or_1d(y, warn=True)\n"
     ]
    },
    {
     "name": "stdout",
     "output_type": "stream",
     "text": [
      "[CV] ................... C=10, gamma=1e-05, score=0.555, total=  19.7s\n",
      "[CV] C=10, gamma=1e-05 ...............................................\n"
     ]
    },
    {
     "name": "stderr",
     "output_type": "stream",
     "text": [
      "C:\\ProgramData\\Anaconda3\\lib\\site-packages\\sklearn\\utils\\validation.py:724: DataConversionWarning: A column-vector y was passed when a 1d array was expected. Please change the shape of y to (n_samples, ), for example using ravel().\n",
      "  y = column_or_1d(y, warn=True)\n"
     ]
    },
    {
     "name": "stdout",
     "output_type": "stream",
     "text": [
      "[CV] ................... C=10, gamma=1e-05, score=0.557, total=  18.3s\n",
      "[CV] C=10, gamma=5e-05 ...............................................\n"
     ]
    },
    {
     "name": "stderr",
     "output_type": "stream",
     "text": [
      "C:\\ProgramData\\Anaconda3\\lib\\site-packages\\sklearn\\utils\\validation.py:724: DataConversionWarning: A column-vector y was passed when a 1d array was expected. Please change the shape of y to (n_samples, ), for example using ravel().\n",
      "  y = column_or_1d(y, warn=True)\n"
     ]
    },
    {
     "name": "stdout",
     "output_type": "stream",
     "text": [
      "[CV] ................... C=10, gamma=5e-05, score=0.544, total=  19.2s\n",
      "[CV] C=10, gamma=5e-05 ...............................................\n"
     ]
    },
    {
     "name": "stderr",
     "output_type": "stream",
     "text": [
      "C:\\ProgramData\\Anaconda3\\lib\\site-packages\\sklearn\\utils\\validation.py:724: DataConversionWarning: A column-vector y was passed when a 1d array was expected. Please change the shape of y to (n_samples, ), for example using ravel().\n",
      "  y = column_or_1d(y, warn=True)\n"
     ]
    },
    {
     "name": "stdout",
     "output_type": "stream",
     "text": [
      "[CV] ................... C=10, gamma=5e-05, score=0.555, total=  19.5s\n",
      "[CV] C=10, gamma=5e-05 ...............................................\n"
     ]
    },
    {
     "name": "stderr",
     "output_type": "stream",
     "text": [
      "C:\\ProgramData\\Anaconda3\\lib\\site-packages\\sklearn\\utils\\validation.py:724: DataConversionWarning: A column-vector y was passed when a 1d array was expected. Please change the shape of y to (n_samples, ), for example using ravel().\n",
      "  y = column_or_1d(y, warn=True)\n"
     ]
    },
    {
     "name": "stdout",
     "output_type": "stream",
     "text": [
      "[CV] ................... C=10, gamma=5e-05, score=0.564, total=  19.4s\n",
      "[CV] C=10, gamma=5e-05 ...............................................\n"
     ]
    },
    {
     "name": "stderr",
     "output_type": "stream",
     "text": [
      "C:\\ProgramData\\Anaconda3\\lib\\site-packages\\sklearn\\utils\\validation.py:724: DataConversionWarning: A column-vector y was passed when a 1d array was expected. Please change the shape of y to (n_samples, ), for example using ravel().\n",
      "  y = column_or_1d(y, warn=True)\n"
     ]
    },
    {
     "name": "stdout",
     "output_type": "stream",
     "text": [
      "[CV] ................... C=10, gamma=5e-05, score=0.555, total=  19.7s\n",
      "[CV] C=10, gamma=5e-05 ...............................................\n"
     ]
    },
    {
     "name": "stderr",
     "output_type": "stream",
     "text": [
      "C:\\ProgramData\\Anaconda3\\lib\\site-packages\\sklearn\\utils\\validation.py:724: DataConversionWarning: A column-vector y was passed when a 1d array was expected. Please change the shape of y to (n_samples, ), for example using ravel().\n",
      "  y = column_or_1d(y, warn=True)\n"
     ]
    },
    {
     "name": "stdout",
     "output_type": "stream",
     "text": [
      "[CV] ................... C=10, gamma=5e-05, score=0.557, total=  18.0s\n",
      "[CV] C=10, gamma=0.0001 ..............................................\n"
     ]
    },
    {
     "name": "stderr",
     "output_type": "stream",
     "text": [
      "C:\\ProgramData\\Anaconda3\\lib\\site-packages\\sklearn\\utils\\validation.py:724: DataConversionWarning: A column-vector y was passed when a 1d array was expected. Please change the shape of y to (n_samples, ), for example using ravel().\n",
      "  y = column_or_1d(y, warn=True)\n"
     ]
    },
    {
     "name": "stdout",
     "output_type": "stream",
     "text": [
      "[CV] .................. C=10, gamma=0.0001, score=0.544, total=  19.0s\n",
      "[CV] C=10, gamma=0.0001 ..............................................\n"
     ]
    },
    {
     "name": "stderr",
     "output_type": "stream",
     "text": [
      "C:\\ProgramData\\Anaconda3\\lib\\site-packages\\sklearn\\utils\\validation.py:724: DataConversionWarning: A column-vector y was passed when a 1d array was expected. Please change the shape of y to (n_samples, ), for example using ravel().\n",
      "  y = column_or_1d(y, warn=True)\n"
     ]
    },
    {
     "name": "stdout",
     "output_type": "stream",
     "text": [
      "[CV] .................. C=10, gamma=0.0001, score=0.555, total=  19.4s\n",
      "[CV] C=10, gamma=0.0001 ..............................................\n"
     ]
    },
    {
     "name": "stderr",
     "output_type": "stream",
     "text": [
      "C:\\ProgramData\\Anaconda3\\lib\\site-packages\\sklearn\\utils\\validation.py:724: DataConversionWarning: A column-vector y was passed when a 1d array was expected. Please change the shape of y to (n_samples, ), for example using ravel().\n",
      "  y = column_or_1d(y, warn=True)\n"
     ]
    },
    {
     "name": "stdout",
     "output_type": "stream",
     "text": [
      "[CV] .................. C=10, gamma=0.0001, score=0.564, total=  19.4s\n",
      "[CV] C=10, gamma=0.0001 ..............................................\n"
     ]
    },
    {
     "name": "stderr",
     "output_type": "stream",
     "text": [
      "C:\\ProgramData\\Anaconda3\\lib\\site-packages\\sklearn\\utils\\validation.py:724: DataConversionWarning: A column-vector y was passed when a 1d array was expected. Please change the shape of y to (n_samples, ), for example using ravel().\n",
      "  y = column_or_1d(y, warn=True)\n"
     ]
    },
    {
     "name": "stdout",
     "output_type": "stream",
     "text": [
      "[CV] .................. C=10, gamma=0.0001, score=0.555, total=  20.0s\n",
      "[CV] C=10, gamma=0.0001 ..............................................\n"
     ]
    },
    {
     "name": "stderr",
     "output_type": "stream",
     "text": [
      "C:\\ProgramData\\Anaconda3\\lib\\site-packages\\sklearn\\utils\\validation.py:724: DataConversionWarning: A column-vector y was passed when a 1d array was expected. Please change the shape of y to (n_samples, ), for example using ravel().\n",
      "  y = column_or_1d(y, warn=True)\n"
     ]
    },
    {
     "name": "stdout",
     "output_type": "stream",
     "text": [
      "[CV] .................. C=10, gamma=0.0001, score=0.557, total=  17.8s\n",
      "[CV] C=10, gamma=0.0005 ..............................................\n"
     ]
    },
    {
     "name": "stderr",
     "output_type": "stream",
     "text": [
      "C:\\ProgramData\\Anaconda3\\lib\\site-packages\\sklearn\\utils\\validation.py:724: DataConversionWarning: A column-vector y was passed when a 1d array was expected. Please change the shape of y to (n_samples, ), for example using ravel().\n",
      "  y = column_or_1d(y, warn=True)\n"
     ]
    },
    {
     "name": "stdout",
     "output_type": "stream",
     "text": [
      "[CV] .................. C=10, gamma=0.0005, score=0.544, total=  19.0s\n",
      "[CV] C=10, gamma=0.0005 ..............................................\n"
     ]
    },
    {
     "name": "stderr",
     "output_type": "stream",
     "text": [
      "C:\\ProgramData\\Anaconda3\\lib\\site-packages\\sklearn\\utils\\validation.py:724: DataConversionWarning: A column-vector y was passed when a 1d array was expected. Please change the shape of y to (n_samples, ), for example using ravel().\n",
      "  y = column_or_1d(y, warn=True)\n"
     ]
    },
    {
     "name": "stdout",
     "output_type": "stream",
     "text": [
      "[CV] .................. C=10, gamma=0.0005, score=0.555, total=  19.1s\n",
      "[CV] C=10, gamma=0.0005 ..............................................\n"
     ]
    },
    {
     "name": "stderr",
     "output_type": "stream",
     "text": [
      "C:\\ProgramData\\Anaconda3\\lib\\site-packages\\sklearn\\utils\\validation.py:724: DataConversionWarning: A column-vector y was passed when a 1d array was expected. Please change the shape of y to (n_samples, ), for example using ravel().\n",
      "  y = column_or_1d(y, warn=True)\n"
     ]
    },
    {
     "name": "stdout",
     "output_type": "stream",
     "text": [
      "[CV] .................. C=10, gamma=0.0005, score=0.564, total=  19.3s\n",
      "[CV] C=10, gamma=0.0005 ..............................................\n"
     ]
    },
    {
     "name": "stderr",
     "output_type": "stream",
     "text": [
      "C:\\ProgramData\\Anaconda3\\lib\\site-packages\\sklearn\\utils\\validation.py:724: DataConversionWarning: A column-vector y was passed when a 1d array was expected. Please change the shape of y to (n_samples, ), for example using ravel().\n",
      "  y = column_or_1d(y, warn=True)\n"
     ]
    },
    {
     "name": "stdout",
     "output_type": "stream",
     "text": [
      "[CV] .................. C=10, gamma=0.0005, score=0.555, total=  19.9s\n",
      "[CV] C=10, gamma=0.0005 ..............................................\n"
     ]
    },
    {
     "name": "stderr",
     "output_type": "stream",
     "text": [
      "C:\\ProgramData\\Anaconda3\\lib\\site-packages\\sklearn\\utils\\validation.py:724: DataConversionWarning: A column-vector y was passed when a 1d array was expected. Please change the shape of y to (n_samples, ), for example using ravel().\n",
      "  y = column_or_1d(y, warn=True)\n"
     ]
    },
    {
     "name": "stdout",
     "output_type": "stream",
     "text": [
      "[CV] .................. C=10, gamma=0.0005, score=0.557, total=  18.3s\n",
      "[CV] C=10, gamma=0.001 ...............................................\n"
     ]
    },
    {
     "name": "stderr",
     "output_type": "stream",
     "text": [
      "C:\\ProgramData\\Anaconda3\\lib\\site-packages\\sklearn\\utils\\validation.py:724: DataConversionWarning: A column-vector y was passed when a 1d array was expected. Please change the shape of y to (n_samples, ), for example using ravel().\n",
      "  y = column_or_1d(y, warn=True)\n"
     ]
    },
    {
     "name": "stdout",
     "output_type": "stream",
     "text": [
      "[CV] ................... C=10, gamma=0.001, score=0.544, total=  19.8s\n",
      "[CV] C=10, gamma=0.001 ...............................................\n"
     ]
    },
    {
     "name": "stderr",
     "output_type": "stream",
     "text": [
      "C:\\ProgramData\\Anaconda3\\lib\\site-packages\\sklearn\\utils\\validation.py:724: DataConversionWarning: A column-vector y was passed when a 1d array was expected. Please change the shape of y to (n_samples, ), for example using ravel().\n",
      "  y = column_or_1d(y, warn=True)\n"
     ]
    },
    {
     "name": "stdout",
     "output_type": "stream",
     "text": [
      "[CV] ................... C=10, gamma=0.001, score=0.555, total=  20.6s\n",
      "[CV] C=10, gamma=0.001 ...............................................\n"
     ]
    },
    {
     "name": "stderr",
     "output_type": "stream",
     "text": [
      "C:\\ProgramData\\Anaconda3\\lib\\site-packages\\sklearn\\utils\\validation.py:724: DataConversionWarning: A column-vector y was passed when a 1d array was expected. Please change the shape of y to (n_samples, ), for example using ravel().\n",
      "  y = column_or_1d(y, warn=True)\n"
     ]
    },
    {
     "name": "stdout",
     "output_type": "stream",
     "text": [
      "[CV] ................... C=10, gamma=0.001, score=0.564, total=  20.0s\n",
      "[CV] C=10, gamma=0.001 ...............................................\n"
     ]
    },
    {
     "name": "stderr",
     "output_type": "stream",
     "text": [
      "C:\\ProgramData\\Anaconda3\\lib\\site-packages\\sklearn\\utils\\validation.py:724: DataConversionWarning: A column-vector y was passed when a 1d array was expected. Please change the shape of y to (n_samples, ), for example using ravel().\n",
      "  y = column_or_1d(y, warn=True)\n"
     ]
    },
    {
     "name": "stdout",
     "output_type": "stream",
     "text": [
      "[CV] ................... C=10, gamma=0.001, score=0.555, total=  19.8s\n",
      "[CV] C=10, gamma=0.001 ...............................................\n"
     ]
    },
    {
     "name": "stderr",
     "output_type": "stream",
     "text": [
      "C:\\ProgramData\\Anaconda3\\lib\\site-packages\\sklearn\\utils\\validation.py:724: DataConversionWarning: A column-vector y was passed when a 1d array was expected. Please change the shape of y to (n_samples, ), for example using ravel().\n",
      "  y = column_or_1d(y, warn=True)\n"
     ]
    },
    {
     "name": "stdout",
     "output_type": "stream",
     "text": [
      "[CV] ................... C=10, gamma=0.001, score=0.557, total=  17.9s\n",
      "[CV] C=15, gamma=1e-05 ...............................................\n"
     ]
    },
    {
     "name": "stderr",
     "output_type": "stream",
     "text": [
      "C:\\ProgramData\\Anaconda3\\lib\\site-packages\\sklearn\\utils\\validation.py:724: DataConversionWarning: A column-vector y was passed when a 1d array was expected. Please change the shape of y to (n_samples, ), for example using ravel().\n",
      "  y = column_or_1d(y, warn=True)\n"
     ]
    },
    {
     "name": "stdout",
     "output_type": "stream",
     "text": [
      "[CV] ................... C=15, gamma=1e-05, score=0.545, total= 2.6min\n",
      "[CV] C=15, gamma=1e-05 ...............................................\n"
     ]
    },
    {
     "name": "stderr",
     "output_type": "stream",
     "text": [
      "C:\\ProgramData\\Anaconda3\\lib\\site-packages\\sklearn\\utils\\validation.py:724: DataConversionWarning: A column-vector y was passed when a 1d array was expected. Please change the shape of y to (n_samples, ), for example using ravel().\n",
      "  y = column_or_1d(y, warn=True)\n"
     ]
    },
    {
     "name": "stdout",
     "output_type": "stream",
     "text": [
      "[CV] ................... C=15, gamma=1e-05, score=0.555, total= 3.2min\n",
      "[CV] C=15, gamma=1e-05 ...............................................\n"
     ]
    },
    {
     "name": "stderr",
     "output_type": "stream",
     "text": [
      "C:\\ProgramData\\Anaconda3\\lib\\site-packages\\sklearn\\utils\\validation.py:724: DataConversionWarning: A column-vector y was passed when a 1d array was expected. Please change the shape of y to (n_samples, ), for example using ravel().\n",
      "  y = column_or_1d(y, warn=True)\n"
     ]
    },
    {
     "name": "stdout",
     "output_type": "stream",
     "text": [
      "[CV] ................... C=15, gamma=1e-05, score=0.563, total= 3.6min\n",
      "[CV] C=15, gamma=1e-05 ...............................................\n"
     ]
    },
    {
     "name": "stderr",
     "output_type": "stream",
     "text": [
      "C:\\ProgramData\\Anaconda3\\lib\\site-packages\\sklearn\\utils\\validation.py:724: DataConversionWarning: A column-vector y was passed when a 1d array was expected. Please change the shape of y to (n_samples, ), for example using ravel().\n",
      "  y = column_or_1d(y, warn=True)\n"
     ]
    },
    {
     "name": "stdout",
     "output_type": "stream",
     "text": [
      "[CV] ................... C=15, gamma=1e-05, score=0.555, total= 3.7min\n",
      "[CV] C=15, gamma=1e-05 ...............................................\n"
     ]
    },
    {
     "name": "stderr",
     "output_type": "stream",
     "text": [
      "C:\\ProgramData\\Anaconda3\\lib\\site-packages\\sklearn\\utils\\validation.py:724: DataConversionWarning: A column-vector y was passed when a 1d array was expected. Please change the shape of y to (n_samples, ), for example using ravel().\n",
      "  y = column_or_1d(y, warn=True)\n"
     ]
    },
    {
     "name": "stdout",
     "output_type": "stream",
     "text": [
      "[CV] ................... C=15, gamma=1e-05, score=0.557, total= 1.1min\n",
      "[CV] C=15, gamma=5e-05 ...............................................\n"
     ]
    },
    {
     "name": "stderr",
     "output_type": "stream",
     "text": [
      "C:\\ProgramData\\Anaconda3\\lib\\site-packages\\sklearn\\utils\\validation.py:724: DataConversionWarning: A column-vector y was passed when a 1d array was expected. Please change the shape of y to (n_samples, ), for example using ravel().\n",
      "  y = column_or_1d(y, warn=True)\n"
     ]
    },
    {
     "name": "stdout",
     "output_type": "stream",
     "text": [
      "[CV] ................... C=15, gamma=5e-05, score=0.545, total= 2.7min\n",
      "[CV] C=15, gamma=5e-05 ...............................................\n"
     ]
    },
    {
     "name": "stderr",
     "output_type": "stream",
     "text": [
      "C:\\ProgramData\\Anaconda3\\lib\\site-packages\\sklearn\\utils\\validation.py:724: DataConversionWarning: A column-vector y was passed when a 1d array was expected. Please change the shape of y to (n_samples, ), for example using ravel().\n",
      "  y = column_or_1d(y, warn=True)\n"
     ]
    },
    {
     "name": "stdout",
     "output_type": "stream",
     "text": [
      "[CV] ................... C=15, gamma=5e-05, score=0.555, total= 3.2min\n",
      "[CV] C=15, gamma=5e-05 ...............................................\n"
     ]
    },
    {
     "name": "stderr",
     "output_type": "stream",
     "text": [
      "C:\\ProgramData\\Anaconda3\\lib\\site-packages\\sklearn\\utils\\validation.py:724: DataConversionWarning: A column-vector y was passed when a 1d array was expected. Please change the shape of y to (n_samples, ), for example using ravel().\n",
      "  y = column_or_1d(y, warn=True)\n"
     ]
    },
    {
     "name": "stdout",
     "output_type": "stream",
     "text": [
      "[CV] ................... C=15, gamma=5e-05, score=0.563, total= 3.6min\n",
      "[CV] C=15, gamma=5e-05 ...............................................\n"
     ]
    },
    {
     "name": "stderr",
     "output_type": "stream",
     "text": [
      "C:\\ProgramData\\Anaconda3\\lib\\site-packages\\sklearn\\utils\\validation.py:724: DataConversionWarning: A column-vector y was passed when a 1d array was expected. Please change the shape of y to (n_samples, ), for example using ravel().\n",
      "  y = column_or_1d(y, warn=True)\n"
     ]
    },
    {
     "name": "stdout",
     "output_type": "stream",
     "text": [
      "[CV] ................... C=15, gamma=5e-05, score=0.555, total= 3.6min\n",
      "[CV] C=15, gamma=5e-05 ...............................................\n"
     ]
    },
    {
     "name": "stderr",
     "output_type": "stream",
     "text": [
      "C:\\ProgramData\\Anaconda3\\lib\\site-packages\\sklearn\\utils\\validation.py:724: DataConversionWarning: A column-vector y was passed when a 1d array was expected. Please change the shape of y to (n_samples, ), for example using ravel().\n",
      "  y = column_or_1d(y, warn=True)\n"
     ]
    },
    {
     "name": "stdout",
     "output_type": "stream",
     "text": [
      "[CV] ................... C=15, gamma=5e-05, score=0.557, total= 1.1min\n",
      "[CV] C=15, gamma=0.0001 ..............................................\n"
     ]
    },
    {
     "name": "stderr",
     "output_type": "stream",
     "text": [
      "C:\\ProgramData\\Anaconda3\\lib\\site-packages\\sklearn\\utils\\validation.py:724: DataConversionWarning: A column-vector y was passed when a 1d array was expected. Please change the shape of y to (n_samples, ), for example using ravel().\n",
      "  y = column_or_1d(y, warn=True)\n"
     ]
    },
    {
     "name": "stdout",
     "output_type": "stream",
     "text": [
      "[CV] .................. C=15, gamma=0.0001, score=0.545, total= 2.8min\n",
      "[CV] C=15, gamma=0.0001 ..............................................\n"
     ]
    },
    {
     "name": "stderr",
     "output_type": "stream",
     "text": [
      "C:\\ProgramData\\Anaconda3\\lib\\site-packages\\sklearn\\utils\\validation.py:724: DataConversionWarning: A column-vector y was passed when a 1d array was expected. Please change the shape of y to (n_samples, ), for example using ravel().\n",
      "  y = column_or_1d(y, warn=True)\n"
     ]
    },
    {
     "name": "stdout",
     "output_type": "stream",
     "text": [
      "[CV] .................. C=15, gamma=0.0001, score=0.555, total= 3.3min\n",
      "[CV] C=15, gamma=0.0001 ..............................................\n"
     ]
    },
    {
     "name": "stderr",
     "output_type": "stream",
     "text": [
      "C:\\ProgramData\\Anaconda3\\lib\\site-packages\\sklearn\\utils\\validation.py:724: DataConversionWarning: A column-vector y was passed when a 1d array was expected. Please change the shape of y to (n_samples, ), for example using ravel().\n",
      "  y = column_or_1d(y, warn=True)\n"
     ]
    },
    {
     "name": "stdout",
     "output_type": "stream",
     "text": [
      "[CV] .................. C=15, gamma=0.0001, score=0.563, total= 3.8min\n",
      "[CV] C=15, gamma=0.0001 ..............................................\n"
     ]
    },
    {
     "name": "stderr",
     "output_type": "stream",
     "text": [
      "C:\\ProgramData\\Anaconda3\\lib\\site-packages\\sklearn\\utils\\validation.py:724: DataConversionWarning: A column-vector y was passed when a 1d array was expected. Please change the shape of y to (n_samples, ), for example using ravel().\n",
      "  y = column_or_1d(y, warn=True)\n"
     ]
    },
    {
     "name": "stdout",
     "output_type": "stream",
     "text": [
      "[CV] .................. C=15, gamma=0.0001, score=0.555, total= 3.8min\n",
      "[CV] C=15, gamma=0.0001 ..............................................\n"
     ]
    },
    {
     "name": "stderr",
     "output_type": "stream",
     "text": [
      "C:\\ProgramData\\Anaconda3\\lib\\site-packages\\sklearn\\utils\\validation.py:724: DataConversionWarning: A column-vector y was passed when a 1d array was expected. Please change the shape of y to (n_samples, ), for example using ravel().\n",
      "  y = column_or_1d(y, warn=True)\n"
     ]
    },
    {
     "name": "stdout",
     "output_type": "stream",
     "text": [
      "[CV] .................. C=15, gamma=0.0001, score=0.557, total= 1.1min\n",
      "[CV] C=15, gamma=0.0005 ..............................................\n"
     ]
    },
    {
     "name": "stderr",
     "output_type": "stream",
     "text": [
      "C:\\ProgramData\\Anaconda3\\lib\\site-packages\\sklearn\\utils\\validation.py:724: DataConversionWarning: A column-vector y was passed when a 1d array was expected. Please change the shape of y to (n_samples, ), for example using ravel().\n",
      "  y = column_or_1d(y, warn=True)\n"
     ]
    },
    {
     "name": "stdout",
     "output_type": "stream",
     "text": [
      "[CV] .................. C=15, gamma=0.0005, score=0.545, total= 2.8min\n",
      "[CV] C=15, gamma=0.0005 ..............................................\n"
     ]
    },
    {
     "name": "stderr",
     "output_type": "stream",
     "text": [
      "C:\\ProgramData\\Anaconda3\\lib\\site-packages\\sklearn\\utils\\validation.py:724: DataConversionWarning: A column-vector y was passed when a 1d array was expected. Please change the shape of y to (n_samples, ), for example using ravel().\n",
      "  y = column_or_1d(y, warn=True)\n"
     ]
    },
    {
     "name": "stdout",
     "output_type": "stream",
     "text": [
      "[CV] .................. C=15, gamma=0.0005, score=0.555, total= 3.3min\n",
      "[CV] C=15, gamma=0.0005 ..............................................\n"
     ]
    },
    {
     "name": "stderr",
     "output_type": "stream",
     "text": [
      "C:\\ProgramData\\Anaconda3\\lib\\site-packages\\sklearn\\utils\\validation.py:724: DataConversionWarning: A column-vector y was passed when a 1d array was expected. Please change the shape of y to (n_samples, ), for example using ravel().\n",
      "  y = column_or_1d(y, warn=True)\n"
     ]
    },
    {
     "name": "stdout",
     "output_type": "stream",
     "text": [
      "[CV] .................. C=15, gamma=0.0005, score=0.563, total= 3.6min\n",
      "[CV] C=15, gamma=0.0005 ..............................................\n"
     ]
    },
    {
     "name": "stderr",
     "output_type": "stream",
     "text": [
      "C:\\ProgramData\\Anaconda3\\lib\\site-packages\\sklearn\\utils\\validation.py:724: DataConversionWarning: A column-vector y was passed when a 1d array was expected. Please change the shape of y to (n_samples, ), for example using ravel().\n",
      "  y = column_or_1d(y, warn=True)\n"
     ]
    },
    {
     "name": "stdout",
     "output_type": "stream",
     "text": [
      "[CV] .................. C=15, gamma=0.0005, score=0.555, total= 3.7min\n",
      "[CV] C=15, gamma=0.0005 ..............................................\n"
     ]
    },
    {
     "name": "stderr",
     "output_type": "stream",
     "text": [
      "C:\\ProgramData\\Anaconda3\\lib\\site-packages\\sklearn\\utils\\validation.py:724: DataConversionWarning: A column-vector y was passed when a 1d array was expected. Please change the shape of y to (n_samples, ), for example using ravel().\n",
      "  y = column_or_1d(y, warn=True)\n"
     ]
    },
    {
     "name": "stdout",
     "output_type": "stream",
     "text": [
      "[CV] .................. C=15, gamma=0.0005, score=0.557, total= 1.1min\n",
      "[CV] C=15, gamma=0.001 ...............................................\n"
     ]
    },
    {
     "name": "stderr",
     "output_type": "stream",
     "text": [
      "C:\\ProgramData\\Anaconda3\\lib\\site-packages\\sklearn\\utils\\validation.py:724: DataConversionWarning: A column-vector y was passed when a 1d array was expected. Please change the shape of y to (n_samples, ), for example using ravel().\n",
      "  y = column_or_1d(y, warn=True)\n"
     ]
    },
    {
     "name": "stdout",
     "output_type": "stream",
     "text": [
      "[CV] ................... C=15, gamma=0.001, score=0.545, total= 2.7min\n",
      "[CV] C=15, gamma=0.001 ...............................................\n"
     ]
    },
    {
     "name": "stderr",
     "output_type": "stream",
     "text": [
      "C:\\ProgramData\\Anaconda3\\lib\\site-packages\\sklearn\\utils\\validation.py:724: DataConversionWarning: A column-vector y was passed when a 1d array was expected. Please change the shape of y to (n_samples, ), for example using ravel().\n",
      "  y = column_or_1d(y, warn=True)\n"
     ]
    },
    {
     "name": "stdout",
     "output_type": "stream",
     "text": [
      "[CV] ................... C=15, gamma=0.001, score=0.555, total= 3.3min\n",
      "[CV] C=15, gamma=0.001 ...............................................\n"
     ]
    },
    {
     "name": "stderr",
     "output_type": "stream",
     "text": [
      "C:\\ProgramData\\Anaconda3\\lib\\site-packages\\sklearn\\utils\\validation.py:724: DataConversionWarning: A column-vector y was passed when a 1d array was expected. Please change the shape of y to (n_samples, ), for example using ravel().\n",
      "  y = column_or_1d(y, warn=True)\n"
     ]
    },
    {
     "name": "stdout",
     "output_type": "stream",
     "text": [
      "[CV] ................... C=15, gamma=0.001, score=0.563, total= 3.6min\n",
      "[CV] C=15, gamma=0.001 ...............................................\n"
     ]
    },
    {
     "name": "stderr",
     "output_type": "stream",
     "text": [
      "C:\\ProgramData\\Anaconda3\\lib\\site-packages\\sklearn\\utils\\validation.py:724: DataConversionWarning: A column-vector y was passed when a 1d array was expected. Please change the shape of y to (n_samples, ), for example using ravel().\n",
      "  y = column_or_1d(y, warn=True)\n"
     ]
    },
    {
     "name": "stdout",
     "output_type": "stream",
     "text": [
      "[CV] ................... C=15, gamma=0.001, score=0.555, total= 3.7min\n",
      "[CV] C=15, gamma=0.001 ...............................................\n"
     ]
    },
    {
     "name": "stderr",
     "output_type": "stream",
     "text": [
      "C:\\ProgramData\\Anaconda3\\lib\\site-packages\\sklearn\\utils\\validation.py:724: DataConversionWarning: A column-vector y was passed when a 1d array was expected. Please change the shape of y to (n_samples, ), for example using ravel().\n",
      "  y = column_or_1d(y, warn=True)\n"
     ]
    },
    {
     "name": "stdout",
     "output_type": "stream",
     "text": [
      "[CV] ................... C=15, gamma=0.001, score=0.557, total= 1.1min\n"
     ]
    },
    {
     "name": "stderr",
     "output_type": "stream",
     "text": [
      "[Parallel(n_jobs=1)]: Done 100 out of 100 | elapsed: 87.2min finished\n",
      "C:\\ProgramData\\Anaconda3\\lib\\site-packages\\sklearn\\utils\\validation.py:724: DataConversionWarning: A column-vector y was passed when a 1d array was expected. Please change the shape of y to (n_samples, ), for example using ravel().\n",
      "  y = column_or_1d(y, warn=True)\n"
     ]
    }
   ],
   "source": [
    "# Train the model with GridSearch\n",
    "gridModel.fit(X_train_scaled, y_train)"
   ]
  },
  {
   "cell_type": "code",
   "execution_count": null,
   "metadata": {},
   "outputs": [],
   "source": [
    "# List best parameters and best score\n",
    "print(gridModel.best_params_)\n",
    "print(gridModel.best_score_)"
   ]
  },
  {
   "cell_type": "code",
   "execution_count": null,
   "metadata": {},
   "outputs": [],
   "source": [
    "# Testing the model\n",
    "print(f\"Training Data Score: {gridModel.score(X_train_scaled, y_train)}\")\n",
    "print(f\"Testing Data Score: {gridModel.score(X_test_scaled, y_test)}\")"
   ]
  },
  {
   "cell_type": "code",
   "execution_count": null,
   "metadata": {},
   "outputs": [],
   "source": [
    "# Make predictions with the hypertuned model\n",
    "predictions = gridModel.predict(X_test)\n",
    "y_test_df = y_test.ravel()\n",
    "\n",
    "prediction_df = pd.DataFrame({'predicted_values': predictions,\n",
    "                   'Values_from_data': y_test_df})\n",
    "prediction_df"
   ]
  },
  {
   "cell_type": "markdown",
   "metadata": {},
   "source": [
    "## Model"
   ]
  },
  {
   "cell_type": "code",
   "execution_count": null,
   "metadata": {},
   "outputs": [],
   "source": [
    "# SAVE MODEL\n",
    "# save your model by updating \"your_name\" with your name\n",
    "# and \"your_model\" with your model variable\n",
    "# be sure to turn this in to BCS\n",
    "# if joblib fails to import, try running the command to install in terminal/git-bash\n",
    "import joblib\n",
    "filename = 'Model01_gridModel.sav'\n",
    "joblib.dump(gridModel, filename)"
   ]
  }
 ],
 "metadata": {
  "kernelspec": {
   "display_name": "Python 3",
   "language": "python",
   "name": "python3"
  },
  "language_info": {
   "codemirror_mode": {
    "name": "ipython",
    "version": 3
   },
   "file_extension": ".py",
   "mimetype": "text/x-python",
   "name": "python",
   "nbconvert_exporter": "python",
   "pygments_lexer": "ipython3",
   "version": "3.7.4"
  }
 },
 "nbformat": 4,
 "nbformat_minor": 4
}
